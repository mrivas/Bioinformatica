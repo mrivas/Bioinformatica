{
 "cells": [
  {
   "cell_type": "markdown",
   "metadata": {},
   "source": [
    "# Desafíos y diccionarios\n",
    "## Revisión de desafíos ayudantía 1 \n",
    "## Diccionarios:\n",
    "Los diccionarios son otra forma de guardar información, pero a diferencia de una variable o una lista, esta nos permite asociar cierta información a un dato, por ejemplo cuantas veces se repiten ciertas secuencias en un código o que valor se le asigna a un par de datos en una matriz. Entonces tenemos 2 componentes en este diccionario, el objeto del que queremos información y su información asociada. A la palabra, secuencia, vector o lo que usemos como objeto se le suele llamar \"key\" :"
   ]
  },
  {
   "cell_type": "code",
   "execution_count": 1,
   "metadata": {},
   "outputs": [
    {
     "name": "stdout",
     "output_type": "stream",
     "text": [
      "{'manzana': 'roja', 'uva': 'morada', 'pera': 'verde'}\n",
      "verde\n",
      "verde\n",
      "{'manzana': 'verde', 'uva': 'morada', 'pera': 'verde'}\n",
      "3\n",
      "5\n"
     ]
    }
   ],
   "source": [
    "#crear un diccionario vacio:\n",
    "frutcol={}\n",
    "#llenar diccionario con frutas como objeto y color como información\n",
    "frutcol[\"manzana\"]=\"roja\"\n",
    "frutcol[\"uva\"]=\"morada\"\n",
    "frutcol[\"pera\"]=\"verde\"\n",
    "#imprimir diccionario\n",
    "print(frutcol)\n",
    "#imprimir la información de \"pera\"\n",
    "print(frutcol[\"pera\"])\n",
    "#cambiar la información de \"manzana\"\n",
    "frutcol[\"manzana\"]=\"verde\"\n",
    "print(frutcol[\"manzana\"])\n",
    "print(frutcol)\n",
    "#imprime el largo del diccionario\n",
    "print(len(frutcol))\n",
    "#buscar qué ramo toma mayor número de horas de estudio\n",
    "hrstdio={\"Química\":2, \"Biología\":5, \"Cálculo\":4, \"Computación\":2, \"Álgebra\":3}\n",
    "def MaxHrs(dName):\n",
    "    maxH=0\n",
    "    for ramo in dName:\n",
    "        if dName[ramo]>=maxH:\n",
    "            maxH=dName[ramo]\n",
    "    return maxH\n",
    "print(MaxHrs(hrstdio))"
   ]
  },
  {
   "cell_type": "markdown",
   "metadata": {},
   "source": [
    "## Ejercicio:\n",
    "Ocupando el último diccionario creado, busquen la forma de obtener:\\\n",
    "    1.El nombre del ramo al que se le dedican más horas de estudio.\\\n",
    "    2.El promedio de horas de estudio"
   ]
  },
  {
   "cell_type": "code",
   "execution_count": 7,
   "metadata": {},
   "outputs": [
    {
     "name": "stdout",
     "output_type": "stream",
     "text": [
      "(5, 'Biología')\n",
      "3.2\n"
     ]
    }
   ],
   "source": [
    "hrstdio={\"Química\":2, \"Biología\":5, \"Cálculo\":4, \"Computación\":2, \"Álgebra\":3}\n",
    "def MaxRamo(nombdic):\n",
    "    maxH=0\n",
    "    for ramo in nombdic:\n",
    "        if nombdic[ramo]>=maxH:\n",
    "            maxH=nombdic[ramo]\n",
    "            maxramo=ramo\n",
    "    return (maxH,maxramo)\n",
    "print(MaxRamo(hrstdio))\n",
    "def promdict(nombdict):\n",
    "    suma=0\n",
    "    for ramo in hrstdio:\n",
    "        suma=suma + nombdict[ramo]\n",
    "    prom=suma/len(nombdict)\n",
    "    return prom\n",
    "print(promdict(hrstdio))"
   ]
  },
  {
   "cell_type": "code",
   "execution_count": 3,
   "metadata": {},
   "outputs": [
    {
     "name": "stdout",
     "output_type": "stream",
     "text": [
      "['C', 'A', 'A', 'A', 'C']\n",
      "['C', 'A', 'A', 'A', 'C']\n",
      "['A', 'C', 'A', 'G', 'A', 'G', 'G', 'C', 'A', 'A', 'A', 'C']\n"
     ]
    }
   ],
   "source": [
    "#desafio\n",
    "newsec=['C', 'A', 'A', 'A', 'C', 'G', 'G', 'A', 'G', 'A', 'C', 'A']\n",
    "#1\n",
    "deslist=[]\n",
    "for j in newsec:\n",
    "    if j==\"G\":\n",
    "        break\n",
    "    else:\n",
    "        deslist.append(j)\n",
    "print(deslist)\n",
    "#1.2\n",
    "deslist2=[]\n",
    "ind=0\n",
    "while newsec[ind]!=\"G\":\n",
    "    deslist2.append(newsec[ind])\n",
    "    ind+=1\n",
    "print(deslist2)\n",
    "#2\n",
    "revlist=[]\n",
    "for k in range(len(newsec)):\n",
    "    revlist.append(newsec[(len(newsec)-1)-k])\n",
    "print(revlist)"
   ]
  },
  {
   "cell_type": "code",
   "execution_count": null,
   "metadata": {},
   "outputs": [],
   "source": []
  }
 ],
 "metadata": {
  "kernelspec": {
   "display_name": "Python 3",
   "language": "python",
   "name": "python3"
  },
  "language_info": {
   "codemirror_mode": {
    "name": "ipython",
    "version": 3
   },
   "file_extension": ".py",
   "mimetype": "text/x-python",
   "name": "python",
   "nbconvert_exporter": "python",
   "pygments_lexer": "ipython3",
   "version": "3.7.6"
  }
 },
 "nbformat": 4,
 "nbformat_minor": 4
}
