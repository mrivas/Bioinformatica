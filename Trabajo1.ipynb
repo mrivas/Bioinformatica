{
 "cells": [
  {
   "cell_type": "markdown",
   "metadata": {},
   "source": [
    "Antes de comenzar\n",
    "==============\n",
    "\n",
    "A continuación se declaran una seríe de problemas bioinformáticos. Uno de los propositos de éstos ejercicios es que practiquen sus habilidades como programador, por lo cual deben escribir todas las funciones a utilizar. No se aceptará el uso de librerias bioinformáticas para realizar alineamientos o busqueda de secuencias. Ustedes deberán crear sus propias herramientas.\n",
    "\n",
    "Horarios de consultas\n",
    "------------------------------\n",
    "\n",
    "Las consultas no se responderán a través de email sino que a través de videoconferencia (a tráves del mismo de link de zoom usado para la clase). Los horarios de las mismas serán los detallados a continuación: \n",
    "\n",
    "* Miercoles de 20 a 20:40 horas.\n",
    "* Viernes de 18 a 18:40 horas."
   ]
  },
  {
   "cell_type": "markdown",
   "metadata": {},
   "source": [
    "1 Encontrar secuencias con posibles funciones biológicas (20% de ponderación)\n",
    "==================================================\n",
    "\n",
    "Asumiendo que las secuencias con funciones biológicas ocurren más veces de los esperado en el genóma, encuentra en la siguiente secuencia genética aquellas subsecuencias que se repiten más veces. \n",
    "\n",
    "1. Evalua subsecuencias que varien entre 5 y 9 nucleotidos de longitud.\n",
    "2. Basado en la suposición antes descrita, ¿cuáles concluyen ustedes son los mejores cándidatos a secuencias con funciones biológicas?"
   ]
  },
  {
   "cell_type": "code",
   "execution_count": 4,
   "metadata": {},
   "outputs": [],
   "source": [
    "SecuenciaGenetica=\"ACTACTCGGTCGACGACGGTACTACGCTCGGTTACACTACGACGGTACTACGTACGTACGTCTCGGTAACTACGGTACTATACACGTACACGACGGTACTACACTACGACGGTACTACGTACGTCTCTACGTCT\""
   ]
  },
  {
   "cell_type": "markdown",
   "metadata": {},
   "source": [
    "2 Alineamiento global (40% de ponderación)\n",
    "===============\n",
    "\n",
    "Escribe las herramientas para encontrar el mejor alineamiento global entre las secuencias detalladas en la siguiente celda. Nota que hay dos alineamientos alternativos con el mismo valor máximo de score de alineamiento. Por lo tanto es necesario que tu código sea capaz de detectar ambos.\n",
    "\n",
    "\n",
    "Para tus cálculos considera una penalización por gaps igual a -8, y para matches la matriz BLOSSUM50."
   ]
  },
  {
   "cell_type": "code",
   "execution_count": null,
   "metadata": {},
   "outputs": [],
   "source": [
    "secuencia1=\"HEAGAWGHEE\"\n",
    "secuencia3=\"PAWHEAE\""
   ]
  },
  {
   "cell_type": "markdown",
   "metadata": {},
   "source": [
    "3 Alineamiento local (40% de ponderación)\n",
    "=============\n",
    "\n",
    "Escribe las herramientas para encontrar los dos mejores alineamientos locales entre las secuencias detalladas en la siguiente celda. "
   ]
  },
  {
   "cell_type": "code",
   "execution_count": 20,
   "metadata": {},
   "outputs": [],
   "source": [
    "secuencia1=\"HEAGAWGHEEAWGHEAE\"\n",
    "secuencia3=\"PAWAGAWGHEAE\""
   ]
  },
  {
   "cell_type": "code",
   "execution_count": null,
   "metadata": {},
   "outputs": [],
   "source": []
  }
 ],
 "metadata": {
  "kernelspec": {
   "display_name": "Python 3",
   "language": "python",
   "name": "python3"
  },
  "language_info": {
   "codemirror_mode": {
    "name": "ipython",
    "version": 3
   },
   "file_extension": ".py",
   "mimetype": "text/x-python",
   "name": "python",
   "nbconvert_exporter": "python",
   "pygments_lexer": "ipython3",
   "version": "3.7.6"
  }
 },
 "nbformat": 4,
 "nbformat_minor": 4
}
