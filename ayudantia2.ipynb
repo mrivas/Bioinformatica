{
 "cells": [
  {
   "cell_type": "markdown",
   "metadata": {},
   "source": [
    "# Conceptos Básicos Python parte 2\n",
    "\n",
    "## If - else:\n",
    "Este comando nos permite hacer algo solo si se cumple una condición. Esto es muy importante cuando queremos tratar un grupo de datos de distinta forma según sus características. Si queremos que el código haga algo solo cuando se cumple una condición, podemos ocupar el \"if\" solo, pero si queremos que haga otras cosas para distintas condiciones, podemos usar \"else\" y \"elif\" según sea necesario."
   ]
  },
  {
   "cell_type": "code",
   "execution_count": 6,
   "metadata": {},
   "outputs": [
    {
     "name": "stdout",
     "output_type": "stream",
     "text": [
      "5\n",
      "20\n",
      "este número es mayor que 10\n",
      "10\n",
      "13\n",
      "este número es mayor que 10\n",
      "2\n",
      "9\n",
      "3 es impar\n",
      "7 es impar\n",
      "2 es par\n",
      "8 es par\n",
      "5 es impar\n",
      "12 es par\n",
      "77 es impar\n",
      "43 es impar\n",
      "3 es impar\n",
      "7 es impar\n",
      "2 es par\n",
      "8 es par\n",
      "5 es impar\n",
      "12 es mayor que 10\n",
      "77 es mayor que 10\n",
      "43 es mayor que 10\n"
     ]
    }
   ],
   "source": [
    "#crear una lista con números y, imprimir uno a uno y que el código nos avise si es mayor que 10\n",
    "nums=[5,20,10,13,2,9]\n",
    "for i in nums:\n",
    "    print(i)\n",
    "    if i>10:\n",
    "        print(\"este número es mayor que 10\")\n",
    "#crear una lista con números y que el código nos avise si es par o impar\n",
    "nums2=[3,7,2,8,5,12,77,43]\n",
    "for i in nums2:\n",
    "    if i%2==0:\n",
    "        print(i,\"es par\")\n",
    "    else:\n",
    "        print(i,\"es impar\")\n",
    "#usae lista con números anterior y que el código nos avise si es mayor que 10 y si no lo es, si es par o impar\n",
    "for i in nums2:\n",
    "    if i>10:\n",
    "        print(i,\"es mayor que 10\")\n",
    "    elif i%2==0:\n",
    "        print(i,\"es par\")\n",
    "    else:\n",
    "        print(i,\"es impar\")"
   ]
  },
  {
   "cell_type": "markdown",
   "metadata": {},
   "source": [
    "## Funciones:\n",
    "Las funciones nos permiten crear un comando personalizado según lo que necesitemos y nos permite no tener que reescribir una y otra vez las mismas líneas de código para una función específica. para esto ocupamos el comando def junto con el nombre de nuestra función y luego un par de paréntesis redondos. Si la función toma un elemento del código, entre los paréntesis cuadrados pondremos un nombre de variable que se podrá usar solo dentro de la definición de nuestra función y, de ser necesario, se puede ingresar más de una variable a una función, para este caso, separamos las variables con comas."
   ]
  },
  {
   "cell_type": "code",
   "execution_count": 2,
   "metadata": {},
   "outputs": [
    {
     "name": "stdout",
     "output_type": "stream",
     "text": [
      "15.714285714285714\n",
      "4.375\n",
      "44.857142857142854\n",
      "6\n",
      "80\n"
     ]
    }
   ],
   "source": [
    "#crear una función que calcule el promedio de una lista con números\n",
    "def promedio(lista):\n",
    "    suma=0\n",
    "    for i in lista:\n",
    "        suma+=i\n",
    "    prom=suma/(len(lista))\n",
    "    return prom\n",
    "lis1=[15,18,13,11,19,4,30]\n",
    "lis2=[5,3,6,1,2,7,9,2]\n",
    "lis3=[44,47,39,48,41,53,42]\n",
    "print(promedio(lis1))\n",
    "print(promedio(lis2))\n",
    "print(promedio(lis3))\n",
    "#crear una función que multiplique 3 números \n",
    "def multiplica3(a,b,c):\n",
    "    mult3=a*b*c\n",
    "    return mult3\n",
    "print(multiplica3(1,2,3))\n",
    "j=2\n",
    "k=5\n",
    "l=8\n",
    "print(multiplica3(j,k,l))"
   ]
  },
  {
   "cell_type": "markdown",
   "metadata": {},
   "source": [
    "## Librerías:\n",
    "Las librerías son repositorios de funciones y códigos creados por otras personas para que uno no tenga que crearlas. Estas suelen ser llamadas al principio de un código y se les puede renombrar para no tener que ocupar el nombre entero en el código al llamar sus funciones."
   ]
  },
  {
   "cell_type": "code",
   "execution_count": null,
   "metadata": {},
   "outputs": [],
   "source": [
    "#Algunos ejemplos de librerías\n",
    "from Bio.SubsMat import MatrixInfo\n",
    "import numpy as np\n",
    "import pandas as pd\n",
    "from matplotlib import pyplot as plt"
   ]
  },
  {
   "cell_type": "markdown",
   "metadata": {},
   "source": [
    "## Ejercicios:\n",
    "1.Crear una función que nos permita transformar cualquier string en una lista\\\n",
    "2.Crear una función que nos permita hacer una lista de un fragmento de un string"
   ]
  },
  {
   "cell_type": "code",
   "execution_count": null,
   "metadata": {},
   "outputs": [],
   "source": [
    "#resolución de ejercicios"
   ]
  }
 ],
 "metadata": {
  "kernelspec": {
   "display_name": "Python 3",
   "language": "python",
   "name": "python3"
  },
  "language_info": {
   "codemirror_mode": {
    "name": "ipython",
    "version": 3
   },
   "file_extension": ".py",
   "mimetype": "text/x-python",
   "name": "python",
   "nbconvert_exporter": "python",
   "pygments_lexer": "ipython3",
   "version": "3.7.6"
  }
 },
 "nbformat": 4,
 "nbformat_minor": 4
}
