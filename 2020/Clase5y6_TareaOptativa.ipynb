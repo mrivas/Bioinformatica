{
 "cells": [
  {
   "cell_type": "markdown",
   "metadata": {},
   "source": [
    "Clase 5 y 6: Revisión de la tarea optativa\n",
    "======================\n",
    "\n",
    "Corregir el siguiente código\n",
    "```python\n",
    "# codigo python\n",
    "def FrequencyDictionary(Text, k):\n",
    "        freqMap = {}\n",
    "        n = len(Text)\n",
    "        for i in range(n -k +1):\n",
    "            Pattern = Text[i:(i+k)]\n",
    "            if not Pattern in freqMap:\n",
    "                freqMap[Pattern] = 1\n",
    "            else:\n",
    "                freqMap[Pattern] = freqMap[Pattern]+1 \n",
    "        return( freqMap )\n",
    "\n",
    "def MaxOfDict1(dictName):\n",
    "    # Opción 2\n",
    "    maxValue = 0\n",
    "    for key in freqMap:\n",
    "        if freqMap[key] >= maxValue: #  \n",
    "            maxValue = freqMap[key]\n",
    "    return( maxValue )\n",
    "def MaxOfDict2(dictName):\n",
    "    # Opción 1 maxValue = np.max(listValores)\n",
    "    listaValores=[]\n",
    "    for key in freqMap:\n",
    "        listaValores.append(freqMap[key])\n",
    "    maxValue = np.max(listaValores)\n",
    "    return( maxValue )  \n",
    "    \n",
    "def BetterFrequentWords(Text, k): \n",
    "    FrequentPatterns = [] \n",
    "    freqMap = FrequencyDictionary(Text, k) \n",
    "    maxfreqMap = MaxOfDict1(freqMap) # alternativamente podemos usar MaxOfDict2\n",
    "    print(maxfreqMap) # deberia ser un 3\n",
    "    for Pattern in freqMap: \n",
    "        if freqMap[Pattern] == maxfreqMap: \n",
    "            FrequentPatterns.append(Pattern)\n",
    "    return( FrequentPatterns )\n",
    "```\n",
    "\n",
    "de tal manera que el resultado de \n",
    "\n",
    "```python\n",
    "Text=\"atcaatgatcaacgtaagcttctaagcatgatcaaggtgctcacacagtttatccacaac\\\n",
    "ctgagtggatgacatcaagataggtcgttgtatctccttcctctcgtactctcatgacca\\\n",
    "cggaaagatgatcaagagaggatgatttcttggccatatcgcaatgaatacttgtgactt\\\n",
    "gtgcttccaattgacatcttcagcgccatattgcgctggccaaggtgacggagcgggatt\\\n",
    "acgaaagcatgatcatggctgttgttctgtttatcttgttttgactgagacttgttagga\\\n",
    "tagacggtttttcatcactgactagccaaagccttactctgcctgacatcgaccgtaaat\\\n",
    "tgataatgaatttacatgcttccgcgacgatttacctcttgatcatcgatccgattgaag\\\n",
    "atcttcaattgttaattctcttgcctcgactcatagccatgatgagctcttgatcatgtt\\\n",
    "tccttaaccctctattttttacggaagaatgatcaagctgctgctcttgatcatcgtttc\"\n",
    "k=9\n",
    "BetterFrequentWords(Text, k)\n",
    "```\n",
    "\n",
    "sea \n",
    "\n",
    "```python\n",
    "['atgatcaag', 'ctcttgatc', 'tcttgatca', 'cttgatcat']\n",
    "```"
   ]
  },
  {
   "cell_type": "markdown",
   "metadata": {},
   "source": [
    "Soluciones\n",
    "----------\n",
    "\n",
    "Cuatro tipos de soluciones fueron presentadas. Cada una de ella es presentada a continuación junto al nombre de sus autores. Felicitaciones a estos nacientes bioinformáticos."
   ]
  },
  {
   "cell_type": "code",
   "execution_count": 29,
   "metadata": {},
   "outputs": [],
   "source": [
    "# Cargar datos en la memoria=\n",
    "\n",
    "Text=\"atcaatgatcaacgtaagcttctaagcatgatcaaggtgctcacacagtttatccacaac\\\n",
    "ctgagtggatgacatcaagataggtcgttgtatctccttcctctcgtactctcatgacca\\\n",
    "cggaaagatgatcaagagaggatgatttcttggccatatcgcaatgaatacttgtgactt\\\n",
    "gtgcttccaattgacatcttcagcgccatattgcgctggccaaggtgacggagcgggatt\\\n",
    "acgaaagcatgatcatggctgttgttctgtttatcttgttttgactgagacttgttagga\\\n",
    "tagacggtttttcatcactgactagccaaagccttactctgcctgacatcgaccgtaaat\\\n",
    "tgataatgaatttacatgcttccgcgacgatttacctcttgatcatcgatccgattgaag\\\n",
    "atcttcaattgttaattctcttgcctcgactcatagccatgatgagctcttgatcatgtt\\\n",
    "tccttaaccctctattttttacggaagaatgatcaagctgctgctcttgatcatcgtttc\"\n",
    "k=9"
   ]
  },
  {
   "cell_type": "code",
   "execution_count": 30,
   "metadata": {},
   "outputs": [
    {
     "name": "stdout",
     "output_type": "stream",
     "text": [
      "3\n"
     ]
    },
    {
     "data": {
      "text/plain": [
       "['atgatcaag', 'ctcttgatc', 'tcttgatca', 'cttgatcat']"
      ]
     },
     "execution_count": 30,
     "metadata": {},
     "output_type": "execute_result"
    }
   ],
   "source": [
    "# Solución 1: \n",
    "# Cortesía de nuestra bioinformática ISIDORA INOSTROZA\n",
    "\n",
    "# En MaxOfDict1 y 2, reemplazar freqMap por dictName\n",
    "\n",
    "# codigo python\n",
    "def FrequencyDictionary(Text, k):\n",
    "        freqMap = {}\n",
    "        n = len(Text)\n",
    "        for i in range(n -k +1):\n",
    "            Pattern = Text[i:(i+k)]\n",
    "            if not Pattern in freqMap:\n",
    "                freqMap[Pattern] = 1\n",
    "            else:\n",
    "                freqMap[Pattern] = freqMap[Pattern]+1 \n",
    "        return( freqMap )\n",
    "\n",
    "def MaxOfDict1(dictName):\n",
    "    # Opción 2\n",
    "    maxValue = 0\n",
    "    for key in dictName:\n",
    "        if dictName[key] >= maxValue: #  \n",
    "            maxValue = dictName[key]\n",
    "    return( maxValue )\n",
    "def MaxOfDict2(dictName):\n",
    "    # Opción 1 maxValue = np.max(listValores)\n",
    "    listaValores=[]\n",
    "    for key in dictName:\n",
    "        listaValores.append(dictName[key])\n",
    "    maxValue = np.max(listaValores)\n",
    "    return( maxValue )  \n",
    "    \n",
    "def BetterFrequentWords(Text, k): \n",
    "    FrequentPatterns = [] \n",
    "    freqMap = FrequencyDictionary(Text, k) \n",
    "    maxfreqMap = MaxOfDict1(freqMap) # alternativamente podemos usar MaxOfDict2\n",
    "    print(maxfreqMap) # deberia ser un 3\n",
    "    for Pattern in freqMap: \n",
    "        if freqMap[Pattern] == maxfreqMap: \n",
    "            FrequentPatterns.append(Pattern)\n",
    "    return( FrequentPatterns )\n",
    "\n",
    "BetterFrequentWords(Text, k)"
   ]
  },
  {
   "cell_type": "code",
   "execution_count": 31,
   "metadata": {},
   "outputs": [
    {
     "name": "stdout",
     "output_type": "stream",
     "text": [
      "3\n"
     ]
    },
    {
     "data": {
      "text/plain": [
       "(['atgatcaag', 'ctcttgatc', 'tcttgatca', 'cttgatcat'], 3)"
      ]
     },
     "execution_count": 31,
     "metadata": {},
     "output_type": "execute_result"
    }
   ],
   "source": [
    "# Solución 2: \n",
    "# Cortesía de nuestros bioinformáticos Dan perez, Maximiliano Mellado, Sebastián Arriaza, y Matias Gallardo\n",
    "\n",
    "# Convirtieron los valores del diccionario freqMap en una lista, y luego usaron np.max para encontrar\n",
    "# el máximo\n",
    "import numpy as np\n",
    "def FrequencyDicionary(Text, k):\n",
    "        freqMap = {}\n",
    "        n = len(Text)\n",
    "        for i in range(n -k +1):\n",
    "            Pattern = Text[i:(i+k)]\n",
    "            if not Pattern in freqMap:\n",
    "                freqMap[Pattern] = 1\n",
    "            else:\n",
    "                freqMap[Pattern] = freqMap[Pattern]+1\n",
    "        return( freqMap )\n",
    "def MaxOfDict2(freqMap):\n",
    "    listaValores=[]\n",
    "    for key in freqMap:\n",
    "        listaValores.append(freqMap[key])\n",
    "    maxValue = np.max(listaValores)\n",
    "    return( maxValue )\n",
    "def BetterFrequentWords(Text, k):\n",
    "    FrequentPatterns = []\n",
    "    freqMap = FrequencyDicionary(Text, k)\n",
    "    maxfreqMap = MaxOfDict2(freqMap)\n",
    "    print(maxfreqMap)\n",
    "    for Pattern in freqMap:\n",
    "        if freqMap[Pattern] == maxfreqMap:\n",
    "            FrequentPatterns.append(Pattern)\n",
    "    return( FrequentPatterns,maxfreqMap )\n",
    "\n",
    "BetterFrequentWords(Text, k)"
   ]
  },
  {
   "cell_type": "code",
   "execution_count": 34,
   "metadata": {},
   "outputs": [
    {
     "data": {
      "text/plain": [
       "['atgatcaag', 'ctcttgatc', 'tcttgatca', 'cttgatcat']"
      ]
     },
     "execution_count": 34,
     "metadata": {},
     "output_type": "execute_result"
    }
   ],
   "source": [
    "# Solución 3: \n",
    "# Cortesía de nuestros bioinformáticos María Garrido y Nicólas González\n",
    "text=Text\n",
    "import numpy as np\n",
    "\n",
    "def FrequencyDictionary(text, k):\n",
    "    freqMap = {}                              \n",
    "    n = len (text)                            \n",
    "    for i in range (n -k +1):                  \n",
    "        pattern = text [i:(i+k)]          \n",
    "        if not pattern in freqMap:\n",
    "            freqMap[pattern] = 1\n",
    "        else:\n",
    "            freqMap[pattern] = freqMap[pattern] + 1\n",
    "    return (freqMap)\n",
    "\n",
    "def MaxOfDict2(freqMap):\n",
    "    freqMap = FrequencyDictionary(text, k) # Llamaron la función directamente aquí\n",
    "    maxValue2 = 0\n",
    "    listaValores=[]\n",
    "    for key in freqMap:\n",
    "        listaValores.append(freqMap[key])\n",
    "    maxValue2 = np.max(listaValores)\n",
    "    return (maxValue2)\n",
    "\n",
    "\n",
    "def BetterFrequentWords(text, k):  \n",
    "    FrequentPatterns = []\n",
    "    freqMap = FrequencyDictionary(text, k)\n",
    "    maxfreqMap = MaxOfDict2(FrequencyDictionary)\n",
    "    for pattern in freqMap:\n",
    "        if freqMap[pattern] == maxfreqMap:\n",
    "            FrequentPatterns.append(pattern)\n",
    "    return (FrequentPatterns)\n",
    "\n",
    "BetterFrequentWords(Text, k)"
   ]
  },
  {
   "cell_type": "code",
   "execution_count": 35,
   "metadata": {},
   "outputs": [
    {
     "data": {
      "text/plain": [
       "['atgatcaag', 'ctcttgatc', 'tcttgatca', 'cttgatcat']"
      ]
     },
     "execution_count": 35,
     "metadata": {},
     "output_type": "execute_result"
    }
   ],
   "source": [
    "# Solución 4: \n",
    "# Cortesía de nuestros bioinformática Karina Sotelo\n",
    "\n",
    "# Definio freqMap fuera de la función MaxOfDict1\n",
    "def FrequencyDictionary (Text,k) :\n",
    "        freqMap = {} \n",
    "        n = len(Text)\n",
    "        for i in range(n -k +1) : \n",
    "            Pattern = Text[i:(i+k)]\n",
    "            if not Pattern in freqMap:\n",
    "                freqMap[Pattern] = 1\n",
    "            else:\n",
    "                freqMap [Pattern] = freqMap[Pattern] +1\n",
    "        return(freqMap)\n",
    "\n",
    "freqMap = FrequencyDictionary (Text,k)\n",
    "def MaxOfDict1 (dictName):\n",
    "    maxValue = 0\n",
    "    for key in freqMap:\n",
    "        if freqMap [key] >= maxValue:\n",
    "            maxValue = freqMap[key]\n",
    "    return( maxValue ) \n",
    "\n",
    "def BetterFrequentWords(Text, k): \n",
    "    FrequentPatterns = [] \n",
    "    freqMap = FrequencyDictionary (Text, k) \n",
    "    maxfreqMap = MaxOfDict1(freqMap) \n",
    "    for Pattern in freqMap: \n",
    "        if freqMap[Pattern] == maxfreqMap: \n",
    "            FrequentPatterns.append(Pattern)\n",
    "    return( FrequentPatterns)\n",
    "BetterFrequentWords(Text, k)"
   ]
  },
  {
   "cell_type": "code",
   "execution_count": null,
   "metadata": {},
   "outputs": [],
   "source": []
  }
 ],
 "metadata": {
  "kernelspec": {
   "display_name": "Python 3",
   "language": "python",
   "name": "python3"
  },
  "language_info": {
   "codemirror_mode": {
    "name": "ipython",
    "version": 3
   },
   "file_extension": ".py",
   "mimetype": "text/x-python",
   "name": "python",
   "nbconvert_exporter": "python",
   "pygments_lexer": "ipython3",
   "version": "3.7.6"
  }
 },
 "nbformat": 4,
 "nbformat_minor": 4
}
