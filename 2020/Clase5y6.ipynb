{
 "cells": [
  {
   "cell_type": "markdown",
   "metadata": {},
   "source": [
    "Clase 5 y 6\n",
    "=======\n",
    "\n",
    "Resumen clase anterior \n",
    "----------------------------------\n",
    "\n",
    "Objetivos:\n",
    "* Dada una secuencia genética, determinar patrones con posibles funciones biológicas\n",
    "* Implementar computacionalmente una función para contar subsecuencias dentro de la secuencia principal.\n",
    "\n",
    "\n",
    "\n",
    "Para ganar intuición, analizemos un problema fundamental de bioinformática: ¿en dónde está el origen de replicación del genoma bacteriano?\n",
    "\n",
    "<img src=\"https://raw.githubusercontent.com/mrivas/Bioinformatica/master/naive_replication.png\" alt=\"Drawing\" style=\"width: 400px;\"/>\n",
    "\n",
    "[Imagen de https://www.bioinformaticsalgorithms.org/](https://www.bioinformaticsalgorithms.org/bioinformatics-chapter-1)\n",
    "\n",
    "Hay una secuencia que es reconocida por la maquinaria transcripcional. Esa secuencia (puede haber tener más de una copia en el genoma) es donde comienza a replicarse el material genético.\n",
    "\n",
    "Para encontrar tal secuencia, comenzemos por resolver problemas más simples que luego escalaremos para abarcar la complejidad del problema en cuestion. \n",
    "\n",
    "Dada una secuencia (genética, de texto, o lo que sea), empezemos por contar cuantas veces en ella está repetido un patrón. Por ejemplo, en la secuencia\n",
    "\n",
    "```python\n",
    "Secuencia=\"Hola, ¿como estas?. Hola, bien gracias. Y tú, ¿qué cuentas?\"\n",
    "```\n",
    "\n",
    "1 ¿Cuántas vences aparece el patrón\n",
    "\n",
    "```python\n",
    "\"Hola\"?\n",
    "```\n",
    "\n",
    "2 ¿Cuántas vences aparece el patrón\n",
    "\n",
    "```python\n",
    "\"as\"?\n",
    "```\n",
    "\n",
    "\n",
    "Ejercicio\n",
    "=========\n",
    "\n",
    "Implementa este algoritmo en Python. Para esto puedes usar el siguiente seudocódigo:\n",
    "\n",
    "```python\n",
    "PatternCount(Text, Pattern)\n",
    "    count ← 0\n",
    "    for i ← 0 to |Text| − |Pattern|\n",
    "        if Text(i, |Pattern|) = Pattern\n",
    "            count ← count + 1\n",
    "    return count\n",
    "```"
   ]
  },
  {
   "cell_type": "code",
   "execution_count": 1,
   "metadata": {},
   "outputs": [
    {
     "data": {
      "text/plain": [
       "'Ho'"
      ]
     },
     "execution_count": 1,
     "metadata": {},
     "output_type": "execute_result"
    }
   ],
   "source": [
    "Text    =\"Hola\"\n",
    "Pattern =\"Ho\"\n",
    "i=0\n",
    "Text[0:(0+2)]"
   ]
  },
  {
   "cell_type": "code",
   "execution_count": 2,
   "metadata": {},
   "outputs": [],
   "source": [
    "def PatternCount(Text, Pattern):\n",
    "    count = 0\n",
    "    for i in range(len(Text)-len(Pattern)):\n",
    "        if Text[i:(i+len(Pattern))] == Pattern:\n",
    "            count = count + 1\n",
    "    return(count)"
   ]
  },
  {
   "cell_type": "code",
   "execution_count": 3,
   "metadata": {},
   "outputs": [
    {
     "data": {
      "text/plain": [
       "3"
      ]
     },
     "execution_count": 3,
     "metadata": {},
     "output_type": "execute_result"
    }
   ],
   "source": [
    "Text=\"Hola, ¿como estas?. Hola, bien gracias. Y tú, ¿qué cuentas?\"\n",
    "Pattern=\"as\"\n",
    "PatternCount(Text, Pattern)"
   ]
  },
  {
   "cell_type": "code",
   "execution_count": 4,
   "metadata": {},
   "outputs": [
    {
     "data": {
      "text/plain": [
       "0"
      ]
     },
     "execution_count": 4,
     "metadata": {},
     "output_type": "execute_result"
    }
   ],
   "source": [
    "Text=\"Hola, ¿como estas?. Hola, bien gracias. Y tú, ¿qué cuentas?\"\n",
    "Pattern=\"cuentas?\"\n",
    "PatternCount(Text, Pattern)"
   ]
  },
  {
   "cell_type": "markdown",
   "metadata": {},
   "source": [
    "Tarea optativa\n",
    "==============\n",
    "\n",
    "Corregir el código de la función PatterCount"
   ]
  },
  {
   "cell_type": "code",
   "execution_count": 5,
   "metadata": {},
   "outputs": [
    {
     "data": {
      "text/plain": [
       "1"
      ]
     },
     "execution_count": 5,
     "metadata": {},
     "output_type": "execute_result"
    }
   ],
   "source": [
    "def PatternCount(Text, Pattern):\n",
    "    count = 0\n",
    "    for i in range(len(Text)-len(Pattern)+1):\n",
    "        if Text[i:(i+len(Pattern))] == Pattern:\n",
    "            count = count + 1\n",
    "    return(count)\n",
    "Text=\"Hola, ¿como estas?. Hola, bien gracias. Y tú, ¿qué cuentas?\"\n",
    "Pattern=\"cuentas?\"\n",
    "PatternCount(Text, Pattern)"
   ]
  },
  {
   "cell_type": "markdown",
   "metadata": {},
   "source": [
    "Clase 5 y 6\n",
    "=========\n",
    "\n",
    "Objetivos:\n",
    "\n",
    "1. Determinar que patrones tienen funciones biológicas\n",
    "2. Implementar el código en Python\n",
    "\n",
    "1 ¿Qué patrones tienen funciones biológicas?\n",
    "-----------------------------------------------------\n",
    "\n",
    "Nuestra hipotesis será que aquellos patrones que tienen funciones biologicas son los que aparecen más veces de lo esperado en la secuencia (más adelante veremos como calificar una frecuencia como mayor a lo esperado). \n",
    "\n",
    "En la clase anterior ya obtuvimos una función para computar cuantas veces un patrón está presente en una secuencia. Ahora, necesitamos una función para determinar la frecuencia de un patrón cualquiera, del cual no sabemos de antemano ni su composición ni el número de letras. Por ejemplo, \n",
    "\n",
    "* en la secuencia ACA**ACTAT**GCAT**ACTAT**CGGGA**ACTAT**CCT, el patrón de 5 letras **ACTAT** es el más frecuente, apareciendo 3 veces. \n",
    "* Por otro lado, en la secuencia CG**ATATA**TCC**ATA**G, el patrón de 3 letras **ATA** es el más frecuente, apareciendo 3 veces.\n",
    "\n",
    "Un ejemplo más biologico, el siguiente es una secuencia de Vibrio cholerae\n",
    "\n",
    "\n",
    "```\n",
    "atcaatgatcaacgtaagcttctaagcatgatcaaggtgctcacacagtttatccacaac\n",
    "ctgagtggatgacatcaagataggtcgttgtatctccttcctctcgtactctcatgacca\n",
    "cggaaagatgatcaagagaggatgatttcttggccatatcgcaatgaatacttgtgactt\n",
    "gtgcttccaattgacatcttcagcgccatattgcgctggccaaggtgacggagcgggatt\n",
    "acgaaagcatgatcatggctgttgttctgtttatcttgttttgactgagacttgttagga\n",
    "tagacggtttttcatcactgactagccaaagccttactctgcctgacatcgaccgtaaat\n",
    "tgataatgaatttacatgcttccgcgacgatttacctcttgatcatcgatccgattgaag\n",
    "atcttcaattgttaattctcttgcctcgactcatagccatgatgagctcttgatcatgtt\n",
    "tccttaaccctctattttttacggaagaatgatcaagctgctgctcttgatcatcgtttc\n",
    "```\n",
    "\n",
    "cuyos patrones más frecuentes son los siguientes:\n",
    "\n",
    "<img src=\"https://raw.githubusercontent.com/mrivas/Bioinformatica/master/table.png\" alt=\"Drawing\" style=\"width: 700px;\"/>\n",
    "\n",
    "\n",
    "\n",
    "Para lograr esto, dado un Texto (así llamaremos también a las secuencias) en el cual queremos buscar un patron de largo k, podemos crear una lista llamada Count de tamaño |Text| - k (es el número de sublistas de tamaño k en el Text), en cuya coordenada i guardamos el número de veces que se repite el patrón ubicado en Text[i:(i+k)].\n",
    "\n",
    "Por ejemplo, dado Text=\"ACTGACTCCCACCCC\" y k=3, la lista Count es la siguiente.\n",
    "\n",
    "```\n",
    "Text: ACTGACTCCCACCCC\n",
    "Count:2111211311133\n",
    "```\n",
    "\n",
    "A continuación una implementación de ésta función en Python"
   ]
  },
  {
   "cell_type": "code",
   "execution_count": 6,
   "metadata": {},
   "outputs": [],
   "source": [
    "import numpy as np\n",
    "\n",
    "def FrequentWords(Text, k):\n",
    "    FrequentPatterns = set()\n",
    "    Count = [0]*( len(Text)-k+1 )\n",
    "    for i in range( len(Text) - k +1 ):\n",
    "        Pattern = Text[ i:(i+k)]\n",
    "        Count[i] = PatternCount(Text, Pattern) # PatternCount cuenta el número de veces \n",
    "                                               # que Pattern aparece en Text\n",
    "    maxCount = np.max(Count)\n",
    "    for i in range(len(Text) - k +1 ):\n",
    "        if Count[i] == maxCount:\n",
    "            FrequentPatterns.add( Text[i:(i+k)] )\n",
    "            \n",
    "    return( (FrequentPatterns),maxCount ) #,Count"
   ]
  },
  {
   "cell_type": "code",
   "execution_count": 7,
   "metadata": {},
   "outputs": [
    {
     "name": "stdout",
     "output_type": "stream",
     "text": [
      "al inicio:  [0, 0, 0, 0, 0, 0, 0, 0, 0, 0, 0, 0, 0]\n",
      "0 3 ACT 2\n",
      "1 4 CTG 1\n",
      "2 5 TGA 1\n",
      "3 6 GAC 1\n",
      "4 7 ACT 2\n",
      "5 8 CTC 1\n",
      "6 9 TCC 1\n",
      "7 10 CCC 3\n",
      "8 11 CCA 1\n",
      "9 12 CAC 1\n",
      "10 13 ACC 1\n",
      "11 14 CCC 3\n",
      "12 15 CCC 3\n",
      "al final [2, 1, 1, 1, 2, 1, 1, 3, 1, 1, 1, 3, 3]\n",
      "el maximo es: 3\n",
      "al inicio FrequentPatterns es: set()\n",
      "luego del ciclo for FrequentPatterns es: {'CCC'}\n"
     ]
    }
   ],
   "source": [
    "Text=\"ACTGACTCCCACCCC\"\n",
    "k=3\n",
    "Count = [0]*(len(Text)-k+1)\n",
    "print(\"al inicio: \", Count )\n",
    "for i in range( len(Text) - k +1 ):\n",
    "    Pattern = Text[ i:(i+k)]\n",
    "    print(i,i+k,Pattern, PatternCount(Text, Pattern) )\n",
    "    Count[i] = PatternCount(Text, Pattern)\n",
    "print(\"al final\", Count)\n",
    "maxCount = np.max(Count)\n",
    "print(\"el maximo es:\", maxCount )\n",
    "\n",
    "FrequentPatterns = set()\n",
    "print(\"al inicio FrequentPatterns es:\", FrequentPatterns)\n",
    "for i in range(len(Text) - k +1 ):\n",
    "    if Count[i] == maxCount:\n",
    "        FrequentPatterns.add( Text[i:(i+k)] )\n",
    "print(\"luego del ciclo for FrequentPatterns es:\", FrequentPatterns)  \n",
    "\n"
   ]
  },
  {
   "cell_type": "code",
   "execution_count": 8,
   "metadata": {},
   "outputs": [
    {
     "data": {
      "text/plain": [
       "({', ¿', 'Hol', 'a, ', 'as?', 'la,', 'ola', 'tas'}, 2)"
      ]
     },
     "execution_count": 8,
     "metadata": {},
     "output_type": "execute_result"
    }
   ],
   "source": [
    "# Verifiquemos\n",
    "Text=\"Hola, ¿como estas?. Hola, bien gracias. Y tú, ¿qué cuentas?\"\n",
    "k=3\n",
    "FrequentWords(Text, k) # Debería imprimir los patrones de 3 letras más frecuentes. Puede haber más de uno\n"
   ]
  },
  {
   "cell_type": "code",
   "execution_count": 9,
   "metadata": {},
   "outputs": [
    {
     "data": {
      "text/plain": [
       "({'atgatcaag', 'ctcttgatc', 'cttgatcat', 'tcttgatca'}, 3)"
      ]
     },
     "execution_count": 9,
     "metadata": {},
     "output_type": "execute_result"
    }
   ],
   "source": [
    "Text=\"atcaatgatcaacgtaagcttctaagcatgatcaaggtgctcacacagtttatccacaac\\\n",
    "ctgagtggatgacatcaagataggtcgttgtatctccttcctctcgtactctcatgacca\\\n",
    "cggaaagatgatcaagagaggatgatttcttggccatatcgcaatgaatacttgtgactt\\\n",
    "gtgcttccaattgacatcttcagcgccatattgcgctggccaaggtgacggagcgggatt\\\n",
    "acgaaagcatgatcatggctgttgttctgtttatcttgttttgactgagacttgttagga\\\n",
    "tagacggtttttcatcactgactagccaaagccttactctgcctgacatcgaccgtaaat\\\n",
    "tgataatgaatttacatgcttccgcgacgatttacctcttgatcatcgatccgattgaag\\\n",
    "atcttcaattgttaattctcttgcctcgactcatagccatgatgagctcttgatcatgtt\\\n",
    "tccttaaccctctattttttacggaagaatgatcaagctgctgctcttgatcatcgtttc\"\n",
    "k=9\n",
    "\n",
    "FrequentWords(Text, k)"
   ]
  },
  {
   "cell_type": "markdown",
   "metadata": {},
   "source": [
    "Ejercicio\n",
    "---------\n",
    "\n",
    "Usando la función FrequentWords, verifica que \n",
    "\n",
    "1. Dado Text=\"ACAACTATGCATACTATCGGGAACTATCCT\", el patrón de 5 letrás más común es \"ACTAT\"\n",
    "2. Dado Text=\"CGATATATCCATAG\", el patrón de 3 letras más común es \"ATA\"\n"
   ]
  },
  {
   "cell_type": "markdown",
   "metadata": {},
   "source": [
    "Una manera más eficiente de buscar patrones\n",
    "=====================================\n",
    "\n",
    "Ya conseguimos nuestro objetivo de crear una herramienta para encontrar los patrones más comunes. Ésta funciona bien, pero no es muy eficiente. En ejemplos reales, en donde las secuencias genéticas tienen millones de bases, nuestra función es muy lenta. Utliza un ciclo for para recorrer la secuencia completa, pero por cada iteración del ciclo for llama a la función PatternCount, la que a su vez recorre nuevamente la secuencia completa, de principio a fin. \n",
    "\n",
    "Una manera más eficiente de hacer los calculos es almacenara el número de veces que ser recorre la secuencia no en una lista, sino en un diccionario. En python un diccionario se define de la siguiente manera:\n",
    "\n",
    "```python\n",
    "    x={} # a nuestro diccionario lo llamaremos x\n",
    "    x[\"secuencia1\"]=1\n",
    "    x[\"secuencia2\"]=3\n",
    "    x[\"secuencia1\"] = x[\"secuencia1\"] +1\n",
    "```\n",
    "\n",
    "Este es el seudo código para implementar esta mejora\n",
    "\n",
    "```python\n",
    "    FrequencyDicionary(Text, k)\n",
    "        freqMap ← empty map\n",
    "        n ← |Text|\n",
    "        for i ← 0 to n − k\n",
    "            Pattern ← Text(i, k)\n",
    "            if freqMap[Pattern] doesn't exist\n",
    "                freqMap[Pattern]← 1\n",
    "            else\n",
    "               freqMap[pattern] ←freqMap[pattern]+1 \n",
    "        return freqMap\n",
    "    \n",
    "    BetterFrequentWords(Text, k)\n",
    "        FrequentPatterns ← an array of strings of length 0\n",
    "        freqMap ← FrequencyDictionary(Text, k)\n",
    "        max ← MaxMap(freqMap)\n",
    "        for all strings Pattern in freqMap\n",
    "            if freqMap[pattern] = max\n",
    "                append Pattern to frequentPatterns\n",
    "        return frequentPatterns    \n",
    "```    \n",
    "\n",
    "Ejercicio\n",
    "=======\n",
    "\n",
    "Implementa este nuevo algoritmo en Python"
   ]
  },
  {
   "cell_type": "markdown",
   "metadata": {},
   "source": [
    "```python\n",
    "\n",
    "Text=\"ACTGACTCCCACCCC\"\n",
    "k=3\n",
    "\n",
    "\n",
    "\n",
    "freqDic={}\n",
    "freqDic[\"CGA\"] = 2 # numero de veces que aparece en Text\n",
    "freqDic[\"GAT\"] = 1 # numero de veces que aparece en Text\n",
    "....\n",
    "freqDic[\"ATA\"] = 3\n",
    "\n",
    "len(freqDic) < len(Count) # ESTA ES LA PARTE IMPORTANTE. AL TENER MENOS ELEMENTOS freqDic,                           # HAY MENOS ITERACIONES QUE EFECTUAR LUEGO => NUESTRO ALGORITMO SERÍA MÁS EFICIENTE\n",
    "```    "
   ]
  },
  {
   "cell_type": "code",
   "execution_count": 15,
   "metadata": {},
   "outputs": [],
   "source": [
    "# codigo python\n",
    "def FrequencyDicionary(Text, k):\n",
    "        freqMap = {}\n",
    "        n = len(Text)\n",
    "        for i in range(n -k +1):\n",
    "            Pattern = Text[i:(i+k)]\n",
    "            if not Pattern in freqMap:\n",
    "                freqMap[Pattern] = 1\n",
    "            else:\n",
    "                freqMap[Pattern] = freqMap[Pattern]+1 \n",
    "        return( freqMap )\n",
    "\n",
    "def MaxOfDict1(dictName):\n",
    "    # Opción 2\n",
    "    maxValue = 0\n",
    "    for key in freqMap:\n",
    "        if freqMap[key] >= maxValue: #  \n",
    "            maxValue = freqMap[key]\n",
    "    return( maxValue )\n",
    "def MaxOfDict2(dictName):\n",
    "    # Opción 1 maxValue = np.max(listValores)\n",
    "    listaValores=[]\n",
    "    for key in freqMap:\n",
    "        listaValores.append(freqMap[key])\n",
    "    maxValue = np.max(listaValores)\n",
    "    return( maxValue )  \n",
    "    \n",
    "def BetterFrequentWords(Text, k): \n",
    "    FrequentPatterns = [] \n",
    "    freqMap = FrequencyDicionary(Text, k) \n",
    "    maxfreqMap = MaxOfDict1(freqMap) # alternativamente podemos usar MaxOfDict2\n",
    "    print(maxfreqMap) # deberia ser un 3\n",
    "    for Pattern in freqMap: \n",
    "        if freqMap[Pattern] == maxfreqMap: \n",
    "            FrequentPatterns.append(Pattern)\n",
    "    return( FrequentPatterns )"
   ]
  },
  {
   "cell_type": "code",
   "execution_count": null,
   "metadata": {},
   "outputs": [],
   "source": [
    "Text=\"atcaatgatcaacgtaagcttctaagcatgatcaaggtgctcacacagtttatccacaac\\\n",
    "ctgagtggatgacatcaagataggtcgttgtatctccttcctctcgtactctcatgacca\\\n",
    "cggaaagatgatcaagagaggatgatttcttggccatatcgcaatgaatacttgtgactt\\\n",
    "gtgcttccaattgacatcttcagcgccatattgcgctggccaaggtgacggagcgggatt\\\n",
    "acgaaagcatgatcatggctgttgttctgtttatcttgttttgactgagacttgttagga\\\n",
    "tagacggtttttcatcactgactagccaaagccttactctgcctgacatcgaccgtaaat\\\n",
    "tgataatgaatttacatgcttccgcgacgatttacctcttgatcatcgatccgattgaag\\\n",
    "atcttcaattgttaattctcttgcctcgactcatagccatgatgagctcttgatcatgtt\\\n",
    "tccttaaccctctattttttacggaagaatgatcaagctgctgctcttgatcatcgtttc\"\n",
    "k=9\n",
    "BetterFrequentWords(Text, k)"
   ]
  },
  {
   "cell_type": "markdown",
   "metadata": {},
   "source": [
    "Tarea optativa\n",
    "==============\n",
    "\n",
    "Corregir el código de la celda ```BetterFrequentWords, MaxOfDict2, o FrequencyDicionary``` de tal manera que el resultado de \n",
    "\n",
    "```python\n",
    "Text=\"atcaatgatcaacgtaagcttctaagcatgatcaaggtgctcacacagtttatccacaac\\\n",
    "ctgagtggatgacatcaagataggtcgttgtatctccttcctctcgtactctcatgacca\\\n",
    "cggaaagatgatcaagagaggatgatttcttggccatatcgcaatgaatacttgtgactt\\\n",
    "gtgcttccaattgacatcttcagcgccatattgcgctggccaaggtgacggagcgggatt\\\n",
    "acgaaagcatgatcatggctgttgttctgtttatcttgttttgactgagacttgttagga\\\n",
    "tagacggtttttcatcactgactagccaaagccttactctgcctgacatcgaccgtaaat\\\n",
    "tgataatgaatttacatgcttccgcgacgatttacctcttgatcatcgatccgattgaag\\\n",
    "atcttcaattgttaattctcttgcctcgactcatagccatgatgagctcttgatcatgtt\\\n",
    "tccttaaccctctattttttacggaagaatgatcaagctgctgctcttgatcatcgtttc\"\n",
    "k=9\n",
    "BetterFrequentWords(Text, k)\n",
    "```\n",
    "\n",
    "sea \n",
    "\n",
    "```python\n",
    "['atgatcaag', 'ctcttgatc', 'tcttgatca', 'cttgatcat']\n",
    "```"
   ]
  },
  {
   "cell_type": "code",
   "execution_count": null,
   "metadata": {},
   "outputs": [],
   "source": []
  }
 ],
 "metadata": {
  "kernelspec": {
   "display_name": "Python 3",
   "language": "python",
   "name": "python3"
  },
  "language_info": {
   "codemirror_mode": {
    "name": "ipython",
    "version": 3
   },
   "file_extension": ".py",
   "mimetype": "text/x-python",
   "name": "python",
   "nbconvert_exporter": "python",
   "pygments_lexer": "ipython3",
   "version": "3.7.6"
  }
 },
 "nbformat": 4,
 "nbformat_minor": 4
}
