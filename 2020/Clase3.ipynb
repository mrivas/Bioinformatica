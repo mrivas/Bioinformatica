{
 "cells": [
  {
   "cell_type": "markdown",
   "metadata": {},
   "source": [
    "Clase 3\n",
    "=======\n",
    "\n",
    "Objetivos:\n",
    "* Dada una secuencia genética, determinar patrones con posibles funciones biológicas\n",
    "* Implementar computacionalmente una función para countar subsecuencias dentro de la secuencia principal.\n",
    "\n",
    "Introducción\n",
    "-------------------\n",
    "\n",
    "Para ganar intuición, analizemos un problema fundamental de bioinformática: ¿en dónde está el origen de replicación del genoma bacteriano?\n",
    "\n",
    "<img src=\"https://raw.githubusercontent.com/mrivas/Bioinformatica/master/naive_replication.png\" alt=\"Drawing\" style=\"width: 400px;\"/>\n",
    "\n",
    "[Imagen de https://www.bioinformaticsalgorithms.org/](https://www.bioinformaticsalgorithms.org/bioinformatics-chapter-1)\n",
    "\n",
    "Hay una secuencia que es reconocida por la maquinaria transcripcional. Esa secuencia (puede haber tener más de una copia en el genoma) es donde comienza a replicarse el material genético.\n",
    "\n",
    "Para encontrar tal secuencia, comenzemos por resolver problemas más simples que luego escalaremos para abarcar la complejidad del problema en cuestion. \n",
    "\n",
    "Dada una secuencia (genética, de texto, o lo que sea), empezemos por contar cuantas veces en ella está repetido un patrón. Por ejemplo, en la secuencia\n",
    "\n",
    "```python\n",
    "Secuencia=\"Hola, ¿como estas?. Hola, bien gracias. Y tú, ¿qué cuentas?\"\n",
    "```\n",
    "\n",
    "1 ¿Cuántas vences aparece el patrón\n",
    "\n",
    "```python\n",
    "\"Hola\"?\n",
    "```\n",
    "\n",
    "2 ¿Cuántas vences aparece el patrón\n",
    "\n",
    "```python\n",
    "\"as\"?\n",
    "```\n",
    "\n",
    "\n",
    "Ejercicio\n",
    "=========\n",
    "\n",
    "Implementa este algoritmo en Python. Para esto puedes usar el siguiente seudocódigo:\n",
    "\n",
    "```python\n",
    "PatternCount(Text, Pattern)\n",
    "    count ← 0\n",
    "    for i ← 0 to |Text| − |Pattern|\n",
    "        if Text(i, |Pattern|) = Pattern\n",
    "            count ← count + 1\n",
    "    return count\n",
    "```"
   ]
  },
  {
   "cell_type": "code",
   "execution_count": 2,
   "metadata": {},
   "outputs": [],
   "source": [
    "Text=\"Hola, ¿como estas?. Hola, bien gracias. Y tú, ¿qué cuentas?\""
   ]
  },
  {
   "cell_type": "code",
   "execution_count": 3,
   "metadata": {},
   "outputs": [
    {
     "name": "stdout",
     "output_type": "stream",
     "text": [
      "Hola, ¿como estas?. Hola, bien gracias. Y tú, ¿qué cuentas?\n"
     ]
    }
   ],
   "source": [
    "print(Text)"
   ]
  },
  {
   "cell_type": "code",
   "execution_count": 11,
   "metadata": {},
   "outputs": [
    {
     "data": {
      "text/plain": [
       "'Hola'"
      ]
     },
     "execution_count": 11,
     "metadata": {},
     "output_type": "execute_result"
    }
   ],
   "source": [
    "Text[0:4]"
   ]
  },
  {
   "cell_type": "code",
   "execution_count": 6,
   "metadata": {},
   "outputs": [
    {
     "data": {
      "text/plain": [
       "'a'"
      ]
     },
     "execution_count": 6,
     "metadata": {},
     "output_type": "execute_result"
    }
   ],
   "source": [
    "Text[3]"
   ]
  },
  {
   "cell_type": "code",
   "execution_count": 7,
   "metadata": {},
   "outputs": [
    {
     "data": {
      "text/plain": [
       "'¿como estas'"
      ]
     },
     "execution_count": 7,
     "metadata": {},
     "output_type": "execute_result"
    }
   ],
   "source": [
    "Text[6:17]"
   ]
  },
  {
   "cell_type": "code",
   "execution_count": 32,
   "metadata": {},
   "outputs": [
    {
     "data": {
      "text/plain": [
       "False"
      ]
     },
     "execution_count": 32,
     "metadata": {},
     "output_type": "execute_result"
    }
   ],
   "source": [
    "i=1\n",
    "Text[i:i+4] == \"Hola\""
   ]
  },
  {
   "cell_type": "code",
   "execution_count": 36,
   "metadata": {},
   "outputs": [
    {
     "name": "stdout",
     "output_type": "stream",
     "text": [
      "0 True\n",
      "20 True\n"
     ]
    }
   ],
   "source": [
    "for i in range( len(Text) ):\n",
    "    if Text[i:i+4] == \"Hola\":\n",
    "        print(i, Text[i:i+4] == \"Hola\" )# secciones de 4 elementos de Text"
   ]
  },
  {
   "cell_type": "code",
   "execution_count": 42,
   "metadata": {},
   "outputs": [
    {
     "name": "stdout",
     "output_type": "stream",
     "text": [
      "2\n"
     ]
    }
   ],
   "source": [
    "c = 0\n",
    "for i in range( len(Text) ):\n",
    "    if Text[i:i+4] == \"Hola\":\n",
    "        c = c + 1\n",
    "print(c)"
   ]
  },
  {
   "cell_type": "code",
   "execution_count": 56,
   "metadata": {},
   "outputs": [],
   "source": [
    "def ContarPatron(Text,Patron):\n",
    "    count = 0\n",
    "    for i in range( len(Text) ):\n",
    "        if Text[i:i+4] == Patron:\n",
    "            count = count + 1\n",
    "    return(count)"
   ]
  },
  {
   "cell_type": "code",
   "execution_count": 57,
   "metadata": {},
   "outputs": [
    {
     "data": {
      "text/plain": [
       "0"
      ]
     },
     "execution_count": 57,
     "metadata": {},
     "output_type": "execute_result"
    }
   ],
   "source": [
    "Secuencia=\"Hola, ¿como estas?. Hola, bien gracias. Y tú, ¿qué cuentas?\"\n",
    "Subsecuencia=\"ugh\"\n",
    "ContarPatron(Secuencia,Subsecuencia)"
   ]
  },
  {
   "cell_type": "code",
   "execution_count": 46,
   "metadata": {},
   "outputs": [
    {
     "data": {
      "text/plain": [
       "-0.5440211108893698"
      ]
     },
     "execution_count": 46,
     "metadata": {},
     "output_type": "execute_result"
    }
   ],
   "source": [
    "PatternCount(Text, Pattern)\n",
    "    count ← 0\n",
    "    for i ← 0 to |Text| − |Pattern|\n",
    "        if Text(i, |Pattern|) = Pattern\n",
    "            count ← count + 1\n",
    "    return count"
   ]
  },
  {
   "cell_type": "code",
   "execution_count": 72,
   "metadata": {},
   "outputs": [],
   "source": [
    "def PatternCount(Text, Pattern):\n",
    "    count = 0\n",
    "    for i in range(len(Text)-len(Pattern)):\n",
    "        if Text[i:(i+len(Pattern))] == Pattern:\n",
    "            count = count + 1\n",
    "    return(count)"
   ]
  },
  {
   "cell_type": "code",
   "execution_count": 73,
   "metadata": {},
   "outputs": [
    {
     "data": {
      "text/plain": [
       "3"
      ]
     },
     "execution_count": 73,
     "metadata": {},
     "output_type": "execute_result"
    }
   ],
   "source": [
    "Text=\"Hola, ¿como estas?. Hola, bien gracias. Y tú, ¿qué cuentas?\"\n",
    "Pattern=\"as\"\n",
    "PatternCount(Text, Pattern)"
   ]
  },
  {
   "cell_type": "markdown",
   "metadata": {},
   "source": [
    "Tarea optativa\n",
    "==============\n",
    "\n",
    "Corregir el código de la función PatterCount"
   ]
  },
  {
   "cell_type": "code",
   "execution_count": 74,
   "metadata": {},
   "outputs": [
    {
     "data": {
      "text/plain": [
       "0"
      ]
     },
     "execution_count": 74,
     "metadata": {},
     "output_type": "execute_result"
    }
   ],
   "source": [
    "Text=\"Hola, ¿como estas?. Hola, bien gracias. Y tú, ¿qué cuentas?\"\n",
    "Pattern=\"cuentas?\"\n",
    "PatternCount(Text, Pattern)"
   ]
  },
  {
   "cell_type": "code",
   "execution_count": 75,
   "metadata": {},
   "outputs": [
    {
     "data": {
      "text/plain": [
       "[<matplotlib.lines.Line2D at 0x7f225b317b10>]"
      ]
     },
     "execution_count": 75,
     "metadata": {},
     "output_type": "execute_result"
    },
    {
     "data": {
      "image/png": "[encoded data removed]",
      "text/plain": [
       "<Figure size 432x288 with 1 Axes>"
      ]
     },
     "metadata": {
      "needs_background": "light"
     },
     "output_type": "display_data"
    }
   ],
   "source": [
    "#Aqui voy a hacer el gráfico de sin(x)\n",
    "# Debo importar la libreria para hacer grágicos: matplotlib\n",
    "from matplotlib import pyplot\n",
    "import numpy\n",
    "x=[1,2,3,4,5,6,7,8,9]\n",
    "pyplot.plot(x,numpy.sin(x))\n",
    "\n",
    "from matplotlib import pyplot as plt\n",
    "import numpy as np\n",
    "x=np.linspace(1,9,50)\n",
    "plt.plot(x,np.sin(x))"
   ]
  },
  {
   "cell_type": "code",
   "execution_count": null,
   "metadata": {},
   "outputs": [],
   "source": []
  }
 ],
 "metadata": {
  "kernelspec": {
   "display_name": "Python 3",
   "language": "python",
   "name": "python3"
  },
  "language_info": {
   "codemirror_mode": {
    "name": "ipython",
    "version": 3
   },
   "file_extension": ".py",
   "mimetype": "text/x-python",
   "name": "python",
   "nbconvert_exporter": "python",
   "pygments_lexer": "ipython3",
   "version": "3.7.6"
  }
 },
 "nbformat": 4,
 "nbformat_minor": 4
}
