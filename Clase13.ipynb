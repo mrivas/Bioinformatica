{
 "cells": [
  {
   "cell_type": "markdown",
   "metadata": {},
   "source": [
    "<font size=\"4\">\n",
    "    \n",
    "Clase 13\n",
    "====\n",
    "    \n",
    "Objetivos\n",
    "-------\n",
    "\n",
    "Introducciónn a:    \n",
    "    \n",
    "* Árboles filogenéticos\n",
    "* Algoritmo UPGMA\n",
    "* Implementación en Python\n",
    "\n",
    "Árboles filogenéticos    \n",
    "---------\n",
    "      \n",
    "La similiaridad de los mecanismos moleculares presentes en los organismos vivos sugiere que todos los organismos comparten un antepasado común. Así, todas las especies están relacionadas, y está relación se llama filogénia. Estas relaciones pueden ser representadas con un árbol filogenético.\n",
    "    \n",
    "<img src=\"https://raw.githubusercontent.com/mrivas/Bioinformatica/master/clase12_phylogeneticTree.png\" alt=\"Drawing\" style=\"width: 400px;\"/>    \n",
    "    \n",
    "Tradicionalmente, la relaciones filogenéticas se inferían a partir de las caracteristicas morfólogicas de los organismos. Pero con el desarrollo de las técnicas de secuneciamiento génetico, ahora podemos inferir estás relaciones analisando la similiaridad del material genéticos de los organismos. Por ejemplo, es plausible asumir que dos secuencias que derivan de un atenpasado común tendrán más diferencias (peor alineamiento) a medida que el aumento el tiempo desde el evento de diversificación. \n",
    "    \n",
    "En la unidad anterior consideramos el problema de alineamiento entre secuencias genéticas. Ahora veremos como utilizar esa información para inferir relaciones filogenéticas. \n",
    "    \n",
    "Algoritmo UPGMA\n",
    "------------\n",
    "    \n",
    "Una manera intuitiva de construir arboles filogenéticos es considerar las distancias $d_{i,j}$ entre las secuencias $i$ y $j$. Hay muchas maneras de definit $d_{i,j}$. Por ejemplo, como la fracción $f$ de sitios en los cuales difieren las secuencias $i$ y $j$. Sin embargo, hay que tener en consideración la fracción $f$ que se obtendría aleatoriamente entre dos secuencias totalmente no relacionadas. En este caso el valor de $f$ sería $3/4$. Teniendo ésto en consideranción, una definición de distancia más adecuada sería una que se tiende a infinito a medida que $f$ tiende a $3/4$. Una manera de implementar esto es la a través de la distancia de Jukes-Cantor\n",
    "    \n",
    "$d_{i,j} = -\\frac{3}{4}log(1-f\\frac{4}{3})$    \n",
    "    \n",
    "</font>"
   ]
  },
  {
   "cell_type": "code",
   "execution_count": 15,
   "metadata": {},
   "outputs": [
    {
     "data": {
      "text/plain": [
       "Text(0.5, 1.0, 'Distancia de Jukes-Cantor')"
      ]
     },
     "execution_count": 15,
     "metadata": {},
     "output_type": "execute_result"
    },
    {
     "data": {
      "image/png": "[encoded data removed]",
      "text/plain": [
       "<Figure size 432x288 with 1 Axes>"
      ]
     },
     "metadata": {
      "needs_background": "light"
     },
     "output_type": "display_data"
    }
   ],
   "source": [
    "import numpy as np\n",
    "from matplotlib import pyplot as plt\n",
    "f=np.linspace(0,0.749999,200)\n",
    "d=-3/4*np.log(1-f*4/3)\n",
    "plt.plot(f,d)\n",
    "plt.xlabel(\"f\")\n",
    "plt.ylabel(\"d\")\n",
    "plt.axvline(0.75,color=\"red\",linestyle=\"--\")\n",
    "plt.title(\"Distancia de Jukes-Cantor\")"
   ]
  },
  {
   "cell_type": "markdown",
   "metadata": {},
   "source": [
    "<font size=\"4\">\n",
    "\n",
    "La distancia entre secuencias también la podemos extender a las distancias entre clusters como la distancia promedio entre los pares de secuencias contenidos en cada cluster:\n",
    "\n",
    "\\begin{equation}    \n",
    "d_{i,j} = \\frac{1}{|C_i||C_j|} \\sum_{p \\in C_i, q \\in C_j}d_{p,q}\n",
    "\\end{equation}   \n",
    "    \n",
    "donde: \n",
    "    \n",
    "$|C_i|$ y $|C_j|$ son el número de secuencias en los clusters $i$ y $j$.\n",
    "    \n",
    "    \n",
    "Notar que si $C_k$ es la unión de dos clusters, $C_i$ y $C_j$, entonces $C_k=C_i \\cup C_j$, y su distancia con el cluter $l$ es:\n",
    "    \n",
    "\\begin{equation}    \n",
    "d_{k,l} = \\frac{d_{i,l}|C_i|+d_{j,l}|C_j|}{|C_i|+|C_j|}\n",
    "\\end{equation}     \n",
    "    \n",
    "Así, el algoritmo es el siguiente:\n",
    "    \n",
    "1. Inicialización\n",
    "    * Por cada secuencia $i$ define un cluser $C_i$.\n",
    "    * Define una hoja por cada secuencia asignale una altura zero.\n",
    "2. Itearción:\n",
    "    * Determina los dos clusters $i$ y $j$ para los cuales $d_{i,j}$ es mínima (si hay más de dos, selecionalos aleatoriamente).\n",
    "    * Define un nuevo cluster $k$ como $C_k=C_i \\cup C_j$, y define $d_{k,l}$.\n",
    "    * Define un nodo $k$ with nodos hijos $i$ y $j$ y asignale una altura de $d_{i,j}/2$.\n",
    "    * Agregar $k$ al conjunto de clusters y remueve $i$ y $j$ de los clusters.\n",
    "3. Termino:\n",
    "    * Cuando solo queden dos clusters, $i$ y $j$, ubicalos como como nodo raiz con una altura de $d_{i,j}/2$.\n",
    "    \n",
    "<img src=\"https://raw.githubusercontent.com/mrivas/Bioinformatica/master/clase12_UPGMA.jpg\" alt=\"Drawing\" style=\"width: 400px;\"/>     \n",
    "    \n",
    "</font>"
   ]
  },
  {
   "cell_type": "markdown",
   "metadata": {},
   "source": [
    "Implementación en Python\n",
    "---------------------"
   ]
  },
  {
   "cell_type": "code",
   "execution_count": 38,
   "metadata": {},
   "outputs": [],
   "source": [
    "from scipy.cluster.hierarchy import dendrogram, linkage\n",
    "from matplotlib import pyplot as plt\n",
    "\n",
    "d = np.array([[0,1,3],[1,0,3],[1,1,0]])"
   ]
  },
  {
   "cell_type": "code",
   "execution_count": 39,
   "metadata": {},
   "outputs": [
    {
     "data": {
      "text/plain": [
       "array([[0, 1, 3],\n",
       "       [1, 0, 3],\n",
       "       [1, 1, 0]])"
      ]
     },
     "execution_count": 39,
     "metadata": {},
     "output_type": "execute_result"
    }
   ],
   "source": [
    "d"
   ]
  },
  {
   "cell_type": "code",
   "execution_count": 40,
   "metadata": {},
   "outputs": [
    {
     "data": {
      "image/png": "[encoded data removed]",
      "text/plain": [
       "<Figure size 1800x720 with 1 Axes>"
      ]
     },
     "metadata": {
      "needs_background": "light"
     },
     "output_type": "display_data"
    }
   ],
   "source": [
    "Z = linkage(d, 'average')\n",
    "fig = plt.figure(figsize=(25, 10))\n",
    "dn = dendrogram(Z)"
   ]
  },
  {
   "cell_type": "markdown",
   "metadata": {},
   "source": [
    "Ejercicio\n",
    "--------\n",
    "\n",
    "Realiza el dendrograma de la siguiente matriz de distancias:\n",
    "    \n",
    "```\n",
    "d = np.array([[0,1,6,5,5],[1,0,6,5,5],[6,6,0,3,5],[5,5,3,0,1.1],[5,5,5,1.1,0]])\n",
    "```"
   ]
  },
  {
   "cell_type": "code",
   "execution_count": null,
   "metadata": {},
   "outputs": [],
   "source": []
  },
  {
   "cell_type": "markdown",
   "metadata": {},
   "source": [
    "Ejercicio\n",
    "--------\n",
    "\n",
    "Dadas las siguintes secuencias:\n",
    "\n",
    "```\n",
    "seq1=\"CGGGCATAACGTAGAGGGCAGGCATAACGAAGGAGGTAGGCA\"\n",
    "seq2=\"CGGGCTTAACGTAGAGGGCAGGCATAACGAAGGAGGTAGGCA\"\n",
    "seq3=\"CGGGCTTAACGTAGAGCGCAGGCATCACGAAGGGGGTAGGCA\"\n",
    "seq4=\"CGAGCTTAACGTAGAGCGCAGTCATCACGAAGGGGGTAGGCA\"\n",
    "seq5=\"CGCGCTTAACGTAGAGCGCAGTCATCACGAAGCCGGTAGGCT\"\n",
    "```\n",
    "\n",
    "1. Escribe un programa para calcular las distancias entre cada par de secuencias.\n",
    "2. Computa la matriz de distancias\n",
    "3. Haz el dendrograma de acuerdo al algoritmo de UPGMA."
   ]
  },
  {
   "cell_type": "code",
   "execution_count": null,
   "metadata": {},
   "outputs": [],
   "source": []
  },
  {
   "cell_type": "code",
   "execution_count": null,
   "metadata": {},
   "outputs": [],
   "source": []
  }
 ],
 "metadata": {
  "kernelspec": {
   "display_name": "Python 3",
   "language": "python",
   "name": "python3"
  },
  "language_info": {
   "codemirror_mode": {
    "name": "ipython",
    "version": 3
   },
   "file_extension": ".py",
   "mimetype": "text/x-python",
   "name": "python",
   "nbconvert_exporter": "python",
   "pygments_lexer": "ipython3",
   "version": "3.7.6"
  }
 },
 "nbformat": 4,
 "nbformat_minor": 4
}
