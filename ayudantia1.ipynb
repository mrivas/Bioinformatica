{
 "cells": [
  {
   "cell_type": "markdown",
   "metadata": {},
   "source": [
    "CONCEPTOS BÁSICOS PYTHON\n",
    "\n",
    "1.Operaciones básicas en Python:\n",
    "Al igual que una calculadora, en python se pueden realizar operaciones matemáticas simples, para esto escribiremos la operación y luego se ejecuta la línea de código."
   ]
  },
  {
   "cell_type": "code",
   "execution_count": 9,
   "metadata": {},
   "outputs": [
    {
     "data": {
      "text/plain": [
       "100000"
      ]
     },
     "execution_count": 9,
     "metadata": {},
     "output_type": "execute_result"
    }
   ],
   "source": [
    "#Cualquier línea de código que parta con \"#\" se tomará como comentario y no será compilado \n",
    "#suma:\n",
    "10+5\n",
    "#resta\n",
    "10-5\n",
    "#multiplicación\n",
    "10*5\n",
    "#división\n",
    "10/5\n",
    "#resto\n",
    "10%5\n",
    "#potencias\n",
    "10**5"
   ]
  },
  {
   "cell_type": "markdown",
   "metadata": {},
   "source": [
    "2.Strings:\n",
    "Así como podemos trabajar con números, podemos trabajar con palabras o letras, estos son comunmente llamados \"strings\". un comando muy utilizado, es pedirle a un código que nos devuelva algo escrito, para esto utilizamos print(). como este comando sirve para devolver también valores numéricos, cuando queremos asegurar que son strings, ocupamos las comillas (pueden usar tanto las comillas simples como dobles). "
   ]
  },
  {
   "cell_type": "code",
   "execution_count": 13,
   "metadata": {},
   "outputs": [
    {
     "name": "stdout",
     "output_type": "stream",
     "text": [
      "hola a todos!\n",
      "15\n",
      "10+5\n"
     ]
    }
   ],
   "source": [
    "#usar comando print para un string\n",
    "print(\"hola a todos!\")\n",
    "#usar comando print para una suma de números\n",
    "print(10+5)\n",
    "#usar comando print para que nos devuelva la suma como un string\n",
    "print('10+5')"
   ]
  },
  {
   "cell_type": "markdown",
   "metadata": {},
   "source": [
    "3.Variables:\n",
    "Las variables son plabras o letras en donde almacenamos una información, estas las podemos utilizar para no tener que escribir grandes cosas varias veces o para poder cambiar información que se ha utilizado mucho en un código haciendo un solo cambio. Se utiliza el signo = y a este se le pueden realizar distintas operaciones. Los nombres de las variables no deben comenzar con números ni contener espacios."
   ]
  },
  {
   "cell_type": "code",
   "execution_count": 24,
   "metadata": {},
   "outputs": [
    {
     "name": "stdout",
     "output_type": "stream",
     "text": [
      "10\n",
      "a\n",
      "4\n",
      "hola \n",
      "hola a todos\n",
      "hola hola hola hola hola \n"
     ]
    }
   ],
   "source": [
    "#asignamos valores a \"a\" y \"b\"\n",
    "a=10\n",
    "b=5\n",
    "#sumar a + b\n",
    "a+b\n",
    "#imprimir el valor de a\n",
    "print(a)\n",
    "#imprimir la letra a\n",
    "print(\"a\")\n",
    "#cambiar valor de a\n",
    "a=4\n",
    "#volver a imprimir a\n",
    "print(a)\n",
    "#asignar palabras a variables\n",
    "c=\"hola \"\n",
    "d=\"a todos\"\n",
    "#imprimir c\n",
    "print(c)\n",
    "#unir c y d\n",
    "print(c+d)\n",
    "#imprimir 5 veces \"hola \"\n",
    "print(5*c)"
   ]
  },
  {
   "cell_type": "markdown",
   "metadata": {},
   "source": [
    "4.Listas 1:\n",
    "Estas nos permiten almacenar muchos datos en una sola variable, para esto utilizamos los paréntesis cuadrados y separamos cada dato con una coma. La posición de un elemento o índice será un numero, comenzando a contar desde el 0. Los strings pueden funcionar como listas, siendo cada caracter un elemento."
   ]
  },
  {
   "cell_type": "code",
   "execution_count": 42,
   "metadata": {},
   "outputs": [
    {
     "name": "stdout",
     "output_type": "stream",
     "text": [
      "['plátano', 'limon', 'uva', 'naranja', 'manzana', 'pera']\n",
      "naranja\n",
      "plátano-naranja\n",
      "['limon', 'uva']\n",
      "['plátano', 'uva', 'manzana']\n",
      "6\n",
      "hola a todos\n",
      "12\n",
      "a\n"
     ]
    }
   ],
   "source": [
    "#crear una lísta de frutas\n",
    "frutas=[\"plátano\",\"limon\",\"uva\",\"naranja\",\"manzana\",\"pera\"]\n",
    "#imprimir la lista\n",
    "print(frutas)\n",
    "#imprimir el cuarto elemento de la lista (recordar que los indices parten de 0, no de 1)\n",
    "print(frutas[3])\n",
    "#imprimir la primera y cuarta fruta, pero separadas por un guión\n",
    "print(frutas[0]+\"-\"+frutas[3])\n",
    "#imprimir un rango de elementos\n",
    "print(frutas[1:3])\n",
    "#imprimir los elementos sltándose 1\n",
    "print(frutas[0:5:2])\n",
    "#mostrar el largo de una lista\n",
    "print(len(frutas))\n",
    "#asignar una frase a una variable, imprimirla,calcular el número de caracteres y mostrar el 6o caracter\n",
    "frase=\"hola a todos\"\n",
    "print(frase)\n",
    "print(len(frase))\n",
    "print(frase[5])"
   ]
  },
  {
   "cell_type": "markdown",
   "metadata": {},
   "source": [
    "5.Listas 2:\n",
    "Las listas pueden tener mezclas de tipos de elementos, cada objeto puede ser numérico, string, hasta puede ser otra lista."
   ]
  },
  {
   "cell_type": "code",
   "execution_count": 14,
   "metadata": {},
   "outputs": [
    {
     "name": "stdout",
     "output_type": "stream",
     "text": [
      "5\n",
      "3\n",
      "b\n",
      "['queso', 'leche']\n"
     ]
    }
   ],
   "source": [
    "#crear una lista con objetos mixtos\n",
    "mix=[1,\"hola\",[\"a\",\"b\",\"c\"],\"chao\",3]\n",
    "#imprimir el largo de la lista\n",
    "print(len(mix))\n",
    "#imprimir el quinto elemento de la lista\n",
    "print(mix[4])\n",
    "#imprimir el segundo elemento del tercer elemento de la lista\n",
    "print(mix[2][1])\n",
    "#crear una lista vacia para luego llenarla\n",
    "ej=[]\n",
    "ej.append(\"queso\")\n",
    "ej.append(\"leche\")\n",
    "print(ej)"
   ]
  },
  {
   "cell_type": "markdown",
   "metadata": {},
   "source": [
    "6.Ciclo iterativo FOR: Esta herramienta nos permite acortar codigos en los que se debe realizar una tarea de forma repetitiva, ya sea siguiendo una secuencia numérica o los elementos de una lista o string. Para esto se suele usar una variable local, la cual irá cambiando su valor en cada vuelta del ciclo. Al ser una variable local, esta no podra ser referenciada fuera del ciclo for.  "
   ]
  },
  {
   "cell_type": "code",
   "execution_count": 15,
   "metadata": {},
   "outputs": [
    {
     "name": "stdout",
     "output_type": "stream",
     "text": [
      "0\n",
      "1\n",
      "2\n",
      "3\n",
      "4\n",
      "5\n",
      "blanco\n",
      "verde\n",
      "negro\n",
      "rojo\n",
      "morado\n",
      "blanco\n",
      "verde\n",
      "negro\n",
      "rojo\n",
      "morado\n"
     ]
    }
   ],
   "source": [
    "#ejecutar un ciclo for que se mueva entre el 0 y el 5 y que imprima estos valores\n",
    "for i in range(6):\n",
    "    print(i)\n",
    "#crear una lista y ejecutar un ciclo for que se mueva por sus elementos\n",
    "colores=[\"blanco\",\"verde\",\"negro\",\"rojo\",\"morado\"]\n",
    "for i in colores:\n",
    "    print(i)\n",
    "#otra forma de hacer lo mismo de arriba\n",
    "for i in range(len(colores)):\n",
    "    print(colores[i])"
   ]
  },
  {
   "cell_type": "markdown",
   "metadata": {},
   "source": [
    "7.Ciclo iterativo WHILE: al igual que un ciclo for, este repite una acción repetidamente, pero con la diferencia de que para este no necesitamos conocer exactamente el número de veces que este va a repetirse, pero por lo mismo, debemos declarar una condición que, cuando deje de ser verdadera, detendrá el ciclo while. Esto último es importante para evitar tener loops infinitos. Para establecer la condición podemos usar \"==\" para representar una igualdad, \"!=\" para una desigualdad, \"<\" menor, \">\" mayor, \"<=\" menor o igual y \">=\" mayor o igual."
   ]
  },
  {
   "cell_type": "code",
   "execution_count": 18,
   "metadata": {},
   "outputs": [
    {
     "name": "stdout",
     "output_type": "stream",
     "text": [
      "0\n",
      "1\n",
      "2\n",
      "3\n"
     ]
    }
   ],
   "source": [
    "#crear una variable como contador\n",
    "contador=0\n",
    "#crear un ciclo while que se ejecute mientras contador sea menor que 4\n",
    "while(contador<4):\n",
    "    print(contador)\n",
    "    #para que esto no se repita de forma infinita, debemos variar el valor del contador\n",
    "    contador=contador+1"
   ]
  },
  {
   "cell_type": "markdown",
   "metadata": {},
   "source": [
    "EJERCICIOS\n",
    "1.Después de un largo análisis se logró secuenciar un fragmento de ADN el cual se presentará a continuación. A este fragmento se le deben realizar las siguientes operaciones:\n",
    "    a.Determinar cuál es la base número 20\n",
    "    b.Determinar el largo total de la secuencia\n",
    "    c.Guardar en una nueva variable la secuencia entre las posiciones 10 y 21\n",
    "    d.Determinar cuál es la quinta base de la nueva secuencia\n",
    "    e.Convertir la secuencia creada en el paso c. en una lista\n",
    "2.DESAFIO:\n",
    "    f.Convertir la secuencia creada en el paso c. en una lista, pero que se detenga en la primera \"G\"\n",
    "    g.Invertir el orden de la lista creada en el paso e."
   ]
  },
  {
   "cell_type": "code",
   "execution_count": null,
   "metadata": {},
   "outputs": [],
   "source": [
    "#secuencia para los ejercicios (tener en cuenta que python distingue mayúsculas, por lo que \"a\" != \"A\")\n",
    "sec=\"AGGTGCATACAAACGGAGACAAGTATGCTTGTACAGAGGTGACCATAGACAGAACATTGTTACAGAGGTTGCAGCCAGATC\""
   ]
  }
 ],
 "metadata": {
  "kernelspec": {
   "display_name": "Python 3",
   "language": "python",
   "name": "python3"
  },
  "language_info": {
   "codemirror_mode": {
    "name": "ipython",
    "version": 3
   },
   "file_extension": ".py",
   "mimetype": "text/x-python",
   "name": "python",
   "nbconvert_exporter": "python",
   "pygments_lexer": "ipython3",
   "version": "3.7.6"
  }
 },
 "nbformat": 4,
 "nbformat_minor": 4
}
