{
 "cells": [
  {
   "cell_type": "markdown",
   "metadata": {
    "slideshow": {
     "slide_type": "slide"
    }
   },
   "source": [
    "# Clase 6"
   ]
  },
  {
   "cell_type": "markdown",
   "metadata": {
    "slideshow": {
     "slide_type": "slide"
    }
   },
   "source": [
    "Objetivos\n",
    "\n",
    "* Anuncios\n",
    "* Concepto de alineamiento global\n",
    "* Representación matricial de alineamientos\n",
    "* Algortimo de alineamiento de Needleman-Wunsh"
   ]
  },
  {
   "cell_type": "markdown",
   "metadata": {
    "slideshow": {
     "slide_type": "slide"
    }
   },
   "source": [
    "# Anuncios"
   ]
  },
  {
   "cell_type": "markdown",
   "metadata": {
    "slideshow": {
     "slide_type": "slide"
    }
   },
   "source": [
    "Para facilitar la visualización de la hoja de jupyter es recomendable utilizar [RISE](https://rise.readthedocs.io/en/stable/installation.html).\n",
    "\n",
    "Para instalar esta herramienta, ejecutar en el terminal de anaconda:\n",
    "\n",
    "```python\n",
    "conda install -c conda-forge rise\n",
    "```"
   ]
  },
  {
   "cell_type": "markdown",
   "metadata": {},
   "source": [
    "La fechas de las evaluaciones están en [Reko](https://reko.utem.cl/beta/u/1/aula/asignatura/955/seccion/5377/recursos-educativos/12889/invitado/contenido/50521/contenido-libre)"
   ]
  },
  {
   "cell_type": "markdown",
   "metadata": {
    "slideshow": {
     "slide_type": "slide"
    }
   },
   "source": [
    "# Alineamiento global\n",
    "\n",
    "\n",
    "En la clase anterior aprendimos a evaluar la bondad de un alineamiento entre dos secuencias a través de la medición de su score. Si tenemos dos alineamientos, elegimos el que tenga el mayor **score**. \n",
    "\n",
    "Esto implica, que el dentro de todos los alineamientos posibles entre dos secuencias, el mejor es aquel con el máximo score. Esto se llama alineamiento global.\n",
    "\n",
    "El algoritmo de **Needleman-Wuns** utiliza una matriz de substitución (por ejemplo BLOSUM50) para encontrar el alineamiento con el maximo score posible.\n",
    "\n",
    "Antes de ver el algoritmo de **Needleman-Wunsh**, veamos maneras convenientes de representar los alineamientos."
   ]
  },
  {
   "cell_type": "markdown",
   "metadata": {
    "slideshow": {
     "slide_type": "slide"
    }
   },
   "source": [
    "# Representación matricial del alineamiento de dos secuencias\n"
   ]
  },
  {
   "cell_type": "markdown",
   "metadata": {
    "slideshow": {
     "slide_type": "slide"
    }
   },
   "source": [
    "Las secuencias: \n",
    "```\n",
    "x=AETGGW  \n",
    "y=AEEH\n",
    "```\n",
    "Pueden ser alineadas como\n",
    "```\n",
    "AETGGW\n",
    "A-E-EH\n",
    "```\n",
    "o\n",
    "```\n",
    "AETGGW\n",
    "AEE--H\n",
    "```  \n",
    "o de varias otras formas.  "
   ]
  },
  {
   "cell_type": "markdown",
   "metadata": {
    "slideshow": {
     "slide_type": "slide"
    }
   },
   "source": [
    "Para expresar todos los posibles alineamientos de manera compacta podemos hacer uso de una representación matricial. Por ejemplo:\n",
    "    \n",
    "```\n",
    "AETGGW    AETGGW\n",
    "A-E-EH    AEE--H\n",
    "```\n",
    "Puden ser representados de la siguiente manera:\n",
    "\n",
    "<table><tr>\n",
    "<td> <img src=\"https://raw.githubusercontent.com/mrivas/Bioinformatica/master/clase9_matrixAlingment1.png\" alt=\"Drawing\" style=\"width: 250px;\"/> </td>\n",
    "<td> <img src=\"https://raw.githubusercontent.com/mrivas/Bioinformatica/master/clase9_matrixAlingment1.png\" alt=\"Drawing\" style=\"width: 250px;\"/> </td>\n",
    "</tr></table>"
   ]
  },
  {
   "cell_type": "markdown",
   "metadata": {
    "slideshow": {
     "slide_type": "slide"
    }
   },
   "source": [
    "¿Cómo podemos representar alineamientos que comienzan con un gap? Por ejemplo:\n",
    "\n",
    "```\n",
    "AETGGW    -AETGGW\n",
    "-AEE-H    AE-E--H\n",
    "```\n",
    "\n",
    "Para ésto podemos agregar la siguiente modificación a nuesta matriz de alineamientos:\n",
    "\n",
    "\n",
    "<table><tr>\n",
    "<td> <img src=\"https://raw.githubusercontent.com/mrivas/Bioinformatica/master/clase9_alignmentMatrix2.png\" alt=\"Drawing\" style=\"width: 250px;\"/> </td>\n",
    "<td> <img src=\"https://raw.githubusercontent.com/mrivas/Bioinformatica/master/clase9_alignmentMatrix2.png\" alt=\"Drawing\" style=\"width: 250px;\"/> </td>\n",
    "</tr></table>"
   ]
  },
  {
   "cell_type": "markdown",
   "metadata": {
    "slideshow": {
     "slide_type": "slide"
    }
   },
   "source": [
    "**Ejercicio 1** Representa en forma matricial los siguientes alienamientos:\n",
    "\n",
    "1.\n",
    "```\n",
    "GTAAETGGW\n",
    "-WTAE-E-H\n",
    "```\n",
    "2.\n",
    "```\n",
    "-ETGGTAGW\n",
    "E-E--WTAH\n",
    "```\n"
   ]
  },
  {
   "cell_type": "markdown",
   "metadata": {
    "slideshow": {
     "slide_type": "slide"
    }
   },
   "source": [
    "**Ejercicio 2** Para verificar que entendimos como ésto funciona, ahora hagamos el proceso en sentido inverso. Dadas las siguientes matrices, representa el alineamiento como una secuencia letra a letra:\n",
    "\n",
    "<table><tr>\n",
    "<td> <img src=\"https://raw.githubusercontent.com/mrivas/Bioinformatica/master/clase9_example1.png\" alt=\"Drawing\" style=\"width: 350px;\"/> </td>\n",
    "<td> <img src=\"https://raw.githubusercontent.com/mrivas/Bioinformatica/master/clase9_example2.png\" alt=\"Drawing\" style=\"width: 350px;\"/> </td>\n",
    "</tr></table>"
   ]
  },
  {
   "cell_type": "markdown",
   "metadata": {
    "slideshow": {
     "slide_type": "slide"
    }
   },
   "source": [
    "# Algortimo de alineamiento de Needleman-Wunsh"
   ]
  },
  {
   "cell_type": "markdown",
   "metadata": {
    "slideshow": {
     "slide_type": "slide"
    }
   },
   "source": [
    "## ¿De qué sirve ésto? En la misma matríz podemos anotar los scores de los alineamientos parciales\n",
    "\n",
    "\n",
    "Supongamos que utilizando la matriz BLOSUM50 (scores para match/mismatch) y $d=-8$ (score para gaps), queremos encontrar el mejor alineamineto entre las secuencias\n",
    "```\n",
    "  x=HEAGAWGHEE   y=PAWHEAE \n",
    "```\n"
   ]
  },
  {
   "cell_type": "markdown",
   "metadata": {
    "slideshow": {
     "slide_type": "slide"
    }
   },
   "source": [
    " En este caso podemos escribir todas la alineaciones posibles y los scores de los mejores alineamientos parciales como la matriz:\n",
    "\n",
    "<img src=\"https://raw.githubusercontent.com/mrivas/Bioinformatica/master/clase7_exampleAlignment.jpg\" alt=\"Drawing\" style=\"width: 400px;\" />\n",
    "\n",
    "En donde la coordenada $(i,j)$ corresponde al mejor score entre las secuencias $x_{1...i}$ y $y_{1...j}$. "
   ]
  },
  {
   "cell_type": "markdown",
   "metadata": {
    "slideshow": {
     "slide_type": "slide"
    }
   },
   "source": [
    "Calculamos el valor de cada coordenadas en base a sus valores adyacentes:\n",
    "\n",
    "<table><tr>\n",
    "<td> <img src=\"https://raw.githubusercontent.com/mrivas/Bioinformatica/master/clase7_exampleAlignment.jpg\" alt=\"Drawing\" style=\"width: 350px;\"/> </td>\n",
    "<td> <img src=\"https://raw.githubusercontent.com/mrivas/Bioinformatica/master/clase7_trace.jpg\" alt=\"Drawing\" style=\"width: 250px;\"/> </td>\n",
    "</tr></table>"
   ]
  },
  {
   "cell_type": "markdown",
   "metadata": {
    "slideshow": {
     "slide_type": "slide"
    }
   },
   "source": [
    "De estas tres opciones, se selecciona el score que hasta ese momento sea el más alto:\n",
    "\n",
    "<table><tr>\n",
    "<td> <img src=\"https://raw.githubusercontent.com/mrivas/Bioinformatica/master/clase7_trace.jpg\" alt=\"Drawing\" style=\"width: 350px;\"/> </td>\n",
    "<td> <img src=\"https://raw.githubusercontent.com/mrivas/Bioinformatica/master/clase7_selection.jpg\" alt=\"Drawing\" style=\"width: 450px;\"/> </td>\n",
    "</tr></table>\n"
   ]
  },
  {
   "cell_type": "markdown",
   "metadata": {
    "slideshow": {
     "slide_type": "slide"
    }
   },
   "source": [
    "Ejercicio 4\n",
    "----------\n",
    "\n",
    "Dada las secuencias $x=HEAGAWGHEE$, $y=PAWHEAE$, escribe código para:\n",
    "\n",
    "1. Construir la matriz con los scores de cada secuencia (Matriz BLOSUM50).\n",
    "2. Computar la matriz de los los mejores alineamientos parciales (Matriz F).\n",
    "3. Trazar la suceción de alineamientos parciales con el mayor score total.\n",
    "4. Escribe una función ```align(seq1,seq2)``` que tome como argumentos las secuencias ```seq1``` y ```seq2```, y entrgue como resultado su mejor alineamiento. "
   ]
  },
  {
   "cell_type": "code",
   "execution_count": 51,
   "metadata": {
    "slideshow": {
     "slide_type": "slide"
    }
   },
   "outputs": [],
   "source": [
    "# 1\n",
    "import numpy as np\n",
    "import pandas as pd\n",
    "from Bio.SubsMat import MatrixInfo\n",
    "\n",
    "seq1=\"HEAGAWGHEE\"\n",
    "seq2=\"PAWHEAE\"\n",
    "\n",
    "scoreMatrix=np.zeros((len(seq2),len(seq1) ) )  \n",
    "\n",
    "i = 0\n",
    "for value_i in seq2:\n",
    "    j = 0\n",
    "    for value_j in seq1:\n",
    "        pair = (value_i,value_j)\n",
    "        if not pair in MatrixInfo.blosum50:\n",
    "            pair = tuple(reversed(pair))\n",
    "        scoreMatrix[i,j]=MatrixInfo.blosum50[pair]\n",
    "        j += 1\n",
    "    i += 1\n",
    "scoreMatrix=pd.DataFrame(scoreMatrix,index=[i for i in seq2],\n",
    "                         columns=[j for j in seq1]) "
   ]
  },
  {
   "cell_type": "code",
   "execution_count": 50,
   "metadata": {
    "slideshow": {
     "slide_type": "slide"
    }
   },
   "outputs": [
    {
     "data": {
      "text/html": [
       "<div>\n",
       "<style scoped>\n",
       "    .dataframe tbody tr th:only-of-type {\n",
       "        vertical-align: middle;\n",
       "    }\n",
       "\n",
       "    .dataframe tbody tr th {\n",
       "        vertical-align: top;\n",
       "    }\n",
       "\n",
       "    .dataframe thead th {\n",
       "        text-align: right;\n",
       "    }\n",
       "</style>\n",
       "<table border=\"1\" class=\"dataframe\">\n",
       "  <thead>\n",
       "    <tr style=\"text-align: right;\">\n",
       "      <th></th>\n",
       "      <th>H</th>\n",
       "      <th>E</th>\n",
       "      <th>A</th>\n",
       "      <th>G</th>\n",
       "      <th>A</th>\n",
       "      <th>W</th>\n",
       "      <th>G</th>\n",
       "      <th>H</th>\n",
       "      <th>E</th>\n",
       "      <th>E</th>\n",
       "    </tr>\n",
       "  </thead>\n",
       "  <tbody>\n",
       "    <tr>\n",
       "      <th>P</th>\n",
       "      <td>-2.0</td>\n",
       "      <td>-1.0</td>\n",
       "      <td>-1.0</td>\n",
       "      <td>-2.0</td>\n",
       "      <td>-1.0</td>\n",
       "      <td>-4.0</td>\n",
       "      <td>-2.0</td>\n",
       "      <td>-2.0</td>\n",
       "      <td>-1.0</td>\n",
       "      <td>-1.0</td>\n",
       "    </tr>\n",
       "    <tr>\n",
       "      <th>A</th>\n",
       "      <td>-2.0</td>\n",
       "      <td>-1.0</td>\n",
       "      <td>5.0</td>\n",
       "      <td>0.0</td>\n",
       "      <td>5.0</td>\n",
       "      <td>-3.0</td>\n",
       "      <td>0.0</td>\n",
       "      <td>-2.0</td>\n",
       "      <td>-1.0</td>\n",
       "      <td>-1.0</td>\n",
       "    </tr>\n",
       "    <tr>\n",
       "      <th>W</th>\n",
       "      <td>-3.0</td>\n",
       "      <td>-3.0</td>\n",
       "      <td>-3.0</td>\n",
       "      <td>-3.0</td>\n",
       "      <td>-3.0</td>\n",
       "      <td>15.0</td>\n",
       "      <td>-3.0</td>\n",
       "      <td>-3.0</td>\n",
       "      <td>-3.0</td>\n",
       "      <td>-3.0</td>\n",
       "    </tr>\n",
       "    <tr>\n",
       "      <th>H</th>\n",
       "      <td>10.0</td>\n",
       "      <td>0.0</td>\n",
       "      <td>-2.0</td>\n",
       "      <td>-2.0</td>\n",
       "      <td>-2.0</td>\n",
       "      <td>-3.0</td>\n",
       "      <td>-2.0</td>\n",
       "      <td>10.0</td>\n",
       "      <td>0.0</td>\n",
       "      <td>0.0</td>\n",
       "    </tr>\n",
       "    <tr>\n",
       "      <th>E</th>\n",
       "      <td>0.0</td>\n",
       "      <td>6.0</td>\n",
       "      <td>-1.0</td>\n",
       "      <td>-3.0</td>\n",
       "      <td>-1.0</td>\n",
       "      <td>-3.0</td>\n",
       "      <td>-3.0</td>\n",
       "      <td>0.0</td>\n",
       "      <td>6.0</td>\n",
       "      <td>6.0</td>\n",
       "    </tr>\n",
       "    <tr>\n",
       "      <th>A</th>\n",
       "      <td>-2.0</td>\n",
       "      <td>-1.0</td>\n",
       "      <td>5.0</td>\n",
       "      <td>0.0</td>\n",
       "      <td>5.0</td>\n",
       "      <td>-3.0</td>\n",
       "      <td>0.0</td>\n",
       "      <td>-2.0</td>\n",
       "      <td>-1.0</td>\n",
       "      <td>-1.0</td>\n",
       "    </tr>\n",
       "    <tr>\n",
       "      <th>E</th>\n",
       "      <td>0.0</td>\n",
       "      <td>6.0</td>\n",
       "      <td>-1.0</td>\n",
       "      <td>-3.0</td>\n",
       "      <td>-1.0</td>\n",
       "      <td>-3.0</td>\n",
       "      <td>-3.0</td>\n",
       "      <td>0.0</td>\n",
       "      <td>6.0</td>\n",
       "      <td>6.0</td>\n",
       "    </tr>\n",
       "  </tbody>\n",
       "</table>\n",
       "</div>"
      ],
      "text/plain": [
       "      H    E    A    G    A     W    G     H    E    E\n",
       "P  -2.0 -1.0 -1.0 -2.0 -1.0  -4.0 -2.0  -2.0 -1.0 -1.0\n",
       "A  -2.0 -1.0  5.0  0.0  5.0  -3.0  0.0  -2.0 -1.0 -1.0\n",
       "W  -3.0 -3.0 -3.0 -3.0 -3.0  15.0 -3.0  -3.0 -3.0 -3.0\n",
       "H  10.0  0.0 -2.0 -2.0 -2.0  -3.0 -2.0  10.0  0.0  0.0\n",
       "E   0.0  6.0 -1.0 -3.0 -1.0  -3.0 -3.0   0.0  6.0  6.0\n",
       "A  -2.0 -1.0  5.0  0.0  5.0  -3.0  0.0  -2.0 -1.0 -1.0\n",
       "E   0.0  6.0 -1.0 -3.0 -1.0  -3.0 -3.0   0.0  6.0  6.0"
      ]
     },
     "execution_count": 50,
     "metadata": {},
     "output_type": "execute_result"
    }
   ],
   "source": [
    "scoreMatrix"
   ]
  },
  {
   "cell_type": "code",
   "execution_count": 71,
   "metadata": {
    "slideshow": {
     "slide_type": "slide"
    }
   },
   "outputs": [],
   "source": [
    "traceMatrix=np.zeros((len(seq2),len(seq1)) ) \n",
    "Fmatrix=np.zeros((len(seq2),len(seq1)) )  \n",
    "# Set first column\n",
    "Fmatrix[:,0] = -d*np.array(range( len(seq2) ))\n",
    "# Set first row\n",
    "Fmatrix[0,:] = -d*np.array(range( len(seq1) ))\n",
    "\n",
    "i = 1\n",
    "for value_i in seq2[1::]:\n",
    "    j = 1\n",
    "    for value_j in seq1[1::]:\n",
    "        pair = (value_i,value_j)\n",
    "        if not pair in MatrixInfo.blosum50:\n",
    "            pair = tuple(reversed(pair))\n",
    "        score=MatrixInfo.blosum50[pair]\n",
    "        Fmatrix[i,j] = np.max([  Fmatrix[i,j-1]-d,Fmatrix[i-1,j-1]+score,Fmatrix[i-1,j]-d  ])\n",
    "        indexMax=      np.argmax([Fmatrix[i,j-1]-d,Fmatrix[i-1,j-1]+score,Fmatrix[i-1,j]-d])\n",
    "        traceMatrix[i,j] = indexMax\n",
    "        j += 1\n",
    "    i += 1\n",
    "traceMatrix = pd.DataFrame(traceMatrix,index=[i for i in seq2],columns=[j for j in seq1]) \n",
    "Fmatrix = pd.DataFrame(Fmatrix,index=[i for i in seq2],columns=[j for j in seq1]) "
   ]
  },
  {
   "cell_type": "code",
   "execution_count": 69,
   "metadata": {
    "slideshow": {
     "slide_type": "slide"
    }
   },
   "outputs": [
    {
     "data": {
      "text/html": [
       "<div>\n",
       "<style scoped>\n",
       "    .dataframe tbody tr th:only-of-type {\n",
       "        vertical-align: middle;\n",
       "    }\n",
       "\n",
       "    .dataframe tbody tr th {\n",
       "        vertical-align: top;\n",
       "    }\n",
       "\n",
       "    .dataframe thead th {\n",
       "        text-align: right;\n",
       "    }\n",
       "</style>\n",
       "<table border=\"1\" class=\"dataframe\">\n",
       "  <thead>\n",
       "    <tr style=\"text-align: right;\">\n",
       "      <th></th>\n",
       "      <th>-</th>\n",
       "      <th>H</th>\n",
       "      <th>E</th>\n",
       "      <th>A</th>\n",
       "      <th>G</th>\n",
       "      <th>A</th>\n",
       "      <th>W</th>\n",
       "      <th>G</th>\n",
       "      <th>H</th>\n",
       "      <th>E</th>\n",
       "      <th>E</th>\n",
       "    </tr>\n",
       "  </thead>\n",
       "  <tbody>\n",
       "    <tr>\n",
       "      <th>-</th>\n",
       "      <td>0.0</td>\n",
       "      <td>-8.0</td>\n",
       "      <td>-16.0</td>\n",
       "      <td>-24.0</td>\n",
       "      <td>-32.0</td>\n",
       "      <td>-40.0</td>\n",
       "      <td>-48.0</td>\n",
       "      <td>-56.0</td>\n",
       "      <td>-64.0</td>\n",
       "      <td>-72.0</td>\n",
       "      <td>-80.0</td>\n",
       "    </tr>\n",
       "    <tr>\n",
       "      <th>P</th>\n",
       "      <td>-8.0</td>\n",
       "      <td>-2.0</td>\n",
       "      <td>-9.0</td>\n",
       "      <td>-17.0</td>\n",
       "      <td>-25.0</td>\n",
       "      <td>-33.0</td>\n",
       "      <td>-41.0</td>\n",
       "      <td>-49.0</td>\n",
       "      <td>-57.0</td>\n",
       "      <td>-65.0</td>\n",
       "      <td>-73.0</td>\n",
       "    </tr>\n",
       "    <tr>\n",
       "      <th>A</th>\n",
       "      <td>-16.0</td>\n",
       "      <td>-10.0</td>\n",
       "      <td>-3.0</td>\n",
       "      <td>-4.0</td>\n",
       "      <td>-12.0</td>\n",
       "      <td>-20.0</td>\n",
       "      <td>-28.0</td>\n",
       "      <td>-36.0</td>\n",
       "      <td>-44.0</td>\n",
       "      <td>-52.0</td>\n",
       "      <td>-60.0</td>\n",
       "    </tr>\n",
       "    <tr>\n",
       "      <th>W</th>\n",
       "      <td>-24.0</td>\n",
       "      <td>-18.0</td>\n",
       "      <td>-11.0</td>\n",
       "      <td>-6.0</td>\n",
       "      <td>-7.0</td>\n",
       "      <td>-15.0</td>\n",
       "      <td>-5.0</td>\n",
       "      <td>-13.0</td>\n",
       "      <td>-21.0</td>\n",
       "      <td>-29.0</td>\n",
       "      <td>-37.0</td>\n",
       "    </tr>\n",
       "    <tr>\n",
       "      <th>H</th>\n",
       "      <td>-32.0</td>\n",
       "      <td>-14.0</td>\n",
       "      <td>-18.0</td>\n",
       "      <td>-13.0</td>\n",
       "      <td>-8.0</td>\n",
       "      <td>-9.0</td>\n",
       "      <td>-13.0</td>\n",
       "      <td>-7.0</td>\n",
       "      <td>-3.0</td>\n",
       "      <td>-11.0</td>\n",
       "      <td>-19.0</td>\n",
       "    </tr>\n",
       "    <tr>\n",
       "      <th>E</th>\n",
       "      <td>-40.0</td>\n",
       "      <td>-22.0</td>\n",
       "      <td>-8.0</td>\n",
       "      <td>-16.0</td>\n",
       "      <td>-16.0</td>\n",
       "      <td>-9.0</td>\n",
       "      <td>-12.0</td>\n",
       "      <td>-15.0</td>\n",
       "      <td>-7.0</td>\n",
       "      <td>3.0</td>\n",
       "      <td>-5.0</td>\n",
       "    </tr>\n",
       "    <tr>\n",
       "      <th>A</th>\n",
       "      <td>-48.0</td>\n",
       "      <td>-30.0</td>\n",
       "      <td>-16.0</td>\n",
       "      <td>-3.0</td>\n",
       "      <td>-11.0</td>\n",
       "      <td>-11.0</td>\n",
       "      <td>-12.0</td>\n",
       "      <td>-12.0</td>\n",
       "      <td>-15.0</td>\n",
       "      <td>-5.0</td>\n",
       "      <td>2.0</td>\n",
       "    </tr>\n",
       "    <tr>\n",
       "      <th>E</th>\n",
       "      <td>-56.0</td>\n",
       "      <td>-38.0</td>\n",
       "      <td>-24.0</td>\n",
       "      <td>-11.0</td>\n",
       "      <td>-6.0</td>\n",
       "      <td>-12.0</td>\n",
       "      <td>-14.0</td>\n",
       "      <td>-15.0</td>\n",
       "      <td>-12.0</td>\n",
       "      <td>-9.0</td>\n",
       "      <td>1.0</td>\n",
       "    </tr>\n",
       "  </tbody>\n",
       "</table>\n",
       "</div>"
      ],
      "text/plain": [
       "      -     H     E     A     G     A     W     G     H     E     E\n",
       "-   0.0  -8.0 -16.0 -24.0 -32.0 -40.0 -48.0 -56.0 -64.0 -72.0 -80.0\n",
       "P  -8.0  -2.0  -9.0 -17.0 -25.0 -33.0 -41.0 -49.0 -57.0 -65.0 -73.0\n",
       "A -16.0 -10.0  -3.0  -4.0 -12.0 -20.0 -28.0 -36.0 -44.0 -52.0 -60.0\n",
       "W -24.0 -18.0 -11.0  -6.0  -7.0 -15.0  -5.0 -13.0 -21.0 -29.0 -37.0\n",
       "H -32.0 -14.0 -18.0 -13.0  -8.0  -9.0 -13.0  -7.0  -3.0 -11.0 -19.0\n",
       "E -40.0 -22.0  -8.0 -16.0 -16.0  -9.0 -12.0 -15.0  -7.0   3.0  -5.0\n",
       "A -48.0 -30.0 -16.0  -3.0 -11.0 -11.0 -12.0 -12.0 -15.0  -5.0   2.0\n",
       "E -56.0 -38.0 -24.0 -11.0  -6.0 -12.0 -14.0 -15.0 -12.0  -9.0   1.0"
      ]
     },
     "execution_count": 69,
     "metadata": {},
     "output_type": "execute_result"
    }
   ],
   "source": [
    "Fmatrix"
   ]
  },
  {
   "cell_type": "code",
   "execution_count": 70,
   "metadata": {
    "slideshow": {
     "slide_type": "slide"
    }
   },
   "outputs": [
    {
     "data": {
      "text/html": [
       "<div>\n",
       "<style scoped>\n",
       "    .dataframe tbody tr th:only-of-type {\n",
       "        vertical-align: middle;\n",
       "    }\n",
       "\n",
       "    .dataframe tbody tr th {\n",
       "        vertical-align: top;\n",
       "    }\n",
       "\n",
       "    .dataframe thead th {\n",
       "        text-align: right;\n",
       "    }\n",
       "</style>\n",
       "<table border=\"1\" class=\"dataframe\">\n",
       "  <thead>\n",
       "    <tr style=\"text-align: right;\">\n",
       "      <th></th>\n",
       "      <th>-</th>\n",
       "      <th>H</th>\n",
       "      <th>E</th>\n",
       "      <th>A</th>\n",
       "      <th>G</th>\n",
       "      <th>A</th>\n",
       "      <th>W</th>\n",
       "      <th>G</th>\n",
       "      <th>H</th>\n",
       "      <th>E</th>\n",
       "      <th>E</th>\n",
       "    </tr>\n",
       "  </thead>\n",
       "  <tbody>\n",
       "    <tr>\n",
       "      <th>-</th>\n",
       "      <td>0.0</td>\n",
       "      <td>0.0</td>\n",
       "      <td>0.0</td>\n",
       "      <td>0.0</td>\n",
       "      <td>0.0</td>\n",
       "      <td>0.0</td>\n",
       "      <td>0.0</td>\n",
       "      <td>0.0</td>\n",
       "      <td>0.0</td>\n",
       "      <td>0.0</td>\n",
       "      <td>0.0</td>\n",
       "    </tr>\n",
       "    <tr>\n",
       "      <th>P</th>\n",
       "      <td>0.0</td>\n",
       "      <td>1.0</td>\n",
       "      <td>1.0</td>\n",
       "      <td>0.0</td>\n",
       "      <td>0.0</td>\n",
       "      <td>0.0</td>\n",
       "      <td>0.0</td>\n",
       "      <td>0.0</td>\n",
       "      <td>0.0</td>\n",
       "      <td>0.0</td>\n",
       "      <td>0.0</td>\n",
       "    </tr>\n",
       "    <tr>\n",
       "      <th>A</th>\n",
       "      <td>0.0</td>\n",
       "      <td>1.0</td>\n",
       "      <td>1.0</td>\n",
       "      <td>1.0</td>\n",
       "      <td>0.0</td>\n",
       "      <td>0.0</td>\n",
       "      <td>0.0</td>\n",
       "      <td>0.0</td>\n",
       "      <td>0.0</td>\n",
       "      <td>0.0</td>\n",
       "      <td>0.0</td>\n",
       "    </tr>\n",
       "    <tr>\n",
       "      <th>W</th>\n",
       "      <td>0.0</td>\n",
       "      <td>2.0</td>\n",
       "      <td>2.0</td>\n",
       "      <td>1.0</td>\n",
       "      <td>1.0</td>\n",
       "      <td>0.0</td>\n",
       "      <td>1.0</td>\n",
       "      <td>0.0</td>\n",
       "      <td>0.0</td>\n",
       "      <td>0.0</td>\n",
       "      <td>0.0</td>\n",
       "    </tr>\n",
       "    <tr>\n",
       "      <th>H</th>\n",
       "      <td>0.0</td>\n",
       "      <td>1.0</td>\n",
       "      <td>1.0</td>\n",
       "      <td>1.0</td>\n",
       "      <td>1.0</td>\n",
       "      <td>1.0</td>\n",
       "      <td>2.0</td>\n",
       "      <td>1.0</td>\n",
       "      <td>1.0</td>\n",
       "      <td>0.0</td>\n",
       "      <td>0.0</td>\n",
       "    </tr>\n",
       "    <tr>\n",
       "      <th>E</th>\n",
       "      <td>0.0</td>\n",
       "      <td>2.0</td>\n",
       "      <td>1.0</td>\n",
       "      <td>0.0</td>\n",
       "      <td>1.0</td>\n",
       "      <td>1.0</td>\n",
       "      <td>1.0</td>\n",
       "      <td>2.0</td>\n",
       "      <td>1.0</td>\n",
       "      <td>1.0</td>\n",
       "      <td>0.0</td>\n",
       "    </tr>\n",
       "    <tr>\n",
       "      <th>A</th>\n",
       "      <td>0.0</td>\n",
       "      <td>2.0</td>\n",
       "      <td>2.0</td>\n",
       "      <td>1.0</td>\n",
       "      <td>0.0</td>\n",
       "      <td>1.0</td>\n",
       "      <td>1.0</td>\n",
       "      <td>1.0</td>\n",
       "      <td>2.0</td>\n",
       "      <td>2.0</td>\n",
       "      <td>1.0</td>\n",
       "    </tr>\n",
       "    <tr>\n",
       "      <th>E</th>\n",
       "      <td>0.0</td>\n",
       "      <td>2.0</td>\n",
       "      <td>1.0</td>\n",
       "      <td>2.0</td>\n",
       "      <td>1.0</td>\n",
       "      <td>1.0</td>\n",
       "      <td>1.0</td>\n",
       "      <td>1.0</td>\n",
       "      <td>1.0</td>\n",
       "      <td>1.0</td>\n",
       "      <td>1.0</td>\n",
       "    </tr>\n",
       "  </tbody>\n",
       "</table>\n",
       "</div>"
      ],
      "text/plain": [
       "     -    H    E    A    G    A    W    G    H    E    E\n",
       "-  0.0  0.0  0.0  0.0  0.0  0.0  0.0  0.0  0.0  0.0  0.0\n",
       "P  0.0  1.0  1.0  0.0  0.0  0.0  0.0  0.0  0.0  0.0  0.0\n",
       "A  0.0  1.0  1.0  1.0  0.0  0.0  0.0  0.0  0.0  0.0  0.0\n",
       "W  0.0  2.0  2.0  1.0  1.0  0.0  1.0  0.0  0.0  0.0  0.0\n",
       "H  0.0  1.0  1.0  1.0  1.0  1.0  2.0  1.0  1.0  0.0  0.0\n",
       "E  0.0  2.0  1.0  0.0  1.0  1.0  1.0  2.0  1.0  1.0  0.0\n",
       "A  0.0  2.0  2.0  1.0  0.0  1.0  1.0  1.0  2.0  2.0  1.0\n",
       "E  0.0  2.0  1.0  2.0  1.0  1.0  1.0  1.0  1.0  1.0  1.0"
      ]
     },
     "execution_count": 70,
     "metadata": {},
     "output_type": "execute_result"
    }
   ],
   "source": [
    "traceMatrix"
   ]
  },
  {
   "cell_type": "markdown",
   "metadata": {
    "slideshow": {
     "slide_type": "slide"
    }
   },
   "source": [
    "# Revisión de la Tarea 1"
   ]
  },
  {
   "cell_type": "code",
   "execution_count": 85,
   "metadata": {
    "slideshow": {
     "slide_type": "slide"
    }
   },
   "outputs": [],
   "source": [
    "def score(seq1,seq2):\n",
    "    scoreTotal = 0\n",
    "    for i in range(len(seq1)):\n",
    "        if seq1[i]==\"-\" or seq2[i] == \"-\":\n",
    "            score_i = -8\n",
    "        else:\n",
    "            pair = (seq1[i],seq2[i])\n",
    "            if not pair in MatrixInfo.blosum50:\n",
    "                pair = tuple(reversed(pair))\n",
    "            score_i = MatrixInfo.blosum50[pair]        \n",
    "        scoreTotal += score_i\n",
    "    return(scoreTotal)"
   ]
  },
  {
   "cell_type": "code",
   "execution_count": 87,
   "metadata": {
    "slideshow": {
     "slide_type": "slide"
    }
   },
   "outputs": [
    {
     "name": "stdout",
     "output_type": "stream",
     "text": [
      "-32 -9\n"
     ]
    }
   ],
   "source": [
    "seq1=\"HEAGAWGHEE\"\n",
    "seq2=\"PA-W-HEA-E\"\n",
    "score1 = score(seq1,seq2)\n",
    "\n",
    "seq1=\"HEAGAWGHEE\"\n",
    "seq2=\"PA---WHEAE\"\n",
    "score2 = score(seq1,seq2)\n",
    "\n",
    "print(score1,score2)"
   ]
  }
 ],
 "metadata": {
  "celltoolbar": "Slideshow",
  "kernelspec": {
   "display_name": "Python 3",
   "language": "python",
   "name": "python3"
  },
  "language_info": {
   "codemirror_mode": {
    "name": "ipython",
    "version": 3
   },
   "file_extension": ".py",
   "mimetype": "text/x-python",
   "name": "python",
   "nbconvert_exporter": "python",
   "pygments_lexer": "ipython3",
   "version": "3.7.6"
  },
  "rise": {
   "enable_chalkboard": true
  }
 },
 "nbformat": 4,
 "nbformat_minor": 4
}
