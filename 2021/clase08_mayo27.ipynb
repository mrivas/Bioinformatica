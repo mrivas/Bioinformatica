{
 "cells": [
  {
   "cell_type": "markdown",
   "metadata": {
    "slideshow": {
     "slide_type": "slide"
    }
   },
   "source": [
    "# Clase 8\n",
    "\n",
    "\n",
    "Objetivos\n",
    "\n",
    "* Alineamiento global vs alineamiento local\n",
    "* Algortimo de alineamiento local de Smith-Waterman\n",
    "\n"
   ]
  },
  {
   "cell_type": "markdown",
   "metadata": {
    "slideshow": {
     "slide_type": "slide"
    }
   },
   "source": [
    "## Anuncios\n",
    "----------\n",
    "\n",
    "1. La clase del próximo jueves 3 de junio haremos un repaso de todo el material para la primera evaluación.\n",
    "2. La primera evaluación se hará la próxima semana:\n",
    "    * Prueba (60%): 04/06 entre las 19:00 y las 23:59 hr. \n",
    "    * Trabajo (40%): Entrega 05/06. Recepción 08/06 hasta a las 23:59 hrs"
   ]
  },
  {
   "cell_type": "markdown",
   "metadata": {
    "slideshow": {
     "slide_type": "slide"
    }
   },
   "source": [
    "# Alineamiento global\n",
    "\n",
    "\n",
    "En la clase anterior aprendimos a evaluar la bondad de un alineamiento entre dos secuencias a través de la medición de su score. Si tenemos dos alineamientos, elegimos el que tenga el mayor **score**. \n",
    "\n",
    "Esto implica, que el dentro de todos los alineamientos posibles entre dos secuencias, el mejor es aquel con el máximo score. Esto se llama alineamiento global.\n",
    "\n",
    "El algoritmo de **Needleman-Wuns** utiliza una matriz de substitución (por ejemplo BLOSUM50) para encontrar el alineamiento con el maximo score posible.\n",
    "\n",
    "Antes de ver el algoritmo de **Needleman-Wunsh**, veamos maneras convenientes de representar los alineamientos."
   ]
  },
  {
   "cell_type": "markdown",
   "metadata": {
    "slideshow": {
     "slide_type": "slide"
    }
   },
   "source": [
    "# Representación matricial del alineamiento de dos secuencias\n",
    "\n",
    "Las secuencias: \n",
    "```\n",
    "x=AETGGW  \n",
    "y=AEEH\n",
    "```\n",
    "Pueden ser alineadas como\n",
    "```\n",
    "AETGGW\n",
    "A-E-EH\n",
    "```\n",
    "o\n",
    "```\n",
    "AETGGW\n",
    "AEE--H\n",
    "```  \n",
    "o de varias otras formas.  "
   ]
  },
  {
   "cell_type": "markdown",
   "metadata": {
    "slideshow": {
     "slide_type": "slide"
    }
   },
   "source": [
    "Para expresar todos los posibles alineamientos de manera compacta podemos hacer uso de una representación matricial. Por ejemplo:\n",
    "    \n",
    "```\n",
    "AETGGW    AETGGW\n",
    "A-E-EH    AEE--H\n",
    "```\n",
    "Puden ser representados de la siguiente manera:\n",
    "\n",
    "<table><tr>\n",
    "<td> <img src=\"https://raw.githubusercontent.com/mrivas/Bioinformatica/master/clase9_matrixAlingment1.png\" alt=\"Drawing\" style=\"width: 250px;\"/> </td>\n",
    "<td> <img src=\"https://raw.githubusercontent.com/mrivas/Bioinformatica/master/clase9_matrixAlingment1.png\" alt=\"Drawing\" style=\"width: 250px;\"/> </td>\n",
    "</tr></table>"
   ]
  },
  {
   "cell_type": "markdown",
   "metadata": {
    "slideshow": {
     "slide_type": "slide"
    }
   },
   "source": [
    "¿Cómo podemos representar alineamientos que comienzan con un gap? Por ejemplo:\n",
    "\n",
    "```\n",
    "AETGGW    -AETGGW\n",
    "-AEE-H    AE-E--H\n",
    "```\n",
    "\n",
    "Para ésto podemos agregar la siguiente modificación a nuesta matriz de alineamientos:\n",
    "\n",
    "\n",
    "<table><tr>\n",
    "<td> <img src=\"https://raw.githubusercontent.com/mrivas/Bioinformatica/master/clase9_alignmentMatrix2.png\" alt=\"Drawing\" style=\"width: 250px;\"/> </td>\n",
    "<td> <img src=\"https://raw.githubusercontent.com/mrivas/Bioinformatica/master/clase9_alignmentMatrix2.png\" alt=\"Drawing\" style=\"width: 250px;\"/> </td>\n",
    "</tr></table>"
   ]
  },
  {
   "cell_type": "markdown",
   "metadata": {
    "slideshow": {
     "slide_type": "slide"
    }
   },
   "source": [
    "**Ejercicio 1** Representa en forma matricial los siguientes alienamientos:\n",
    "\n",
    "1.\n",
    "```\n",
    "GTAAETGGW\n",
    "-WTAE-E-H\n",
    "```\n",
    "2.\n",
    "```\n",
    "-ETGGTAGW\n",
    "E-E--WTAH\n",
    "```\n"
   ]
  },
  {
   "cell_type": "markdown",
   "metadata": {
    "slideshow": {
     "slide_type": "slide"
    }
   },
   "source": [
    "**Ejercicio 2** Para verificar que entendimos como ésto funciona, ahora hagamos el proceso en sentido inverso. Dadas las siguientes matrices, representa el alineamiento como una secuencia letra a letra:\n",
    "\n",
    "<table><tr>\n",
    "<td> <img src=\"https://raw.githubusercontent.com/mrivas/Bioinformatica/master/clase9_example1.png\" alt=\"Drawing\" style=\"width: 350px;\"/> </td>\n",
    "<td> <img src=\"https://raw.githubusercontent.com/mrivas/Bioinformatica/master/clase9_example2.png\" alt=\"Drawing\" style=\"width: 350px;\"/> </td>\n",
    "</tr></table>"
   ]
  },
  {
   "cell_type": "markdown",
   "metadata": {
    "slideshow": {
     "slide_type": "slide"
    }
   },
   "source": [
    "# Algortimo de alineamiento de Needleman-Wunsh\n",
    "\n",
    "## ¿De qué sirve ésto? En la misma matríz podemos anotar los scores de los alineamientos parciales\n",
    "\n",
    "\n",
    "Supongamos que utilizando la matriz BLOSUM50 (scores para match/mismatch) y $d=-8$ (score para gaps), queremos encontrar el mejor alineamineto entre las secuencias\n",
    "```\n",
    "  x=HEAGAWGHEE   y=PAWHEAE \n",
    "```\n"
   ]
  },
  {
   "cell_type": "markdown",
   "metadata": {
    "slideshow": {
     "slide_type": "slide"
    }
   },
   "source": [
    " En este caso podemos escribir todas la alineaciones posibles y los scores de los mejores alineamientos parciales como la matriz:\n",
    "\n",
    "<img src=\"https://raw.githubusercontent.com/mrivas/Bioinformatica/master/clase7_exampleAlignment.jpg\" alt=\"Drawing\" style=\"width: 400px;\" />\n",
    "\n",
    "En donde la coordenada $(i,j)$ corresponde al mejor score entre las secuencias $x_{1...i}$ y $y_{1...j}$. "
   ]
  },
  {
   "cell_type": "markdown",
   "metadata": {
    "slideshow": {
     "slide_type": "slide"
    }
   },
   "source": [
    "Calculamos el valor de cada coordenadas en base a sus valores adyacentes:\n",
    "\n",
    "<table><tr>\n",
    "<td> <img src=\"https://raw.githubusercontent.com/mrivas/Bioinformatica/master/clase7_exampleAlignment.jpg\" alt=\"Drawing\" style=\"width: 350px;\"/> </td>\n",
    "<td> <img src=\"https://raw.githubusercontent.com/mrivas/Bioinformatica/master/clase7_trace.jpg\" alt=\"Drawing\" style=\"width: 250px;\"/> </td>\n",
    "</tr></table>"
   ]
  },
  {
   "cell_type": "markdown",
   "metadata": {
    "slideshow": {
     "slide_type": "slide"
    }
   },
   "source": [
    "De estas tres opciones, se selecciona el score que hasta ese momento sea el más alto:\n",
    "\n",
    "<table><tr>\n",
    "<td> <img src=\"https://raw.githubusercontent.com/mrivas/Bioinformatica/master/clase7_trace.jpg\" alt=\"Drawing\" style=\"width: 350px;\"/> </td>\n",
    "<td> <img src=\"https://raw.githubusercontent.com/mrivas/Bioinformatica/master/clase7_selection.jpg\" alt=\"Drawing\" style=\"width: 450px;\"/> </td>\n",
    "</tr></table>\n"
   ]
  },
  {
   "cell_type": "markdown",
   "metadata": {
    "slideshow": {
     "slide_type": "slide"
    }
   },
   "source": [
    "Ejercicio 4\n",
    "----------\n",
    "\n",
    "Dada las secuencias $x=HEAGAWGHEE$, $y=PAWHEAE$, escribe código para:\n",
    "\n",
    "1. Construir la matriz con los scores de cada secuencia (Matriz BLOSUM50).\n",
    "2. Computar la matriz de los los mejores alineamientos parciales (Matriz F).\n",
    "3. Trazar la suceción de alineamientos parciales con el mayor score total.\n",
    "4. Escribe una función ```align(seq1,seq2)``` que tome como argumentos las secuencias ```seq1``` y ```seq2```, y entrgue como resultado su mejor alineamiento. "
   ]
  },
  {
   "cell_type": "code",
   "execution_count": 1,
   "metadata": {
    "slideshow": {
     "slide_type": "slide"
    }
   },
   "outputs": [
    {
     "name": "stderr",
     "output_type": "stream",
     "text": [
      "/usr/local/lib/python3.8/dist-packages/Bio/SubsMat/__init__.py:126: BiopythonDeprecationWarning: Bio.SubsMat has been deprecated, and we intend to remove it in a future release of Biopython. As an alternative, please consider using Bio.Align.substitution_matrices as a replacement, and contact the Biopython developers if you still need the Bio.SubsMat module.\n",
      "  warnings.warn(\n"
     ]
    },
    {
     "data": {
      "text/plain": [
       "array([[-2., -1., -1., -2., -1., -4., -2., -2., -1., -1.],\n",
       "       [-2., -1.,  5.,  0.,  5., -3.,  0., -2., -1., -1.],\n",
       "       [-3., -3., -3., -3., -3., 15., -3., -3., -3., -3.],\n",
       "       [10.,  0., -2., -2., -2., -3., -2., 10.,  0.,  0.],\n",
       "       [ 0.,  6., -1., -3., -1., -3., -3.,  0.,  6.,  6.],\n",
       "       [-2., -1.,  5.,  0.,  5., -3.,  0., -2., -1., -1.],\n",
       "       [ 0.,  6., -1., -3., -1., -3., -3.,  0.,  6.,  6.]])"
      ]
     },
     "execution_count": 1,
     "metadata": {},
     "output_type": "execute_result"
    }
   ],
   "source": [
    "# 1\n",
    "import numpy as np\n",
    "from Bio.SubsMat import MatrixInfo\n",
    "\n",
    "seq1=\"HEAGAWGHEE\"\n",
    "seq2=\"PAWHEAE\"\n",
    "\n",
    "scoreMatrix=np.zeros((len(seq2),len(seq1) ) )  \n",
    "\n",
    "i = 0\n",
    "for value_i in seq2:\n",
    "    j = 0\n",
    "    for value_j in seq1:\n",
    "        pair = (value_i,value_j)\n",
    "        if not pair in MatrixInfo.blosum50:\n",
    "            pair = tuple(reversed(pair))\n",
    "        scoreMatrix[i,j]=MatrixInfo.blosum50[pair]\n",
    "        j += 1\n",
    "    i += 1\n",
    "scoreMatrix"
   ]
  },
  {
   "cell_type": "code",
   "execution_count": 2,
   "metadata": {
    "slideshow": {
     "slide_type": "slide"
    }
   },
   "outputs": [],
   "source": [
    "# 2 y 3\n",
    "\n",
    "seq1=\"-HEAGAWGHEE\"\n",
    "seq2=\"-PAWHEAE\"\n",
    "\n",
    "def getTraceMatrix(seq1,seq2):\n",
    "    d=8\n",
    "    traceMatrix=np.zeros((len(seq2),len(seq1)) ) \n",
    "    Fmatrix=np.zeros((len(seq2),len(seq1)) )  \n",
    "    # Set first column\n",
    "    Fmatrix[:,0] = -d*np.array(range( len(seq2) ))\n",
    "    # Set first row\n",
    "    Fmatrix[0,:] = -d*np.array(range( len(seq1) ))\n",
    "\n",
    "\n",
    "    i = 1\n",
    "    for value_i in seq2[1::]:\n",
    "        j = 1\n",
    "        for value_j in seq1[1::]:\n",
    "            pair = (value_i,value_j)\n",
    "            if not pair in MatrixInfo.blosum50:\n",
    "                pair = tuple(reversed(pair))\n",
    "            score=MatrixInfo.blosum50[pair]\n",
    "            Fmatrix[i,j] = np.max([  Fmatrix[i,j-1]-d,Fmatrix[i-1,j-1]+score,Fmatrix[i-1,j]-d  ])\n",
    "            indexMax=      np.argmax([Fmatrix[i,j-1]-d,Fmatrix[i-1,j-1]+score,Fmatrix[i-1,j]-d])\n",
    "            traceMatrix[i,j] = indexMax\n",
    "            j += 1\n",
    "        i += 1\n",
    "\n",
    "    return([traceMatrix,Fmatrix])\n",
    "\n",
    "[traceMatrix,Fmatrix]=getTraceMatrix(seq1,seq2)"
   ]
  },
  {
   "cell_type": "code",
   "execution_count": 3,
   "metadata": {
    "slideshow": {
     "slide_type": "slide"
    }
   },
   "outputs": [
    {
     "data": {
      "text/plain": [
       "array([[0., 0., 0., 0., 0., 0., 0., 0., 0., 0., 0.],\n",
       "       [0., 1., 1., 0., 0., 0., 0., 0., 0., 0., 0.],\n",
       "       [0., 1., 1., 1., 0., 0., 0., 0., 0., 0., 0.],\n",
       "       [0., 2., 2., 1., 1., 0., 1., 0., 0., 0., 0.],\n",
       "       [0., 1., 1., 1., 1., 1., 2., 1., 1., 0., 0.],\n",
       "       [0., 2., 1., 0., 1., 1., 1., 2., 1., 1., 0.],\n",
       "       [0., 2., 2., 1., 0., 1., 1., 1., 2., 2., 1.],\n",
       "       [0., 2., 1., 2., 1., 1., 1., 1., 1., 1., 1.]])"
      ]
     },
     "execution_count": 3,
     "metadata": {},
     "output_type": "execute_result"
    }
   ],
   "source": [
    "traceMatrix"
   ]
  },
  {
   "cell_type": "code",
   "execution_count": 4,
   "metadata": {
    "slideshow": {
     "slide_type": "slide"
    }
   },
   "outputs": [
    {
     "data": {
      "text/plain": [
       "array([[  0.,  -8., -16., -24., -32., -40., -48., -56., -64., -72., -80.],\n",
       "       [ -8.,  -2.,  -9., -17., -25., -33., -41., -49., -57., -65., -73.],\n",
       "       [-16., -10.,  -3.,  -4., -12., -20., -28., -36., -44., -52., -60.],\n",
       "       [-24., -18., -11.,  -6.,  -7., -15.,  -5., -13., -21., -29., -37.],\n",
       "       [-32., -14., -18., -13.,  -8.,  -9., -13.,  -7.,  -3., -11., -19.],\n",
       "       [-40., -22.,  -8., -16., -16.,  -9., -12., -15.,  -7.,   3.,  -5.],\n",
       "       [-48., -30., -16.,  -3., -11., -11., -12., -12., -15.,  -5.,   2.],\n",
       "       [-56., -38., -24., -11.,  -6., -12., -14., -15., -12.,  -9.,   1.]])"
      ]
     },
     "execution_count": 4,
     "metadata": {},
     "output_type": "execute_result"
    }
   ],
   "source": [
    "Fmatrix"
   ]
  },
  {
   "cell_type": "code",
   "execution_count": 5,
   "metadata": {
    "slideshow": {
     "slide_type": "slide"
    }
   },
   "outputs": [
    {
     "name": "stdout",
     "output_type": "stream",
     "text": [
      "HEAGAWGHE-E\n",
      "-PA--W-HEAE\n"
     ]
    }
   ],
   "source": [
    "# 4\n",
    "seq1=\"-HEAGAWGHEE\"\n",
    "seq2=\"-PAWHEAE\"\n",
    "\n",
    "def align(seq1,seq2):\n",
    "    traceMatrix = getTraceMatrix(seq1,seq2)[0]\n",
    "    I,J=traceMatrix.shape\n",
    "    traceMatrix = np.array(traceMatrix)\n",
    "    i = I-1\n",
    "    j = J-1\n",
    "    seq1Aligned = \"\"\n",
    "    seq2Aligned = \"\"\n",
    "    while i>0 or j>0:\n",
    "        if traceMatrix[i,j] == 1:  #diagonal\n",
    "            seq1Aligned += seq1[j]\n",
    "            seq2Aligned += seq2[i]\n",
    "            i -= 1\n",
    "            j -= 1\n",
    "        if traceMatrix[i,j] == 2: #vertical\n",
    "            seq1Aligned += \"-\"\n",
    "            seq2Aligned += seq2[i]\n",
    "            i -= 1   \n",
    "        if traceMatrix[i,j] == 0: #horizontal\n",
    "            seq1Aligned += seq1[j]\n",
    "            seq2Aligned += \"-\"\n",
    "            j -= 1   \n",
    "    print(seq1Aligned[::-1])\n",
    "    print(seq2Aligned[::-1])\n",
    "align(seq1,seq2)"
   ]
  },
  {
   "cell_type": "markdown",
   "metadata": {
    "slideshow": {
     "slide_type": "slide"
    }
   },
   "source": [
    "## Tarea 2\n",
    "\n",
    "Encuentra el alineamiento global alternativo (el que aparece en el libro). Para esto debes modificar el códido de la función $align$.\n",
    "\n",
    "Fecha de entrega hasta el **3 de Junio a las 23:59 horas**."
   ]
  },
  {
   "cell_type": "markdown",
   "metadata": {
    "slideshow": {
     "slide_type": "slide"
    }
   },
   "source": [
    "Local alignment: Algoritmo de Smith-Waterman\n",
    "================\n",
    "\n",
    "Hasta ahora hemos asumido que conocemos las dos secuencias que queremos alinear, $x$ e $y$, y que estamos buscando por el mejor alineamiento cada una de sus secuencias de principio a fin. \n",
    "\n",
    "Pero una situación mucho más común es cuando estamos buscando el mejor alineamiento entre una **subsecuencia** de $x$ e $y$. \n",
    "\n",
    "Esto ocurre, por ejemplo, cuando sospechamos que los dominios de dos proteinas comparten un dominio común, o también ocurre cuando comparamos dos secciones de ADN. "
   ]
  },
  {
   "cell_type": "markdown",
   "metadata": {
    "slideshow": {
     "slide_type": "slide"
    }
   },
   "source": [
    "\n",
    "<img src=\"https://www.researchgate.net/profile/Mohamed-Issa-8/publication/322704711/figure/fig1/AS:591396109045760@1518011228557/Global-alignment-vs-Local-alignment.png\" alt=\"Drawing\" style=\"width: 600px;\"/>\n"
   ]
  },
  {
   "cell_type": "markdown",
   "metadata": {
    "slideshow": {
     "slide_type": "slide"
    }
   },
   "source": [
    "Es también la mejor manera para detectar similaridades entre secuencias que a través de la evolución se han vuelto muy divergentes. \n",
    "\n",
    "Esto puede ocurrir, por ejemplo,  en aquellos casos en los cuales distintas regiones del genome tienen distintas sensivilidaddes a mutaciones, tal como es el caso para intrones y exones. \n",
    "\n",
    "En este útlimo caso mutaciones en los exones tienden a ser menos comunes que mutaciones en los intrones, para lo cual solo estariamos interesados en hacer alineamientos entre exones."
   ]
  },
  {
   "cell_type": "markdown",
   "metadata": {
    "slideshow": {
     "slide_type": "slide"
    }
   },
   "source": [
    "Para todos estos casos, la mejor estrategia es alinear subsecuencias de $x$ e $y$. Este estrategia se llama alineamiento local. El algoritmo para encontrar el mejor alineamiento local es muy similar al de alineamiento global. Sólo hay dos diferencias."
   ]
  },
  {
   "cell_type": "markdown",
   "metadata": {
    "slideshow": {
     "slide_type": "slide"
    }
   },
   "source": [
    "**Primero**, en cada celda de la matrix F, un posibilidad extra es agregada para permitir que $F(i,j)$ pueda tomar el valor $0$ si todas las otras opciones son menores que $0$:\n",
    "\n",
    "$\n",
    "F(i,j)=max\n",
    "\\begin{cases}\n",
    "  0,\\\\\n",
    "  F(i-1,j-1)+s(x_i,y_i) \\\\\n",
    "  F(i-1,j)-d \\\\\n",
    "  F(i,j-1)-d\n",
    "\\end{cases}\n",
    "$\n",
    "\n",
    "Tomar la opción $0$ corresponde a comenzar un nuevo alineamiento. Si el mejor alineamiento hasta algún punto tiene un score negativo, es mejor comenzar un nuevo alineamiento en lugar de extender el actual. \n",
    "\n",
    "Nota que como consecuencia de esta opción adicional la primera fila y columna de la matriz $F$ ahora estarán llenas de ceros, no por $-d*i$ o $-d*j$ como era el caso para el alineamiento global. "
   ]
  },
  {
   "cell_type": "markdown",
   "metadata": {
    "slideshow": {
     "slide_type": "slide"
    }
   },
   "source": [
    "Por ejemplo, veamos como se ve la matriz $F$ y alineamiento de las secuencias $x=HEAGAWGHEE$ e $y=PAWHEAE$.\n",
    "\n",
    "<img src=\"https://raw.githubusercontent.com/mrivas/Bioinformatica/master/clase10_ejemplo.jpg\" alt=\"Drawing\" style=\"width: 400px;\"/>"
   ]
  },
  {
   "cell_type": "markdown",
   "metadata": {
    "slideshow": {
     "slide_type": "slide"
    }
   },
   "source": [
    "**El segundo cambio** es que ahora el mejor alineamiento puede estar en cualquier parte de la matriz $F$. \n",
    "\n",
    "Así, en lugar de tomar el valor en el rincón derecho inferior de la matriz $F$, ahora se debe considerar como punto de partida el valor más alto de $F(i,j)$ a lo largo de toda la matriz. \n",
    "\n",
    "El trazado termina cuando encontramos un valor $0$, lo cual corresponde al comienzo del alineamiento.\n",
    "\n",
    "<img src=\"https://raw.githubusercontent.com/mrivas/Bioinformatica/master/clase10_ejemplo.jpg\" alt=\"Drawing\" style=\"width: 400px;\"/>"
   ]
  },
  {
   "cell_type": "markdown",
   "metadata": {
    "slideshow": {
     "slide_type": "slide"
    }
   },
   "source": [
    "Ejercicio\n",
    "---------\n",
    "\n",
    "1. Escribe una función $localF(x,y)$ para calcular la matriz $F$ de  las secuencias $x=HEAGAWGHEE$ e $y=PAWHEAE$. Considera $d=-8$ y la matriz BLOSUM50. "
   ]
  },
  {
   "cell_type": "markdown",
   "metadata": {
    "slideshow": {
     "slide_type": "slide"
    }
   },
   "source": [
    "Tarea opcional\n",
    "-----------\n",
    "\n",
    "Utiliza el resultado anterior para crear la función $localAlignment(x,y)$ para entregar el alineamiento de las secuencias $x=HEAGAWGHEE$ e $y=PAWHEAE$.\n",
    "\n",
    "Fecha de entrega hasta el **3 de Junio a las 23:59 horas**."
   ]
  },
  {
   "cell_type": "code",
   "execution_count": null,
   "metadata": {
    "slideshow": {
     "slide_type": "slide"
    }
   },
   "outputs": [],
   "source": []
  },
  {
   "cell_type": "code",
   "execution_count": null,
   "metadata": {
    "slideshow": {
     "slide_type": "slide"
    }
   },
   "outputs": [],
   "source": []
  },
  {
   "cell_type": "code",
   "execution_count": null,
   "metadata": {
    "slideshow": {
     "slide_type": "slide"
    }
   },
   "outputs": [],
   "source": []
  },
  {
   "cell_type": "code",
   "execution_count": null,
   "metadata": {
    "slideshow": {
     "slide_type": "slide"
    }
   },
   "outputs": [],
   "source": []
  },
  {
   "cell_type": "code",
   "execution_count": null,
   "metadata": {
    "slideshow": {
     "slide_type": "slide"
    }
   },
   "outputs": [],
   "source": []
  }
 ],
 "metadata": {
  "celltoolbar": "Slideshow",
  "kernelspec": {
   "display_name": "Python 3",
   "language": "python",
   "name": "python3"
  },
  "language_info": {
   "codemirror_mode": {
    "name": "ipython",
    "version": 3
   },
   "file_extension": ".py",
   "mimetype": "text/x-python",
   "name": "python",
   "nbconvert_exporter": "python",
   "pygments_lexer": "ipython3",
   "version": "3.8.5"
  }
 },
 "nbformat": 4,
 "nbformat_minor": 4
}
