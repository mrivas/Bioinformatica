{
 "cells": [
  {
   "cell_type": "markdown",
   "metadata": {
    "slideshow": {
     "slide_type": "slide"
    }
   },
   "source": [
    "# Clase 5\n",
    "\n",
    "Objetivos\n",
    "\n",
    "* Alineamiento global vs alineamiento local.\n",
    "* Algortimo de alineamiento local de Smith-Waterman.\n",
    "\n"
   ]
  },
  {
   "cell_type": "markdown",
   "metadata": {
    "slideshow": {
     "slide_type": "slide"
    }
   },
   "source": [
    "## Anuncios\n",
    "----------\n",
    "\n",
    "1. En la primera clase luego del interludio haremos un repaso de todo el material para la primera evaluación.\n",
    "2. En la segunda clase del mismo día haremos el control individual, el cual es un questionario.\n",
    "3. Formaremos hoy los grupos para el trabajo grupal."
   ]
  },
  {
   "cell_type": "markdown",
   "metadata": {
    "slideshow": {
     "slide_type": "slide"
    }
   },
   "source": [
    "# Repaso de Alineamiento global\n",
    "\n",
    "\n",
    "En la clase anterior aprendimos a evaluar la bondad de un alineamiento entre dos secuencias a través de la medición de su score. Si tenemos dos alineamientos, elegimos el que tenga el mayor **score**. \n",
    "\n",
    "Esto implica, que el dentro de todos los alineamientos posibles entre dos secuencias, el mejor es aquel con el máximo score. Esto se llama alineamiento global.\n",
    "\n",
    "El algoritmo de **Needleman-Wuns** utiliza una matriz de substitución (por ejemplo BLOSUM50) para encontrar el alineamiento con el maximo score posible.\n",
    "\n",
    "Antes de ver el algoritmo de **Needleman-Wunsh**, veamos maneras convenientes de representar los alineamientos."
   ]
  },
  {
   "cell_type": "markdown",
   "metadata": {
    "slideshow": {
     "slide_type": "slide"
    }
   },
   "source": [
    "# Representación matricial del alineamiento de dos secuencias\n",
    "\n",
    "Las secuencias: \n",
    "```\n",
    "x=AETGGW  \n",
    "y=AEEH\n",
    "```\n",
    "Pueden ser alineadas como\n",
    "```\n",
    "AETGGW\n",
    "A-E-EH\n",
    "```\n",
    "o\n",
    "```\n",
    "AETGGW\n",
    "AEE--H\n",
    "```  \n",
    "o de varias otras formas.  "
   ]
  },
  {
   "cell_type": "markdown",
   "metadata": {
    "slideshow": {
     "slide_type": "slide"
    }
   },
   "source": [
    "Para expresar todos los posibles alineamientos de manera compacta podemos hacer uso de una representación matricial. Por ejemplo:\n",
    "    \n",
    "```\n",
    "AETGGW    AETGGW\n",
    "A-E-EH    AEE--H\n",
    "```\n",
    "Puden ser representados de la siguiente manera:\n",
    "\n",
    "<table><tr>\n",
    "<td> <img src=\"https://raw.githubusercontent.com/mrivas/Bioinformatica/master/clase9_matrixAlingment1.png\" alt=\"Drawing\" style=\"width: 250px;\"/> </td>\n",
    "<td> <img src=\"https://raw.githubusercontent.com/mrivas/Bioinformatica/master/clase9_matrixAlingment1.png\" alt=\"Drawing\" style=\"width: 250px;\"/> </td>\n",
    "</tr></table>"
   ]
  },
  {
   "cell_type": "markdown",
   "metadata": {
    "slideshow": {
     "slide_type": "slide"
    }
   },
   "source": [
    "¿Cómo podemos representar alineamientos que comienzan con un gap? Por ejemplo:\n",
    "\n",
    "```\n",
    "AETGGW    -AETGGW\n",
    "-AEE-H    AE-E--H\n",
    "```\n",
    "\n",
    "Para ésto podemos agregar la siguiente modificación a nuesta matriz de alineamientos:\n",
    "\n",
    "\n",
    "<table><tr>\n",
    "<td> <img src=\"https://raw.githubusercontent.com/mrivas/Bioinformatica/master/clase9_alignmentMatrix2.png\" alt=\"Drawing\" style=\"width: 250px;\"/> </td>\n",
    "<td> <img src=\"https://raw.githubusercontent.com/mrivas/Bioinformatica/master/clase9_alignmentMatrix2.png\" alt=\"Drawing\" style=\"width: 250px;\"/> </td>\n",
    "</tr></table>"
   ]
  },
  {
   "cell_type": "markdown",
   "metadata": {
    "slideshow": {
     "slide_type": "slide"
    }
   },
   "source": [
    "**Ejercicio 1** Representa en forma matricial los siguientes alienamientos:\n",
    "\n",
    "1.\n",
    "```\n",
    "GTAAETGGW\n",
    "-WTAE-E-H\n",
    "```\n",
    "2.\n",
    "```\n",
    "-ETGGTAGW\n",
    "E-E--WTAH\n",
    "```\n"
   ]
  },
  {
   "cell_type": "markdown",
   "metadata": {
    "slideshow": {
     "slide_type": "slide"
    }
   },
   "source": [
    "**Ejercicio 2** Para verificar que entendimos como ésto funciona, ahora hagamos el proceso en sentido inverso. Dadas las siguientes matrices, representa el alineamiento como una secuencia letra a letra:\n",
    "\n",
    "<table><tr>\n",
    "<td> <img src=\"https://raw.githubusercontent.com/mrivas/Bioinformatica/master/clase9_example1.png\" alt=\"Drawing\" style=\"width: 350px;\"/> </td>\n",
    "<td> <img src=\"https://raw.githubusercontent.com/mrivas/Bioinformatica/master/clase9_example2.png\" alt=\"Drawing\" style=\"width: 350px;\"/> </td>\n",
    "</tr></table>"
   ]
  },
  {
   "cell_type": "markdown",
   "metadata": {
    "slideshow": {
     "slide_type": "slide"
    }
   },
   "source": [
    "# Algortimo de alineamiento de Needleman-Wunsh\n",
    "\n",
    "## ¿De qué sirve ésto? En la misma matríz podemos anotar los scores de los alineamientos parciales\n",
    "\n",
    "\n",
    "Supongamos que utilizando la matriz BLOSUM50 (scores para match/mismatch) y $d=-8$ (score para gaps), queremos encontrar el mejor alineamineto entre las secuencias\n",
    "```\n",
    "  x=HEAGAWGHEE   y=PAWHEAE \n",
    "```\n"
   ]
  },
  {
   "cell_type": "markdown",
   "metadata": {
    "slideshow": {
     "slide_type": "slide"
    }
   },
   "source": [
    " En este caso podemos escribir todas la alineaciones posibles y los scores de los mejores alineamientos parciales como la matriz:\n",
    "\n",
    "<img src=\"https://raw.githubusercontent.com/mrivas/Bioinformatica/master/clase7_exampleAlignment.jpg\" alt=\"Drawing\" style=\"width: 400px;\" />\n",
    "\n",
    "En donde la coordenada $(i,j)$ corresponde al mejor score entre las secuencias $x_{1...i}$ y $y_{1...j}$. "
   ]
  },
  {
   "cell_type": "markdown",
   "metadata": {
    "slideshow": {
     "slide_type": "slide"
    }
   },
   "source": [
    "Calculamos el valor de cada coordenadas en base a sus valores adyacentes:\n",
    "\n",
    "<table><tr>\n",
    "<td> <img src=\"https://raw.githubusercontent.com/mrivas/Bioinformatica/master/clase7_exampleAlignment.jpg\" alt=\"Drawing\" style=\"width: 350px;\"/> </td>\n",
    "<td> <img src=\"https://raw.githubusercontent.com/mrivas/Bioinformatica/master/clase7_trace.jpg\" alt=\"Drawing\" style=\"width: 250px;\"/> </td>\n",
    "</tr></table>"
   ]
  },
  {
   "cell_type": "markdown",
   "metadata": {
    "slideshow": {
     "slide_type": "slide"
    }
   },
   "source": [
    "De estas tres opciones, se selecciona el score que hasta ese momento sea el más alto:\n",
    "\n",
    "<table><tr>\n",
    "<td> <img src=\"https://raw.githubusercontent.com/mrivas/Bioinformatica/master/clase7_trace.jpg\" alt=\"Drawing\" style=\"width: 350px;\"/> </td>\n",
    "<td> <img src=\"https://raw.githubusercontent.com/mrivas/Bioinformatica/master/clase7_selection.jpg\" alt=\"Drawing\" style=\"width: 450px;\"/> </td>\n",
    "</tr></table>\n"
   ]
  },
  {
   "cell_type": "markdown",
   "metadata": {
    "slideshow": {
     "slide_type": "slide"
    }
   },
   "source": [
    "Ejercicio 4\n",
    "----------\n",
    "\n",
    "Dada las secuencias $x=HEAGAWGHEE$, $y=PAWHEAE$, escribe código para:\n",
    "\n",
    "1. Construir la matriz de scores de cada secuencia (Matriz BLOSUM50).\n",
    "2. Computar la matriz de los los mejores alineamientos parciales (Matriz F).\n",
    "3. Trazar la suceción de alineamientos parciales con el mayor score total.\n",
    "4. Escribe una función ```align(seq1,seq2)``` que tome como argumentos las secuencias ```seq1``` y ```seq2```, y entrgue como resultado su mejor alineamiento. "
   ]
  },
  {
   "cell_type": "code",
   "execution_count": 18,
   "metadata": {},
   "outputs": [
    {
     "name": "stdout",
     "output_type": "stream",
     "text": [
      "[[  0.  -8. -16. -24. -32. -40. -48. -56. -64. -72. -80.]\n",
      " [ -8.  -2.  -9. -17. -25. -33. -41. -49. -57. -65. -73.]\n",
      " [-16. -10.  -3.  -4. -12. -20. -28. -36. -44. -52. -60.]\n",
      " [-24. -18. -11.  -6.  -7. -15.  -5. -13. -21. -29. -37.]\n",
      " [-32. -14. -18. -13.  -8.  -9. -13.  -7.  -3. -11. -19.]\n",
      " [-40. -22.  -8. -16. -16.  -9. -12. -15.  -7.   3.  -5.]\n",
      " [-48. -30. -16.  -3. -11. -11. -12. -12. -15.  -5.   2.]\n",
      " [-56. -38. -24. -11.  -6. -12. -14. -15. -12.  -9.   1.]]\n",
      "[[2. 1. 1. 1. 1. 1. 1. 1. 1. 1. 1.]\n",
      " [2. 0. 0. 0. 1. 0. 1. 1. 1. 0. 0.]\n",
      " [2. 0. 0. 0. 1. 0. 1. 1. 1. 1. 1.]\n",
      " [2. 2. 2. 0. 0. 0. 0. 1. 1. 1. 1.]\n",
      " [2. 0. 0. 0. 0. 0. 2. 0. 0. 1. 1.]\n",
      " [2. 2. 0. 1. 0. 0. 0. 2. 0. 0. 0.]\n",
      " [2. 2. 2. 0. 1. 0. 0. 0. 2. 2. 0.]\n",
      " [2. 2. 0. 2. 0. 0. 0. 0. 0. 0. 0.]]\n"
     ]
    }
   ],
   "source": [
    "import numpy as np\n",
    "from Bio.SubsMat import MatrixInfo    #Importar los datos de la libreria\n",
    "\n",
    "def getScore(a,b):\n",
    "    pair = (a,b)\n",
    "    if not pair in MatrixInfo.blosum50:\n",
    "        pair = tuple(reversed(pair))\n",
    "    return(MatrixInfo.blosum50[pair])\n",
    "    \n",
    "#Estas son mis dos secuencias a evaluar\n",
    "x = \"-HEAGAWGHEE\"   # x= columnas\n",
    "y = \"-PAWHEAE\"      # y= filas  \n",
    "d = -8\n",
    "\n",
    "T=np.zeros((len(y),len(x) ) ) # Matriz de trazabilidad\n",
    "T[0,:] = len(x)*[1] # Rellena la primera fila\n",
    "T[:,0] = len(y)*[2] # Rellena la primera columna\n",
    "\n",
    "F=np.zeros((len(y),len(x) ) ) # Matriz de los maximos scores\n",
    "F[0,:] = np.arange(len(x))*d # Rellena la primera fila\n",
    "F[:,0] = np.arange(len(y))*d # Rellena la primera columna\n",
    "\n",
    "for j in range(1,len(y)): # Itera entre filas\n",
    "    for i in range(1,len(x)): # Itera entre columnas\n",
    "        diagonal   = F[j-1,i-1] + getScore(x[i],y[j])\n",
    "        lateral    = F[j  ,i-1] + d\n",
    "        vertical   = F[j-1,i  ] + d\n",
    "        F[j,i]     = np.max(    [diagonal,lateral,vertical] ) \n",
    "        T[j,i]     = np.argmax( [diagonal,lateral,vertical] )\n",
    "print(F)\n",
    "print(T)"
   ]
  },
  {
   "cell_type": "code",
   "execution_count": 21,
   "metadata": {},
   "outputs": [
    {
     "name": "stdout",
     "output_type": "stream",
     "text": [
      "HEAGAWGHE-E\n",
      "--P-AW-HEAE\n"
     ]
    }
   ],
   "source": [
    "# Con esto comenzamos en la esquina inferior derecha de la matriz T\n",
    "i=len(x)-1\n",
    "j=len(y)-1\n",
    "\n",
    "alignedX = \"\"\n",
    "alignedY = \"\"\n",
    "\n",
    "while j>0 or i>0:\n",
    "    if T[j,i]==0: #diagonal\n",
    "        alignedX += x[i]\n",
    "        alignedY += y[j]\n",
    "        i -= 1\n",
    "        j -= 1\n",
    "    elif T[j,i]==1: #lateral\n",
    "        alignedX += x[i] \n",
    "        alignedY += \"-\"\n",
    "        i -= 1\n",
    "    elif T[j,i]==2: #vertical\n",
    "        alignedX += \"-\" \n",
    "        alignedY += y[j]\n",
    "        j -= 1\n",
    "print(alignedX[::-1])\n",
    "print(alignedY[::-1])"
   ]
  }
 ],
 "metadata": {
  "celltoolbar": "Slideshow",
  "kernelspec": {
   "display_name": "Python 3",
   "language": "python",
   "name": "python3"
  },
  "language_info": {
   "codemirror_mode": {
    "name": "ipython",
    "version": 3
   },
   "file_extension": ".py",
   "mimetype": "text/x-python",
   "name": "python",
   "nbconvert_exporter": "python",
   "pygments_lexer": "ipython3",
   "version": "3.8.10"
  }
 },
 "nbformat": 4,
 "nbformat_minor": 4
}
