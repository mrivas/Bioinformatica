{
 "cells": [
  {
   "cell_type": "markdown",
   "metadata": {
    "slideshow": {
     "slide_type": "slide"
    }
   },
   "source": [
    "# Resumen clase anterior"
   ]
  },
  {
   "cell_type": "code",
   "execution_count": null,
   "metadata": {},
   "outputs": [],
   "source": []
  },
  {
   "cell_type": "code",
   "execution_count": 1,
   "metadata": {
    "slideshow": {
     "slide_type": "slide"
    }
   },
   "outputs": [
    {
     "data": {
      "text/plain": [
       "({'atgatcaag', 'ctcttgatc', 'cttgatcat', 'tcttgatca'}, 3)"
      ]
     },
     "execution_count": 1,
     "metadata": {},
     "output_type": "execute_result"
    }
   ],
   "source": [
    "import numpy as np\n",
    "\n",
    "def PatternCount(Text,Pattern):\n",
    "    count = 0\n",
    "    for i in range( len(Text) - len(Pattern) +1 ):\n",
    "        if Text[i:i+len(Pattern)] == Pattern:\n",
    "            count += 1\n",
    "    return(count)\n",
    "\n",
    "def FrequentWords(Text, k):\n",
    "    FrequentPatterns = set()\n",
    "    Count = [0]*( len(Text)-k+1 )\n",
    "    \n",
    "    for i in range( len(Text) - k +1 ):\n",
    "        Pattern = Text[ i:(i+k)]\n",
    "        Count[i] = PatternCount(Text, Pattern) # PatternCount cuenta el número de veces \n",
    "                                               # que Pattern aparece en Text\n",
    "    maxCount = np.max(Count)\n",
    "    for i in range(len(Text) - k +1 ):\n",
    "        if Count[i] == maxCount:\n",
    "            FrequentPatterns.add( Text[i:(i+k)] )\n",
    "            \n",
    "    return( (FrequentPatterns),maxCount ) #,Count\n",
    "\n",
    "Text=\"atcaatgatcaacgtaagcttctaagcatgatcaaggtgctcacacagtttatccacaac\\\n",
    "ctgagtggatgacatcaagataggtcgttgtatctccttcctctcgtactctcatgacca\\\n",
    "cggaaagatgatcaagagaggatgatttcttggccatatcgcaatgaatacttgtgactt\\\n",
    "gtgcttccaattgacatcttcagcgccatattgcgctggccaaggtgacggagcgggatt\\\n",
    "acgaaagcatgatcatggctgttgttctgtttatcttgttttgactgagacttgttagga\\\n",
    "tagacggtttttcatcactgactagccaaagccttactctgcctgacatcgaccgtaaat\\\n",
    "tgataatgaatttacatgcttccgcgacgatttacctcttgatcatcgatccgattgaag\\\n",
    "atcttcaattgttaattctcttgcctcgactcatagccatgatgagctcttgatcatgtt\\\n",
    "tccttaaccctctattttttacggaagaatgatcaagctgctgctcttgatcatcgtttc\"\n",
    "k=9\n",
    "\n",
    "FrequentWords(Text, k)"
   ]
  },
  {
   "cell_type": "markdown",
   "metadata": {
    "slideshow": {
     "slide_type": "slide"
    }
   },
   "source": [
    "Una manera más eficiente de buscar patrones\n",
    "=====================================\n",
    "\n",
    "Ya conseguimos nuestro objetivo de crear una herramienta para encontrar los patrones más comunes. Ésta funciona bien, pero no es muy eficiente. En ejemplos reales, en donde las secuencias genéticas tienen millones de bases, nuestra función es muy lenta. Utliza un ciclo for para recorrer la secuencia completa, pero por cada iteración del ciclo for llama a la función PatternCount, la que a su vez recorre nuevamente la secuencia completa, de principio a fin. \n",
    "\n",
    "Una manera más eficiente de hacer los calculos es almacenara el número de veces que ser recorre la secuencia no en una lista, sino en un diccionario. En python un diccionario se define de la siguiente manera:\n",
    "\n",
    "```python\n",
    "    x={} # a nuestro diccionario lo llamaremos x\n",
    "    x[\"secuencia1\"]=1\n",
    "    x[\"secuencia2\"]=3\n",
    "    x[\"secuencia1\"] = x[\"secuencia1\"] +1\n",
    "```"
   ]
  },
  {
   "cell_type": "markdown",
   "metadata": {
    "slideshow": {
     "slide_type": "slide"
    }
   },
   "source": [
    "Este es el seudo código para implementar esta mejora\n",
    "\n",
    "\n",
    "```python\n",
    "    FrequencyDictionary(Text, k)\n",
    "        freqMap ← empty map\n",
    "        n ← |Text|\n",
    "        for i ← 0 to n − k\n",
    "            Pattern ← Text(i, k)\n",
    "            if freqMap[Pattern] doesn't exist\n",
    "                freqMap[Pattern]← 1\n",
    "            else\n",
    "               freqMap[Pattern] ←freqMap[Pattern]+1 \n",
    "        return freqMap\n",
    "    \n",
    "    BetterFrequentWords(Text, k)\n",
    "        FrequentPatterns ← an array of strings of length 0\n",
    "        freqMap ← FrequencyDictionary(Text, k)\n",
    "        max ← MaxMap(freqMap)\n",
    "        for all strings Pattern in freqMap\n",
    "            if freqMap[pattern] = max\n",
    "                append Pattern to FrequentPatterns\n",
    "        return FrequentPatterns    \n",
    "```    "
   ]
  },
  {
   "cell_type": "markdown",
   "metadata": {
    "slideshow": {
     "slide_type": "slide"
    }
   },
   "source": [
    "## Ejercicio\n",
    "\n",
    "1. Implementar las funciones ```FrequencyDicionary(Text, k)``` y ```BetterFrequentWords(Text, k)```.\n",
    "2. Ejecutar ```BetterFrequentWords(Text, k)``` con los siguientes datos. \n",
    "\n",
    "Text=\"atcaatgatcaacgtaagcttctaagcatgatcaaggtgctcacacagtttatccacaac\\\n",
    "ctgagtggatgacatcaagataggtcgttgtatctccttcctctcgtactctcatgacca\\\n",
    "cggaaagatgatcaagagaggatgatttcttggccatatcgcaatgaatacttgtgactt\\\n",
    "gtgcttccaattgacatcttcagcgccatattgcgctggccaaggtgacggagcgggatt\\\n",
    "acgaaagcatgatcatggctgttgttctgtttatcttgttttgactgagacttgttagga\\\n",
    "tagacggtttttcatcactgactagccaaagccttactctgcctgacatcgaccgtaaat\\\n",
    "tgataatgaatttacatgcttccgcgacgatttacctcttgatcatcgatccgattgaag\\\n",
    "atcttcaattgttaattctcttgcctcgactcatagccatgatgagctcttgatcatgtt\\\n",
    "tccttaaccctctattttttacggaagaatgatcaagctgctgctcttgatcatcgtttc\"\n",
    "\n",
    "k=9"
   ]
  },
  {
   "cell_type": "code",
   "execution_count": 30,
   "metadata": {},
   "outputs": [],
   "source": [
    "def FrequencyDictionary(Text, k):\n",
    "    freqMap = {}\n",
    "    n = len(Text)\n",
    "    for i in range(n - k):\n",
    "        Pattern = Text[i:(i+k)]\n",
    "        if not Pattern in freqMap:\n",
    "            freqMap[Pattern] = 1\n",
    "        else:\n",
    "            freqMap[Pattern] = freqMap[Pattern]+1 \n",
    "    return(freqMap)\n",
    "\n",
    "def BetterFrequentWords(Text, k):\n",
    "    FrequentPatterns = []\n",
    "    freqMap = FrequencyDictionary(Text, k)\n",
    "    maxValue = max( list(freqMap.values()) )\n",
    "    for Pattern in freqMap:\n",
    "        if freqMap[Pattern] == maxValue:\n",
    "            FrequentPatterns.append(Pattern)\n",
    "    return( FrequentPatterns, maxValue ) "
   ]
  },
  {
   "cell_type": "code",
   "execution_count": 31,
   "metadata": {
    "slideshow": {
     "slide_type": "slide"
    }
   },
   "outputs": [
    {
     "data": {
      "text/plain": [
       "(['atgatcaag', 'ctcttgatc', 'tcttgatca', 'cttgatcat'], 3)"
      ]
     },
     "execution_count": 31,
     "metadata": {},
     "output_type": "execute_result"
    }
   ],
   "source": [
    "Text=\"atcaatgatcaacgtaagcttctaagcatgatcaaggtgctcacacagtttatccacaac\\\n",
    "    ctgagtggatgacatcaagataggtcgttgtatctccttcctctcgtactctcatgacca\\\n",
    "    cggaaagatgatcaagagaggatgatttcttggccatatcgcaatgaatacttgtgactt\\\n",
    "    gtgcttccaattgacatcttcagcgccatattgcgctggccaaggtgacggagcgggatt\\\n",
    "    acgaaagcatgatcatggctgttgttctgtttatcttgttttgactgagacttgttagga\\\n",
    "    tagacggtttttcatcactgactagccaaagccttactctgcctgacatcgaccgtaaat\\\n",
    "    tgataatgaatttacatgcttccgcgacgatttacctcttgatcatcgatccgattgaag\\\n",
    "    atcttcaattgttaattctcttgcctcgactcatagccatgatgagctcttgatcatgtt\\\n",
    "    tccttaaccctctattttttacggaagaatgatcaagctgctgctcttgatcatcgtttc\"\n",
    "\n",
    "k=9\n",
    "BetterFrequentWords(Text, k)"
   ]
  },
  {
   "cell_type": "markdown",
   "metadata": {
    "slideshow": {
     "slide_type": "slide"
    }
   },
   "source": [
    "# Clase 4\n",
    "\n",
    "## Contenidos\n",
    "\n",
    "* Introduccción al alineamiento de secuencias genéticas\n",
    "* Concepto de alineamiento global\n",
    "* Representación matricial de alineamientos\n",
    "* Algortimo de alineamiento de Needleman-Wunsh"
   ]
  },
  {
   "cell_type": "markdown",
   "metadata": {
    "slideshow": {
     "slide_type": "slide"
    }
   },
   "source": [
    "## Introducción \n",
    "\n",
    "Las secuencias genéticas evoluciónan a través de mutaciones, inserciones, y eliminaciones de nucleotridos. Veamos algunos ejemplos: \n",
    "\n",
    "<img src=\"https://raw.githubusercontent.com/mrivas/Bioinformatica/master/clase7_mutations.png\" alt=\"Drawing\" style=\"width: 400px;\"/>"
   ]
  },
  {
   "cell_type": "markdown",
   "metadata": {
    "slideshow": {
     "slide_type": "slide"
    }
   },
   "source": [
    "## Ejercicio\n",
    "\n",
    "Dadas dos secuencias de nucleotidos $x$ e $y$, escribe una funcion llamada $nucleotideScore(x,y)$ que cacule el score de alineamiento. Aplica tu función a los siguientes pares de secuencias de nucleotidos:\n",
    "\n",
    "1. \"ACCCTG\"\\\n",
    "   \"ACGGTG\"    \n",
    "1. \"GACTCCGG\"\\\n",
    "   \"GACTAATG\"      "
   ]
  },
  {
   "cell_type": "code",
   "execution_count": null,
   "metadata": {
    "slideshow": {
     "slide_type": "fragment"
    }
   },
   "outputs": [],
   "source": []
  },
  {
   "cell_type": "markdown",
   "metadata": {
    "slideshow": {
     "slide_type": "slide"
    }
   },
   "source": [
    "# Alineamiento de nucleotidos\n",
    "\n",
    "<img src=\"https://raw.githubusercontent.com/mrivas/Bioinformatica/master/clase7_nucleotides.png\" alt=\"Drawing\" style=\"width: 700px;\"/>"
   ]
  },
  {
   "cell_type": "markdown",
   "metadata": {
    "slideshow": {
     "slide_type": "slide"
    }
   },
   "source": [
    "### Alineamiento de aminoacidos\n",
    "\n",
    "\n",
    "<img src=\"https://raw.githubusercontent.com/mrivas/Bioinformatica/master/clase7_aaPolaridad.png\" alt=\"Drawing\" style=\"width: 200px;\" align=\"left\"/>\n",
    "\n",
    "<img src=\"https://raw.githubusercontent.com/mrivas/Bioinformatica/master/clase7_aminoacids.png\" alt=\"Drawing\" style=\"width: 620px;\"/>"
   ]
  },
  {
   "cell_type": "markdown",
   "metadata": {
    "slideshow": {
     "slide_type": "slide"
    }
   },
   "source": [
    "# Alineamiento global\n",
    "\n",
    "\n",
    "Si la bondad de un alineamiento entre dos secuencias la medimos a través de la medición de su score, entonces si tenemos dos o más alineamientos le damos preferencia al que tenga el máximo **score**. \n",
    "\n",
    "Esto se llama alineamiento global.\n",
    "\n",
    "El algoritmo de **Needleman-Wuns** utiliza una matriz de substitución (por ejemplo BLOSUM50) para encontrar el alineamiento con el maximo score posible.\n",
    "\n",
    "Antes de ver el algoritmo de **Needleman-Wunsh**, veamos maneras convenientes de representar los alineamientos."
   ]
  },
  {
   "cell_type": "markdown",
   "metadata": {
    "slideshow": {
     "slide_type": "slide"
    }
   },
   "source": [
    "# Representación matricial del alineamiento de dos secuencias\n"
   ]
  },
  {
   "cell_type": "markdown",
   "metadata": {
    "slideshow": {
     "slide_type": "slide"
    }
   },
   "source": [
    "Las secuencias: \n",
    "```\n",
    "x=AETGGW  \n",
    "y=AEEH\n",
    "```\n",
    "Pueden ser alineadas como\n",
    "```\n",
    "AETGGW\n",
    "A-E-EH\n",
    "```\n",
    "o\n",
    "```\n",
    "AETGGW\n",
    "AEE--H\n",
    "```  \n",
    "o de varias otras formas.  "
   ]
  },
  {
   "cell_type": "markdown",
   "metadata": {
    "slideshow": {
     "slide_type": "slide"
    }
   },
   "source": [
    "Para expresar todos los posibles alineamientos de manera compacta podemos hacer uso de una representación matricial. Por ejemplo:\n",
    "    \n",
    "```\n",
    "AETGGW    AETGGW\n",
    "A-E-EH    AEE--H\n",
    "```\n",
    "Puden ser representados de la siguiente manera:\n",
    "\n",
    "<table><tr>\n",
    "<td> <img src=\"https://raw.githubusercontent.com/mrivas/Bioinformatica/master/clase9_matrixAlingment1.png\" alt=\"Drawing\" style=\"width: 250px;\"/> </td>\n",
    "<td> <img src=\"https://raw.githubusercontent.com/mrivas/Bioinformatica/master/clase9_matrixAlingment1.png\" alt=\"Drawing\" style=\"width: 250px;\"/> </td>\n",
    "</tr></table>"
   ]
  },
  {
   "cell_type": "markdown",
   "metadata": {
    "slideshow": {
     "slide_type": "slide"
    }
   },
   "source": [
    "¿Cómo podemos representar alineamientos que comienzan con un gap? Por ejemplo:\n",
    "\n",
    "```\n",
    "AETGGW    -AETGGW\n",
    "-AEE-H    AE-E--H\n",
    "```\n",
    "\n",
    "Para ésto podemos agregar la siguiente modificación a nuesta matriz de alineamientos:\n",
    "\n",
    "\n",
    "<table><tr>\n",
    "<td> <img src=\"https://raw.githubusercontent.com/mrivas/Bioinformatica/master/clase9_alignmentMatrix2.png\" alt=\"Drawing\" style=\"width: 250px;\"/> </td>\n",
    "<td> <img src=\"https://raw.githubusercontent.com/mrivas/Bioinformatica/master/clase9_alignmentMatrix2.png\" alt=\"Drawing\" style=\"width: 250px;\"/> </td>\n",
    "</tr></table>"
   ]
  },
  {
   "cell_type": "markdown",
   "metadata": {
    "slideshow": {
     "slide_type": "slide"
    }
   },
   "source": [
    "**Ejercicio 1** Representa en forma matricial los siguientes alienamientos:\n",
    "\n",
    "1.\n",
    "```\n",
    "GTAAETGGW\n",
    "-WTAE-E-H\n",
    "```\n",
    "2.\n",
    "```\n",
    "-ETGGTAGW\n",
    "E-E--WTAH\n",
    "```\n"
   ]
  },
  {
   "cell_type": "markdown",
   "metadata": {
    "slideshow": {
     "slide_type": "slide"
    }
   },
   "source": [
    "**Ejercicio 2** Para verificar que entendimos como ésto funciona, ahora hagamos el proceso en sentido inverso. Dadas las siguientes matrices, representa el alineamiento como una secuencia letra a letra:\n",
    "\n",
    "<table><tr>\n",
    "<td> <img src=\"https://raw.githubusercontent.com/mrivas/Bioinformatica/master/clase9_example1.png\" alt=\"Drawing\" style=\"width: 350px;\"/> </td>\n",
    "<td> <img src=\"https://raw.githubusercontent.com/mrivas/Bioinformatica/master/clase9_example2.png\" alt=\"Drawing\" style=\"width: 350px;\"/> </td>\n",
    "</tr></table>"
   ]
  },
  {
   "cell_type": "markdown",
   "metadata": {
    "slideshow": {
     "slide_type": "slide"
    }
   },
   "source": [
    "# Algortimo de alineamiento de Needleman-Wunsh"
   ]
  },
  {
   "cell_type": "markdown",
   "metadata": {
    "slideshow": {
     "slide_type": "slide"
    }
   },
   "source": [
    "## ¿De qué sirve ésto? En la misma matríz podemos anotar los scores de los alineamientos parciales\n",
    "\n",
    "\n",
    "Supongamos que utilizando la matriz BLOSUM50 (scores para match/mismatch) y $d=-8$ (score para gaps), queremos encontrar el mejor alineamineto entre las secuencias\n",
    "```\n",
    "  x=HEAGAWGHEE   y=PAWHEAE \n",
    "```\n"
   ]
  },
  {
   "cell_type": "markdown",
   "metadata": {
    "slideshow": {
     "slide_type": "slide"
    }
   },
   "source": [
    " En este caso podemos escribir todas la alineaciones posibles y los scores de los mejores alineamientos parciales como la matriz:\n",
    "\n",
    "<img src=\"https://raw.githubusercontent.com/mrivas/Bioinformatica/master/clase7_exampleAlignment.jpg\" alt=\"Drawing\" style=\"width: 400px;\" />\n",
    "\n",
    "En donde la coordenada $(i,j)$ corresponde al mejor score entre las secuencias $x_{1...i}$ y $y_{1...j}$. "
   ]
  },
  {
   "cell_type": "markdown",
   "metadata": {
    "slideshow": {
     "slide_type": "slide"
    }
   },
   "source": [
    "Calculamos el valor de cada coordenadas en base a sus valores adyacentes:\n",
    "\n",
    "<table><tr>\n",
    "<td> <img src=\"https://raw.githubusercontent.com/mrivas/Bioinformatica/master/clase7_exampleAlignment.jpg\" alt=\"Drawing\" style=\"width: 350px;\"/> </td>\n",
    "<td> <img src=\"https://raw.githubusercontent.com/mrivas/Bioinformatica/master/clase7_trace.jpg\" alt=\"Drawing\" style=\"width: 250px;\"/> </td>\n",
    "</tr></table>"
   ]
  },
  {
   "cell_type": "markdown",
   "metadata": {
    "slideshow": {
     "slide_type": "slide"
    }
   },
   "source": [
    "De estas tres opciones, se selecciona el score que hasta ese momento sea el más alto:\n",
    "\n",
    "<table><tr>\n",
    "<td> <img src=\"https://raw.githubusercontent.com/mrivas/Bioinformatica/master/clase7_trace.jpg\" alt=\"Drawing\" style=\"width: 350px;\"/> </td>\n",
    "<td> <img src=\"https://raw.githubusercontent.com/mrivas/Bioinformatica/master/clase7_selection.jpg\" alt=\"Drawing\" style=\"width: 450px;\"/> </td>\n",
    "</tr></table>\n"
   ]
  },
  {
   "cell_type": "markdown",
   "metadata": {
    "slideshow": {
     "slide_type": "slide"
    }
   },
   "source": [
    "Ejercicio 4\n",
    "----------\n",
    "\n",
    "Dada las secuencias $x=HEAGAWGHEE$, $y=PAWHEAE$, escribe código para:\n",
    "\n",
    "1. Construir la matriz con los scores de cada secuencia (Matriz BLOSUM50).\n",
    "2. Computar la matriz de los los mejores alineamientos parciales (Matriz F).\n",
    "3. Trazar la suceción de alineamientos parciales con el mayor score total.\n",
    "4. Escribe una función ```align(seq1,seq2)``` que tome como argumentos las secuencias ```seq1``` y ```seq2```, y entrgue como resultado su mejor alineamiento. "
   ]
  },
  {
   "cell_type": "code",
   "execution_count": null,
   "metadata": {},
   "outputs": [],
   "source": [
    "# 1\n",
    "import numpy as np\n",
    "import pandas as pd\n",
    "from Bio.SubsMat import MatrixInfo\n",
    "\n",
    "seq1=\"HEAGAWGHEE\"\n",
    "seq2=\"PAWHEAE\"\n",
    "\n",
    "scoreMatrix=np.zeros((len(seq2),len(seq1) ) )  \n",
    "\n",
    "i = 0\n",
    "for value_i in seq2:\n",
    "    j = 0\n",
    "    for value_j in seq1:\n",
    "        pair = (value_i,value_j)\n",
    "        if not pair in MatrixInfo.blosum50:\n",
    "            pair = tuple(reversed(pair))\n",
    "        scoreMatrix[i,j]=MatrixInfo.blosum50[pair]\n",
    "        j += 1\n",
    "    i += 1\n",
    "scoreMatrix=pd.DataFrame(scoreMatrix,index=[i for i in seq2],\n",
    "                         columns=[j for j in seq1]) "
   ]
  },
  {
   "cell_type": "code",
   "execution_count": null,
   "metadata": {},
   "outputs": [],
   "source": [
    "# 2 y 3\n",
    "\n",
    "seq1=\"-HEAGAWGHEE\"\n",
    "seq2=\"-PAWHEAE\"\n",
    "\n",
    "def getTraceMatrix(seq1,seq2):\n",
    "    d=8\n",
    "    traceMatrix=np.zeros((len(seq2),len(seq1)) ) \n",
    "    Fmatrix=np.zeros((len(seq2),len(seq1)) )  \n",
    "    # Set first column\n",
    "    Fmatrix[:,0] = -d*np.array(range( len(seq2) ))\n",
    "    # Set first row\n",
    "    Fmatrix[0,:] = -d*np.array(range( len(seq1) ))\n",
    "\n",
    "\n",
    "    i = 1\n",
    "    for value_i in seq2[1::]:\n",
    "        j = 1\n",
    "        for value_j in seq1[1::]:\n",
    "            pair = (value_i,value_j)\n",
    "            if not pair in MatrixInfo.blosum50:\n",
    "                pair = tuple(reversed(pair))\n",
    "            score=MatrixInfo.blosum50[pair]\n",
    "            Fmatrix[i,j] = np.max([  Fmatrix[i,j-1]-d,Fmatrix[i-1,j-1]+score,Fmatrix[i-1,j]-d  ])\n",
    "            indexMax=      np.argmax([Fmatrix[i,j-1]-d,Fmatrix[i-1,j-1]+score,Fmatrix[i-1,j]-d])\n",
    "            traceMatrix[i,j] = indexMax\n",
    "            j += 1\n",
    "        i += 1\n",
    "    traceMatrix = pd.DataFrame(traceMatrix,index=[i for i in seq2],columns=[j for j in seq1]) \n",
    "    Fmatrix = pd.DataFrame(Fmatrix,index=[i for i in seq2],columns=[j for j in seq1]) \n",
    "    return([traceMatrix,Fmatrix])"
   ]
  },
  {
   "cell_type": "code",
   "execution_count": null,
   "metadata": {},
   "outputs": [],
   "source": [
    "#4\n",
    "\n",
    "seq1=\"-HEAGAWGHEE\"\n",
    "seq2=\"-PAWHEAE\"\n",
    "\n",
    "def align(seq1,seq2):\n",
    "    traceMatrix = getTraceMatrix(seq1,seq2)[0]\n",
    "    I,J=traceMatrix.shape\n",
    "    traceMatrix = np.array(traceMatrix)\n",
    "    i = I-1\n",
    "    j = J-1\n",
    "    seq1Aligned = \"\"\n",
    "    seq2Aligned = \"\"\n",
    "    while i>0 or j>0:\n",
    "        if traceMatrix[i,j] == 1:  #diagonal\n",
    "            seq1Aligned += seq1[j]\n",
    "            seq2Aligned += seq2[i]\n",
    "            i -= 1\n",
    "            j -= 1\n",
    "        if traceMatrix[i,j] == 2: #vertical\n",
    "            seq1Aligned += \"-\"\n",
    "            seq2Aligned += seq2[i]\n",
    "            i -= 1   \n",
    "        if traceMatrix[i,j] == 0: #horizontal\n",
    "            seq1Aligned += seq1[j]\n",
    "            seq2Aligned += \"-\"\n",
    "            j -= 1   \n",
    "    print(seq1Aligned[::-1])\n",
    "    print(seq2Aligned[::-1])\n",
    "align(seq1,seq2)"
   ]
  },
  {
   "cell_type": "markdown",
   "metadata": {},
   "source": [
    "Modelos de medición de la similaridad de secuencias\n",
    "---------------------------\n",
    "\n",
    "\n",
    "\\begin{eqnarray}\n",
    "P(x,y|R) = \\prod_i q_{x_i} \\prod_j q_{y_j}\n",
    "\\end{eqnarray}\n",
    "\n",
    "\n",
    "\\begin{eqnarray}\n",
    "P(x,y|M) = \\prod_i p_{x_i y_i}\n",
    "\\end{eqnarray}\n",
    "\n",
    "\\begin{eqnarray} \n",
    "\\frac{P(x,y|M)}{ P(x,y|R) } = \\frac{\\prod_i p_{x_i y_i} } {\\prod_i q_{x_i} \\prod_j q_{y_j}} = \\prod_i \\frac{p_{x_iy_i}}{q_{x_i}q_{y_i}}\n",
    "\\end{eqnarray}\n",
    "\n",
    "\\begin{eqnarray} \n",
    "&S=\\sum_is(x_i,y_i) \\\\\n",
    "\\text{en donde:}& \\\\\n",
    "&s(a,b)=log \\left( \\frac{p_{ab}}{q_aq_b} \\right)\n",
    "\\end{eqnarray}\n",
    "\n",
    "Espacios (gaps)\n",
    "--------------------\n",
    "\n",
    "\\begin{eqnarray}\n",
    "\\gamma(g) &= -gd\n",
    "\\end{eqnarray}\n",
    "\n",
    "Ejercicio 1\n",
    "-------------\n",
    "\n",
    "1. Descargar las matrices de alineamiento desde las librerías de ```biopython```, las cuales se instalan de la siguiente manera:\n",
    "\n",
    "\n",
    "```pythohn\n",
    "pip install biopython\n",
    "```\n",
    "\n",
    "2. Cargar las matrices BBLOSUM62 Y BLOSUM50."
   ]
  }
 ],
 "metadata": {
  "celltoolbar": "Slideshow",
  "kernelspec": {
   "display_name": "Python 3",
   "language": "python",
   "name": "python3"
  },
  "language_info": {
   "codemirror_mode": {
    "name": "ipython",
    "version": 3
   },
   "file_extension": ".py",
   "mimetype": "text/x-python",
   "name": "python",
   "nbconvert_exporter": "python",
   "pygments_lexer": "ipython3",
   "version": "3.8.10"
  }
 },
 "nbformat": 4,
 "nbformat_minor": 4
}
