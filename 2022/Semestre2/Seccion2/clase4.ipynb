{
 "cells": [
  {
   "cell_type": "markdown",
   "metadata": {
    "slideshow": {
     "slide_type": "slide"
    }
   },
   "source": [
    "# Resumen clase anterior"
   ]
  },
  {
   "cell_type": "code",
   "execution_count": 33,
   "metadata": {
    "slideshow": {
     "slide_type": "slide"
    }
   },
   "outputs": [
    {
     "data": {
      "text/plain": [
       "({'tgatca'}, 8)"
      ]
     },
     "execution_count": 33,
     "metadata": {},
     "output_type": "execute_result"
    }
   ],
   "source": [
    "import numpy as np\n",
    "\n",
    "def PatternCount(Text,Pattern):\n",
    "    count = 0\n",
    "    for i in range( len(Text) - len(Pattern) +1 ):\n",
    "        if Text[i:i+len(Pattern)] == Pattern:\n",
    "            count += 1\n",
    "    return(count)\n",
    "\n",
    "def FrequentWords(Text, k):\n",
    "    FrequentPatterns = set()\n",
    "    Count = [0]*( len(Text)-k+1 )\n",
    "    \n",
    "    for i in range( len(Text) - k +1 ):\n",
    "        Pattern = Text[ i:(i+k)]\n",
    "        Count[i] = PatternCount(Text, Pattern) # PatternCount cuenta el número de veces \n",
    "                                               # que Pattern aparece en Text\n",
    "    maxCount = np.max(Count)\n",
    "    for i in range(len(Text) - k +1 ):\n",
    "        if Count[i] == maxCount:\n",
    "            FrequentPatterns.add( Text[i:(i+k)] )\n",
    "            \n",
    "    return( (FrequentPatterns),maxCount ) #,Count\n",
    "\n",
    "Text=\"atcaatgatcaacgtaagcttctaagcatgatcaaggtgctcacacagtttatccacaac\\\n",
    "ctgagtggatgacatcaagataggtcgttgtatctccttcctctcgtactctcatgacca\\\n",
    "cggaaagatgatcaagagaggatgatttcttggccatatcgcaatgaatacttgtgactt\\\n",
    "gtgcttccaattgacatcttcagcgccatattgcgctggccaaggtgacggagcgggatt\\\n",
    "acgaaagcatgatcatggctgttgttctgtttatcttgttttgactgagacttgttagga\\\n",
    "tagacggtttttcatcactgactagccaaagccttactctgcctgacatcgaccgtaaat\\\n",
    "tgataatgaatttacatgcttccgcgacgatttacctcttgatcatcgatccgattgaag\\\n",
    "atcttcaattgttaattctcttgcctcgactcatagccatgatgagctcttgatcatgtt\\\n",
    "tccttaaccctctattttttacggaagaatgatcaagctgctgctcttgatcatcgtttc\"\n",
    "k=6\n",
    "\n",
    "FrequentWords(Text, k)"
   ]
  },
  {
   "cell_type": "markdown",
   "metadata": {
    "slideshow": {
     "slide_type": "slide"
    }
   },
   "source": [
    "Una manera más eficiente de buscar patrones\n",
    "=====================================\n",
    "\n",
    "Ya conseguimos nuestro objetivo de crear una herramienta para encontrar los patrones más comunes. Ésta funciona bien, pero no es muy eficiente. En ejemplos reales, en donde las secuencias genéticas tienen millones de bases, nuestra función es muy lenta. Utliza un ciclo for para recorrer la secuencia completa, pero por cada iteración del ciclo for llama a la función PatternCount, la que a su vez recorre nuevamente la secuencia completa, de principio a fin. \n",
    "\n",
    "Una manera más eficiente de hacer los calculos es almacenara el número de veces que ser recorre la secuencia no en una lista, sino en un diccionario. En python un diccionario se define de la siguiente manera:\n",
    "\n",
    "```python\n",
    "    x={} # a nuestro diccionario lo llamaremos x\n",
    "    x[\"secuencia1\"]=1\n",
    "    x[\"secuencia2\"]=3\n",
    "    x[\"secuencia1\"] = x[\"secuencia1\"] +1\n",
    "```"
   ]
  },
  {
   "cell_type": "markdown",
   "metadata": {
    "slideshow": {
     "slide_type": "slide"
    }
   },
   "source": [
    "Este es el seudo código para implementar esta mejora\n",
    "\n",
    "\n",
    "```python\n",
    "    FrequencyDictionary(Text, k)\n",
    "        freqMap ← empty map\n",
    "        n ← |Text|\n",
    "        for i ← 0 to n − k\n",
    "            Pattern ← Text(i, k)\n",
    "            if freqMap[Pattern] doesn't exist\n",
    "                freqMap[Pattern]← 1\n",
    "            else\n",
    "               freqMap[Pattern] ←freqMap[Pattern]+1 \n",
    "        return freqMap\n",
    "    \n",
    "    BetterFrequentWords(Text, k)\n",
    "        FrequentPatterns ← an array of strings of length 0\n",
    "        freqMap ← FrequencyDictionary(Text, k)\n",
    "        max ← MaxMap(freqMap)\n",
    "        for all strings Pattern in freqMap\n",
    "            if freqMap[pattern] = max\n",
    "                append Pattern to FrequentPatterns\n",
    "        return FrequentPatterns    \n",
    "```    "
   ]
  },
  {
   "cell_type": "code",
   "execution_count": 1,
   "metadata": {},
   "outputs": [],
   "source": [
    "def FrequencyDictionary(Text, k):\n",
    "    freqMap = {}\n",
    "    n = len(Text)\n",
    "    for i in range(n-k):\n",
    "        Pattern = Text[i:(i+k)]\n",
    "        if not Pattern in freqMap:\n",
    "            freqMap[Pattern] = 1\n",
    "        else:\n",
    "            freqMap[Pattern] = freqMap[Pattern]+1 \n",
    "    return( freqMap )\n",
    "\n",
    "def BetterFrequentWords(Text, k):\n",
    "    FrequentPatterns = []\n",
    "    freqMap = FrequencyDictionary(Text, k)\n",
    "    maxValue = max(list( freqMap.values() ))\n",
    "    for Pattern in freqMap:\n",
    "        if freqMap[Pattern] == maxValue:\n",
    "            FrequentPatterns.append(Pattern)\n",
    "    return( FrequentPatterns ) "
   ]
  },
  {
   "cell_type": "code",
   "execution_count": 37,
   "metadata": {},
   "outputs": [
    {
     "data": {
      "text/plain": [
       "2"
      ]
     },
     "execution_count": 37,
     "metadata": {},
     "output_type": "execute_result"
    }
   ],
   "source": [
    "x={}\n",
    "x[\"uno\"]=1\n",
    "x[\"dos\"]=2\n",
    "\n",
    "max(list( x.values() ))"
   ]
  },
  {
   "cell_type": "markdown",
   "metadata": {
    "slideshow": {
     "slide_type": "slide"
    }
   },
   "source": [
    "## Ejercicio\n",
    "\n",
    "1. Implementar las funciones ```FrequencyDicionary(Text, k)``` y ```BetterFrequentWords(Text, k)```.\n",
    "2. Ejecutar ```BetterFrequentWords(Text, k)``` con los siguientes datos. \n",
    "\n",
    "Text=\"atcaatgatcaacgtaagcttctaagcatgatcaaggtgctcacacagtttatccacaac\\\n",
    "ctgagtggatgacatcaagataggtcgttgtatctccttcctctcgtactctcatgacca\\\n",
    "cggaaagatgatcaagagaggatgatttcttggccatatcgcaatgaatacttgtgactt\\\n",
    "gtgcttccaattgacatcttcagcgccatattgcgctggccaaggtgacggagcgggatt\\\n",
    "acgaaagcatgatcatggctgttgttctgtttatcttgttttgactgagacttgttagga\\\n",
    "tagacggtttttcatcactgactagccaaagccttactctgcctgacatcgaccgtaaat\\\n",
    "tgataatgaatttacatgcttccgcgacgatttacctcttgatcatcgatccgattgaag\\\n",
    "atcttcaattgttaattctcttgcctcgactcatagccatgatgagctcttgatcatgtt\\\n",
    "tccttaaccctctattttttacggaagaatgatcaagctgctgctcttgatcatcgtttc\"\n",
    "\n",
    "k=9"
   ]
  },
  {
   "cell_type": "code",
   "execution_count": null,
   "metadata": {},
   "outputs": [],
   "source": []
  },
  {
   "cell_type": "code",
   "execution_count": 39,
   "metadata": {
    "slideshow": {
     "slide_type": "slide"
    }
   },
   "outputs": [
    {
     "data": {
      "text/plain": [
       "['atgatcaag', 'ctcttgatc', 'tcttgatca', 'cttgatcat']"
      ]
     },
     "execution_count": 39,
     "metadata": {},
     "output_type": "execute_result"
    }
   ],
   "source": [
    "Text=\"atcaatgatcaacgtaagcttctaagcatgatcaaggtgctcacacagtttatccacaac\\\n",
    "    ctgagtggatgacatcaagataggtcgttgtatctccttcctctcgtactctcatgacca\\\n",
    "    cggaaagatgatcaagagaggatgatttcttggccatatcgcaatgaatacttgtgactt\\\n",
    "    gtgcttccaattgacatcttcagcgccatattgcgctggccaaggtgacggagcgggatt\\\n",
    "    acgaaagcatgatcatggctgttgttctgtttatcttgttttgactgagacttgttagga\\\n",
    "    tagacggtttttcatcactgactagccaaagccttactctgcctgacatcgaccgtaaat\\\n",
    "    tgataatgaatttacatgcttccgcgacgatttacctcttgatcatcgatccgattgaag\\\n",
    "    atcttcaattgttaattctcttgcctcgactcatagccatgatgagctcttgatcatgtt\\\n",
    "    tccttaaccctctattttttacggaagaatgatcaagctgctgctcttgatcatcgtttc\"\n",
    "\n",
    "k=9\n",
    "BetterFrequentWords(Text, k)"
   ]
  },
  {
   "cell_type": "markdown",
   "metadata": {
    "slideshow": {
     "slide_type": "slide"
    }
   },
   "source": [
    "# Clase 4\n",
    "\n",
    "## Contenidos\n",
    "\n",
    "* Introduccción al alineamiento de secuencias genéticas\n",
    "* Concepto de alineamiento global\n",
    "* Representación matricial de alineamientos\n",
    "* Algortimo de alineamiento de Needleman-Wunsh"
   ]
  },
  {
   "cell_type": "markdown",
   "metadata": {
    "slideshow": {
     "slide_type": "slide"
    }
   },
   "source": [
    "## Introducción \n",
    "\n",
    "Las secuencias genéticas evoluciónan a través de mutaciones, inserciones, y eliminaciones de nucleotridos. Veamos algunos ejemplos: \n",
    "\n",
    "<img src=\"https://raw.githubusercontent.com/mrivas/Bioinformatica/master/clase7_mutations.png\" alt=\"Drawing\" style=\"width: 400px;\"/>"
   ]
  },
  {
   "cell_type": "markdown",
   "metadata": {
    "slideshow": {
     "slide_type": "slide"
    }
   },
   "source": [
    "## Ejercicio\n",
    "\n",
    "Dadas dos secuencias de nucleotidos $x$ e $y$, escribe una funcion llamada $nucleotideScore(x,y)$ que cacule el score de alineamiento. Aplica tu función a los siguientes pares de secuencias de nucleotidos:\n",
    "\n",
    "1. \"ACCCTG\"\\\n",
    "   \"ACGGTG\"    \n",
    "1. \"GACTCCGG\"\\\n",
    "   \"GACTAATG\"      "
   ]
  },
  {
   "cell_type": "code",
   "execution_count": 59,
   "metadata": {
    "slideshow": {
     "slide_type": "fragment"
    }
   },
   "outputs": [],
   "source": [
    "def nucleotideScore(x,y):\n",
    "    score = 0\n",
    "    n=len(x)\n",
    "    for i in range(n):\n",
    "        if x[i] == y[i]:\n",
    "            score = score + 1\n",
    "        else:\n",
    "            score = score - 20\n",
    "    return(score)"
   ]
  },
  {
   "cell_type": "code",
   "execution_count": null,
   "metadata": {},
   "outputs": [],
   "source": [
    "if ddkjdjfakjsf:\n",
    "    sdjfkjsk\n",
    "else:\n",
    "    sdkjflsdj"
   ]
  },
  {
   "cell_type": "code",
   "execution_count": 60,
   "metadata": {
    "slideshow": {
     "slide_type": "fragment"
    }
   },
   "outputs": [
    {
     "name": "stdout",
     "output_type": "stream",
     "text": [
      "-18\n"
     ]
    }
   ],
   "source": [
    "x=\"ACT\"\n",
    "y=\"ACC\"\n",
    "print ( nucleotideScore(x,y) )\n"
   ]
  },
  {
   "cell_type": "markdown",
   "metadata": {
    "slideshow": {
     "slide_type": "slide"
    }
   },
   "source": [
    "# Alineamiento de nucleotidos\n",
    "\n",
    "<img src=\"https://raw.githubusercontent.com/mrivas/Bioinformatica/master/clase7_nucleotides.png\" alt=\"Drawing\" style=\"width: 700px;\"/>"
   ]
  },
  {
   "cell_type": "markdown",
   "metadata": {
    "slideshow": {
     "slide_type": "slide"
    }
   },
   "source": [
    "### Alineamiento de aminoacidos\n",
    "\n",
    "\n",
    "<img src=\"https://raw.githubusercontent.com/mrivas/Bioinformatica/master/clase7_aaPolaridad.png\" alt=\"Drawing\" style=\"width: 200px;\" align=\"left\"/>\n",
    "\n",
    "<img src=\"https://raw.githubusercontent.com/mrivas/Bioinformatica/master/clase7_aminoacids.png\" alt=\"Drawing\" style=\"width: 620px;\"/>"
   ]
  },
  {
   "cell_type": "code",
   "execution_count": 4,
   "metadata": {},
   "outputs": [
    {
     "name": "stdout",
     "output_type": "stream",
     "text": [
      "5\n"
     ]
    }
   ],
   "source": [
    "from Bio.SubsMat import MatrixInfo\n",
    "\n",
    "pair=(\"E\",\"E\") # tupla\n",
    "if not pair in MatrixInfo.blosum62:\n",
    "    pair = tuple(reversed(pair))\n",
    "    \n",
    "print(MatrixInfo.blosum62[pair])"
   ]
  },
  {
   "cell_type": "code",
   "execution_count": 12,
   "metadata": {
    "slideshow": {
     "slide_type": "slide"
    }
   },
   "outputs": [
    {
     "data": {
      "text/plain": [
       "-1"
      ]
     },
     "execution_count": 12,
     "metadata": {},
     "output_type": "execute_result"
    }
   ],
   "source": [
    "from Bio.SubsMat import MatrixInfo\n",
    "# Alineamiento 1\n",
    "def getAlignmentScore(x,y):\n",
    "    n=len(x)\n",
    "    score_t = 0\n",
    "    for i in range(n):\n",
    "        if x[i]==\"-\" or y[i]==\"-\":\n",
    "            score_i = -8\n",
    "        else:\n",
    "            pair = (x[i],y[i])\n",
    "            if not pair in MatrixInfo.blosum62:\n",
    "                pair = tuple(reversed(pair))\n",
    "            score_i = MatrixInfo.blosum62[pair]\n",
    "        score_t = score_t + score_i\n",
    "    return(score_t)    \n",
    "x=\"FQRTS\"\n",
    "y=\"F-QRT\"\n",
    "getAlignmentScore(x,y)"
   ]
  },
  {
   "cell_type": "code",
   "execution_count": 13,
   "metadata": {},
   "outputs": [
    {
     "data": {
      "text/plain": [
       "13"
      ]
     },
     "execution_count": 13,
     "metadata": {},
     "output_type": "execute_result"
    }
   ],
   "source": [
    "# Alineamiento 2\n",
    "x=\"FQRTS\"\n",
    "y=\"FQRT-\"\n",
    "getAlignmentScore(x,y)"
   ]
  },
  {
   "cell_type": "code",
   "execution_count": null,
   "metadata": {},
   "outputs": [],
   "source": []
  },
  {
   "cell_type": "markdown",
   "metadata": {
    "slideshow": {
     "slide_type": "slide"
    }
   },
   "source": [
    "# Alineamiento global\n",
    "\n",
    "\n",
    "Si la bondad de un alineamiento entre dos secuencias la medimos a través de la medición de su score, entonces si tenemos dos o más alineamientos le damos preferencia al que tenga el máximo **score**. \n",
    "\n",
    "Esto se llama alineamiento global.\n",
    "\n",
    "El algoritmo de **Needleman-Wuns** utiliza una matriz de substitución (por ejemplo BLOSUM50) para encontrar el alineamiento con el maximo score posible.\n",
    "\n",
    "Antes de ver el algoritmo de **Needleman-Wunsh**, veamos maneras convenientes de representar los alineamientos."
   ]
  },
  {
   "cell_type": "markdown",
   "metadata": {
    "slideshow": {
     "slide_type": "slide"
    }
   },
   "source": [
    "# Representación matricial del alineamiento de dos secuencias\n"
   ]
  },
  {
   "cell_type": "markdown",
   "metadata": {
    "slideshow": {
     "slide_type": "slide"
    }
   },
   "source": [
    "Las secuencias: \n",
    "```\n",
    "x=AETGGW  \n",
    "y=AEEH\n",
    "```\n",
    "Pueden ser alineadas como\n",
    "```\n",
    "AETGGW\n",
    "A-E-EH\n",
    "```\n",
    "o\n",
    "```\n",
    "AETGGW\n",
    "AEE--H\n",
    "```  \n",
    "o de varias otras formas.  "
   ]
  },
  {
   "cell_type": "markdown",
   "metadata": {
    "slideshow": {
     "slide_type": "slide"
    }
   },
   "source": [
    "Para expresar todos los posibles alineamientos de manera compacta podemos hacer uso de una representación matricial. Por ejemplo:\n",
    "    \n",
    "```\n",
    "AETGGW    AETGGW\n",
    "A-E-EH    AEE--H\n",
    "```\n",
    "Puden ser representados de la siguiente manera:\n",
    "\n",
    "<table><tr>\n",
    "<td> <img src=\"https://raw.githubusercontent.com/mrivas/Bioinformatica/master/clase9_matrixAlingment1.png\" alt=\"Drawing\" style=\"width: 250px;\"/> </td>\n",
    "<td> <img src=\"https://raw.githubusercontent.com/mrivas/Bioinformatica/master/clase9_matrixAlingment1.png\" alt=\"Drawing\" style=\"width: 250px;\"/> </td>\n",
    "</tr></table>"
   ]
  },
  {
   "cell_type": "markdown",
   "metadata": {
    "slideshow": {
     "slide_type": "slide"
    }
   },
   "source": [
    "¿Cómo podemos representar alineamientos que comienzan con un gap? Por ejemplo:\n",
    "\n",
    "```\n",
    "AETGGW    -AETGGW\n",
    "-AEE-H    AE-E--H\n",
    "```\n",
    "\n",
    "Para ésto podemos agregar la siguiente modificación a nuesta matriz de alineamientos:\n",
    "\n",
    "\n",
    "<table><tr>\n",
    "<td> <img src=\"https://raw.githubusercontent.com/mrivas/Bioinformatica/master/clase9_alignmentMatrix2.png\" alt=\"Drawing\" style=\"width: 250px;\"/> </td>\n",
    "<td> <img src=\"https://raw.githubusercontent.com/mrivas/Bioinformatica/master/clase9_alignmentMatrix2.png\" alt=\"Drawing\" style=\"width: 250px;\"/> </td>\n",
    "</tr></table>"
   ]
  },
  {
   "cell_type": "markdown",
   "metadata": {
    "slideshow": {
     "slide_type": "slide"
    }
   },
   "source": [
    "**Ejercicio 1** Representa en forma matricial los siguientes alienamientos:\n",
    "\n",
    "1.\n",
    "```\n",
    "GTAAETGGW\n",
    "-WTAE-E-H\n",
    "```\n",
    "2.\n",
    "```\n",
    "-ETGGTAGW\n",
    "E-E--WTAH\n",
    "```\n"
   ]
  },
  {
   "cell_type": "markdown",
   "metadata": {
    "slideshow": {
     "slide_type": "slide"
    }
   },
   "source": [
    "**Ejercicio 2** Para verificar que entendimos como ésto funciona, ahora hagamos el proceso en sentido inverso. Dadas las siguientes matrices, representa el alineamiento como una secuencia letra a letra:\n",
    "\n",
    "<table><tr>\n",
    "<td> <img src=\"https://raw.githubusercontent.com/mrivas/Bioinformatica/master/clase9_example1.png\" alt=\"Drawing\" style=\"width: 350px;\"/> </td>\n",
    "<td> <img src=\"https://raw.githubusercontent.com/mrivas/Bioinformatica/master/clase9_example2.png\" alt=\"Drawing\" style=\"width: 350px;\"/> </td>\n",
    "</tr></table>"
   ]
  },
  {
   "cell_type": "markdown",
   "metadata": {
    "slideshow": {
     "slide_type": "slide"
    }
   },
   "source": [
    "# Algortimo de alineamiento de Needleman-Wunsh"
   ]
  },
  {
   "cell_type": "markdown",
   "metadata": {
    "slideshow": {
     "slide_type": "slide"
    }
   },
   "source": [
    "## ¿De qué sirve ésto? En la misma matríz podemos anotar los scores de los alineamientos parciales\n",
    "\n",
    "\n",
    "Supongamos que utilizando la matriz BLOSUM50 (scores para match/mismatch) y $d=-8$ (score para gaps), queremos encontrar el mejor alineamineto entre las secuencias\n",
    "```\n",
    "  x=HEAGAWGHEE   y=PAWHEAE \n",
    "```\n"
   ]
  },
  {
   "cell_type": "markdown",
   "metadata": {
    "slideshow": {
     "slide_type": "slide"
    }
   },
   "source": [
    " En este caso podemos escribir todas la alineaciones posibles y los scores de los mejores alineamientos parciales como la matriz:\n",
    "\n",
    "<img src=\"https://raw.githubusercontent.com/mrivas/Bioinformatica/master/clase7_exampleAlignment.jpg\" alt=\"Drawing\" style=\"width: 400px;\" />\n",
    "\n",
    "En donde la coordenada $(i,j)$ corresponde al mejor score entre las secuencias $x_{1...i}$ y $y_{1...j}$. "
   ]
  },
  {
   "cell_type": "markdown",
   "metadata": {
    "slideshow": {
     "slide_type": "slide"
    }
   },
   "source": [
    "Calculamos el valor de cada coordenadas en base a sus valores adyacentes:\n",
    "\n",
    "<table><tr>\n",
    "<td> <img src=\"https://raw.githubusercontent.com/mrivas/Bioinformatica/master/clase7_exampleAlignment.jpg\" alt=\"Drawing\" style=\"width: 350px;\"/> </td>\n",
    "<td> <img src=\"https://raw.githubusercontent.com/mrivas/Bioinformatica/master/clase7_trace.jpg\" alt=\"Drawing\" style=\"width: 250px;\"/> </td>\n",
    "</tr></table>"
   ]
  },
  {
   "cell_type": "markdown",
   "metadata": {
    "slideshow": {
     "slide_type": "slide"
    }
   },
   "source": [
    "De estas tres opciones, se selecciona el score que hasta ese momento sea el más alto:\n",
    "\n",
    "<table><tr>\n",
    "<td> <img src=\"https://raw.githubusercontent.com/mrivas/Bioinformatica/master/clase7_trace.jpg\" alt=\"Drawing\" style=\"width: 350px;\"/> </td>\n",
    "<td> <img src=\"https://raw.githubusercontent.com/mrivas/Bioinformatica/master/clase7_selection.jpg\" alt=\"Drawing\" style=\"width: 450px;\"/> </td>\n",
    "</tr></table>\n"
   ]
  },
  {
   "cell_type": "markdown",
   "metadata": {
    "slideshow": {
     "slide_type": "slide"
    }
   },
   "source": [
    "Ejercicio 4\n",
    "----------\n",
    "\n",
    "Dada las secuencias $x=HEAGAWGHEE$, $y=PAWHEAE$, escribe código para:\n",
    "\n",
    "1. Construir la matriz con los scores de cada secuencia (Matriz BLOSUM50).\n",
    "2. Computar la matriz de los los mejores alineamientos parciales (Matriz F).\n",
    "3. Trazar la suceción de alineamientos parciales con el mayor score total.\n",
    "4. Escribe una función ```align(seq1,seq2)``` que tome como argumentos las secuencias ```seq1``` y ```seq2```, y entrgue como resultado su mejor alineamiento. "
   ]
  },
  {
   "cell_type": "code",
   "execution_count": 45,
   "metadata": {},
   "outputs": [],
   "source": [
    "import numpy as np\n",
    "x=\"-HEAGAWGHEE\" \n",
    "y=\"-PAWHEAE\"\n",
    "lx,ly=len(x),len(y)\n",
    "\n",
    "def s(a,b):\n",
    "    if a==\"-\" or b==\"-\":\n",
    "        score = -8\n",
    "    else:\n",
    "        pair = (a,b)\n",
    "        if not pair in MatrixInfo.blosum50:\n",
    "            pair = tuple(reversed(pair))\n",
    "        score = MatrixInfo.blosum50[pair]\n",
    "    return(score)\n",
    "\n",
    "F = np.zeros((ly,lx)) # Matriz de mejores alineamientos\n",
    "F[0,:] = np.arange(lx)*-8 # primera fila de F\n",
    "F[:,0] = np.arange(ly)*-8 # primera columna de F\n",
    "\n",
    "T = np.zeros((ly,lx)) # Matriz de trazabilidad\n",
    "T[0,:] = [1]*lx # primera fila de T\n",
    "T[:,0] = [2]*ly # primera columna de T\n",
    "\n",
    "for j in range(1,ly): #itera sobre las filas de F\n",
    "    for i in range(1,lx): # itera sobre las columnas de F\n",
    "        diagonal = F[j-1,i-1] + s(x[i],y[j]) # score obtenido con movimiento diagonal\n",
    "        lateral  = F[j  ,i-1] - 8 # ..............................lateral\n",
    "        vertical = F[j-1,i  ] - 8 # ..............................vertical\n",
    "        scoreMaximo = np.max(   [diagonal,lateral,vertical]) # selecciona el maximo entre las tres opciones\n",
    "        direccion   = np.argmax([diagonal,lateral,vertical])\n",
    "        F[j,i] = scoreMaximo\n",
    "        T[j,i] = direccion"
   ]
  },
  {
   "cell_type": "code",
   "execution_count": 46,
   "metadata": {},
   "outputs": [
    {
     "data": {
      "text/plain": [
       "array([[  0.,  -8., -16., -24., -32., -40., -48., -56., -64., -72., -80.],\n",
       "       [ -8.,  -2.,  -9., -17., -25., -33., -41., -49., -57., -65., -73.],\n",
       "       [-16., -10.,  -3.,  -4., -12., -20., -28., -36., -44., -52., -60.],\n",
       "       [-24., -18., -11.,  -6.,  -7., -15.,  -5., -13., -21., -29., -37.],\n",
       "       [-32., -14., -18., -13.,  -8.,  -9., -13.,  -7.,  -3., -11., -19.],\n",
       "       [-40., -22.,  -8., -16., -16.,  -9., -12., -15.,  -7.,   3.,  -5.],\n",
       "       [-48., -30., -16.,  -3., -11., -11., -12., -12., -15.,  -5.,   2.],\n",
       "       [-56., -38., -24., -11.,  -6., -12., -14., -15., -12.,  -9.,   1.]])"
      ]
     },
     "execution_count": 46,
     "metadata": {},
     "output_type": "execute_result"
    }
   ],
   "source": [
    "F"
   ]
  },
  {
   "cell_type": "code",
   "execution_count": 47,
   "metadata": {},
   "outputs": [
    {
     "data": {
      "text/plain": [
       "array([[2., 1., 1., 1., 1., 1., 1., 1., 1., 1., 1.],\n",
       "       [2., 0., 0., 0., 1., 0., 1., 1., 1., 0., 0.],\n",
       "       [2., 0., 0., 0., 1., 0., 1., 1., 1., 1., 1.],\n",
       "       [2., 2., 2., 0., 0., 0., 0., 1., 1., 1., 1.],\n",
       "       [2., 0., 0., 0., 0., 0., 2., 0., 0., 1., 1.],\n",
       "       [2., 2., 0., 1., 0., 0., 0., 2., 0., 0., 0.],\n",
       "       [2., 2., 2., 0., 1., 0., 0., 0., 2., 2., 0.],\n",
       "       [2., 2., 0., 2., 0., 0., 0., 0., 0., 0., 0.]])"
      ]
     },
     "execution_count": 47,
     "metadata": {},
     "output_type": "execute_result"
    }
   ],
   "source": [
    "T"
   ]
  },
  {
   "cell_type": "code",
   "execution_count": null,
   "metadata": {},
   "outputs": [],
   "source": []
  },
  {
   "cell_type": "code",
   "execution_count": null,
   "metadata": {},
   "outputs": [],
   "source": []
  },
  {
   "cell_type": "code",
   "execution_count": null,
   "metadata": {},
   "outputs": [],
   "source": []
  },
  {
   "cell_type": "code",
   "execution_count": null,
   "metadata": {},
   "outputs": [],
   "source": []
  }
 ],
 "metadata": {
  "celltoolbar": "Slideshow",
  "kernelspec": {
   "display_name": "Python 3",
   "language": "python",
   "name": "python3"
  },
  "language_info": {
   "codemirror_mode": {
    "name": "ipython",
    "version": 3
   },
   "file_extension": ".py",
   "mimetype": "text/x-python",
   "name": "python",
   "nbconvert_exporter": "python",
   "pygments_lexer": "ipython3",
   "version": "3.8.10"
  }
 },
 "nbformat": 4,
 "nbformat_minor": 4
}
