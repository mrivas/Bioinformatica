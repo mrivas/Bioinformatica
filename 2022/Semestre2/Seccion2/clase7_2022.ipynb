{
 "cells": [
  {
   "cell_type": "markdown",
   "metadata": {
    "slideshow": {
     "slide_type": "slide"
    }
   },
   "source": [
    "# Clase 7"
   ]
  },
  {
   "cell_type": "markdown",
   "metadata": {
    "slideshow": {
     "slide_type": "slide"
    }
   },
   "source": [
    "## Contenidos\n",
    "\n",
    "\n",
    "Introducción a:    \n",
    "    \n",
    "* Árboles filogenéticos\n",
    "* Algoritmo UPGMA\n",
    "* Implementación en Python"
   ]
  },
  {
   "cell_type": "markdown",
   "metadata": {
    "slideshow": {
     "slide_type": "slide"
    }
   },
   "source": [
    "## Árboles filogenéticos \n",
    "\n",
    "En la unidad anterior consideramos el problema de alineamiento entre secuencias genéticas. Ahora veremos como utilizar esa información para inferir relaciones filogenéticas. "
   ]
  },
  {
   "cell_type": "markdown",
   "metadata": {
    "slideshow": {
     "slide_type": "slide"
    }
   },
   "source": [
    "La similiaridad de los mecanismos moleculares presentes en los organismos vivos sugiere que todos comparten un antepasado común. Así, todas las especies están relacionadas, y está relación se llama filogénia. Estas pueden ser representadas con un árbol filogenético.\n",
    "    \n",
    "<img src=\"https://raw.githubusercontent.com/mrivas/Bioinformatica/master/clase12_phylogeneticTree.png\" alt=\"Drawing\" style=\"width: 400px;\"/>  "
   ]
  },
  {
   "cell_type": "markdown",
   "metadata": {
    "slideshow": {
     "slide_type": "slide"
    }
   },
   "source": [
    "Tradicionalmente, la relaciones filogenéticas se inferían a partir de las características morfológicas de los organismos. \n",
    "\n",
    "Con el desarrollo de las técnicas de secuenciamiento genético, ahora podemos inferir estás relaciones analizando la similaridad del material genéticos de los organismos. \n",
    "\n",
    "Por ejemplo, es plausible asumir que dos secuencias que derivan de un atenpasado común tendrán más diferencias (peor alineamiento) a medida que el aumento el tiempo desde el evento de diversificación. "
   ]
  },
  {
   "cell_type": "markdown",
   "metadata": {
    "slideshow": {
     "slide_type": "slide"
    }
   },
   "source": [
    "## Algoritmo UPGMA\n",
    "\n",
    "    \n",
    "Una manera intuitiva de construir arboles filogenéticos es considerar las distancias $d_{i,j}$ entre las secuencias $i$ y $j$. \n",
    "\n",
    "Hay muchas maneras de definir $d_{i,j}$. \n",
    "\n",
    "Por ejemplo, como la fracción $f$ de sitios en los cuales difieren las secuencias $i$ y $j$. "
   ]
  },
  {
   "cell_type": "markdown",
   "metadata": {
    "slideshow": {
     "slide_type": "slide"
    }
   },
   "source": [
    "Sin embargo, hay que tener en consideración la fracción $f$ que se obtendría aleatoriamente entre dos secuencias totalmente no relacionadas. \n",
    "\n",
    "En este caso el valor de $f$ sería $3/4$. \n",
    "\n",
    "Teniendo ésto en consideración, una definición de distancia más adecuada sería una que se tiende a infinito a medida que $f$ tiende a $3/4$. Una manera de implementar esto es la a través de la distancia de Jukes-Cantor:\n",
    "    \n",
    "$d_{i,j} = -\\frac{3}{4}log(1-f\\frac{4}{3})$    \n"
   ]
  },
  {
   "cell_type": "code",
   "execution_count": 3,
   "metadata": {
    "slideshow": {
     "slide_type": "slide"
    }
   },
   "outputs": [
    {
     "data": {
      "text/plain": [
       "Text(0.5, 1.0, 'Distancia de Jukes-Cantor')"
      ]
     },
     "execution_count": 3,
     "metadata": {},
     "output_type": "execute_result"
    },
    {
     "data": {
      "image/png": "[encoded data removed]",
      "text/plain": [
       "<Figure size 432x288 with 1 Axes>"
      ]
     },
     "metadata": {
      "needs_background": "light"
     },
     "output_type": "display_data"
    }
   ],
   "source": [
    "import numpy as np\n",
    "from matplotlib import pyplot as plt\n",
    "\n",
    "f=np.linspace(0,0.74999,200)\n",
    "d=-3/4*np.log(1-f*4/3)\n",
    "\n",
    "plt.plot(f,d)\n",
    "plt.xlabel(\"f\")\n",
    "plt.ylabel(\"d\")\n",
    "plt.axvline(0.75,color=\"red\",linestyle=\"--\")\n",
    "plt.title(\"Distancia de Jukes-Cantor\")"
   ]
  },
  {
   "cell_type": "markdown",
   "metadata": {
    "slideshow": {
     "slide_type": "slide"
    }
   },
   "source": [
    "# <font size=\"5\">\n",
    "La distancia entre secuencias también la podemos extender a las distancias entre clusters como la distancia promedio entre los pares de secuencias contenidos en cada cluster:\n",
    "\n",
    "\\begin{equation}    \n",
    "d_{i,j} = \\frac{1}{|C_i||C_j|} \\sum_{p \\in C_i, q \\in C_j}d_{p,q}\n",
    "\\end{equation}   \n",
    "    \n",
    "donde: \n",
    "    \n",
    "$|C_i|$ y $|C_j|$ son el número de secuencias en los clusters $i$ y $j$.\n",
    "    \n",
    "    \n",
    "Notar que si $C_k$ es la unión de dos clusters, $C_i$ y $C_j$, entonces $C_k=C_i \\cup C_j$, y su distancia con el cluter $l$ es:\n",
    "    \n",
    "\\begin{equation}    \n",
    "d_{k,l} = \\frac{d_{i,l}|C_i|+d_{j,l}|C_j|}{|C_i|+|C_j|}\n",
    "\\end{equation}       \n",
    "</font>"
   ]
  },
  {
   "cell_type": "markdown",
   "metadata": {
    "slideshow": {
     "slide_type": "slide"
    }
   },
   "source": [
    "Así, el algoritmo es el siguiente:\n",
    "    \n",
    "1. Inicialización\n",
    "    * Por cada secuencia $i$ define un cluser $C_i$.\n",
    "    * Define una hoja por cada secuencia y asignale una altura zero.\n",
    "2. Iteración:\n",
    "    * Determina los dos clusters $i$ y $j$ para los cuales $d_{i,j}$ es mínima (si hay más de dos, selecionalos aleatoriamente).\n",
    "    * Define un nuevo cluster $k$ como $C_k=C_i \\cup C_j$.\n",
    "    * Define un nodo $k$ con nodos hijos $i$ y $j$ y asignale una altura de $d_{i,j}/2$.\n",
    "    * Agregar $k$ al conjunto de clusters y remueve $i$ y $j$ de los clusters.\n",
    "3. Término:\n",
    "    * Cuando solo queden dos clusters, $i$ y $j$, ubicalos como como nodo raíz con una altura de $d_{i,j}/2$.\n",
    " \n",
    "</font>  "
   ]
  },
  {
   "cell_type": "markdown",
   "metadata": {
    "slideshow": {
     "slide_type": "slide"
    }
   },
   "source": [
    "<img src=\"https://raw.githubusercontent.com/mrivas/Bioinformatica/master/clase12_UPGMA.jpg\" alt=\"Drawing\" style=\"width: 600px;\"/> \n",
    "    \n",
    "  "
   ]
  },
  {
   "cell_type": "markdown",
   "metadata": {
    "slideshow": {
     "slide_type": "slide"
    }
   },
   "source": [
    "Implementación en Python\n",
    "---------------------"
   ]
  },
  {
   "cell_type": "code",
   "execution_count": 4,
   "metadata": {
    "slideshow": {
     "slide_type": "slide"
    }
   },
   "outputs": [
    {
     "data": {
      "text/plain": [
       "array([[0, 1, 3],\n",
       "       [1, 0, 3],\n",
       "       [3, 3, 0]])"
      ]
     },
     "execution_count": 4,
     "metadata": {},
     "output_type": "execute_result"
    }
   ],
   "source": [
    "from scipy.cluster.hierarchy import dendrogram, linkage\n",
    "from matplotlib import pyplot as plt\n",
    "\n",
    "d = np.array([[0,1,3],[1,0,3],[3,3,0]]) # matriz de distancias\n",
    "d"
   ]
  },
  {
   "cell_type": "code",
   "execution_count": 5,
   "metadata": {
    "slideshow": {
     "slide_type": "fragment"
    }
   },
   "outputs": [
    {
     "name": "stderr",
     "output_type": "stream",
     "text": [
      "C:\\Users\\ESCQUI~1\\AppData\\Local\\Temp/ipykernel_3088/4284035877.py:1: ClusterWarning: scipy.cluster: The symmetric non-negative hollow observation matrix looks suspiciously like an uncondensed distance matrix\n",
      "  Z = linkage(d, 'average')\n"
     ]
    },
    {
     "data": {
      "image/png": "[encoded data removed]",
      "text/plain": [
       "<Figure size 432x288 with 1 Axes>"
      ]
     },
     "metadata": {
      "needs_background": "light"
     },
     "output_type": "display_data"
    }
   ],
   "source": [
    "Z = linkage(d, 'average')\n",
    "dn = dendrogram(Z)"
   ]
  },
  {
   "cell_type": "markdown",
   "metadata": {
    "slideshow": {
     "slide_type": "slide"
    }
   },
   "source": [
    "Ejercicio\n",
    "--------\n",
    "\n",
    "Realiza el dendrograma de la siguiente matriz de distancias:\n",
    "    \n",
    "```\n",
    "d = np.array([[0,1,6,5,5],[1,0,6,5,5],[6,6,0,3,5],[5,5,3,0,1.1],[5,5,5,1.1,0]])\n",
    "```"
   ]
  },
  {
   "cell_type": "code",
   "execution_count": null,
   "metadata": {
    "slideshow": {
     "slide_type": "slide"
    }
   },
   "outputs": [],
   "source": []
  },
  {
   "cell_type": "code",
   "execution_count": null,
   "metadata": {},
   "outputs": [],
   "source": []
  },
  {
   "cell_type": "markdown",
   "metadata": {
    "slideshow": {
     "slide_type": "slide"
    }
   },
   "source": [
    "Ejercicio\n",
    "--------\n",
    "\n",
    "Dadas las siguintes secuencias:\n",
    "\n",
    "```\n",
    "seq1=\"CGGGCATAACGTAGAGGGCAGGCATAACGAAGGAGGTAGGCA\"\n",
    "seq2=\"CGGGCTTAACGTAGAGGGCAGGCATAACGAAGGAGGTAGGCA\"\n",
    "seq3=\"CGGGCTTAACGTAGAGCGCAGGCATCACGAAGGGGGTAGGCA\"\n",
    "seq4=\"CGAGCTTAACGTAGAGCGCAGTCATCACGAAGGGGGTAGGCA\"\n",
    "seq5=\"CGCGCTTAACGTAGAGCGCAGTCATCACGAAGCCGGTAGGCT\"\n",
    "```\n",
    "\n",
    "1. Escribe un programa para calcular las distancias entre cada par de secuencias.\n",
    "2. Computa la matriz de distancias\n",
    "3. Haz el dendrograma de acuerdo al algoritmo de UPGMA."
   ]
  },
  {
   "cell_type": "code",
   "execution_count": 20,
   "metadata": {
    "slideshow": {
     "slide_type": "slide"
    }
   },
   "outputs": [
    {
     "data": {
      "text/plain": [
       "array([[-0.        ,  0.02419565,  0.10185116,  0.15848182,  0.21974034],\n",
       "       [ 0.02419565, -0.        ,  0.07506259,  0.12963211,  0.18848582],\n",
       "       [ 0.10185116,  0.07506259, -0.        ,  0.04919796,  0.12963211],\n",
       "       [ 0.15848182,  0.12963211,  0.04919796, -0.        ,  0.10185116],\n",
       "       [ 0.21974034,  0.18848582,  0.12963211,  0.10185116, -0.        ]])"
      ]
     },
     "execution_count": 20,
     "metadata": {},
     "output_type": "execute_result"
    }
   ],
   "source": [
    "seq1=\"CGGGCATAACGTAGAGGGCAGGCATAACGAAGGAGGTAGGCA\"\n",
    "seq2=\"CGGGCTTAACGTAGAGGGCAGGCATAACGAAGGAGGTAGGCA\"\n",
    "seq3=\"CGGGCTTAACGTAGAGCGCAGGCATCACGAAGGGGGTAGGCA\"\n",
    "seq4=\"CGAGCTTAACGTAGAGCGCAGTCATCACGAAGGGGGTAGGCA\"\n",
    "seq5=\"CGCGCTTAACGTAGAGCGCAGTCATCACGAAGCCGGTAGGCT\"\n",
    "seqs = [seq1,seq2,seq3,seq4,seq5]\n",
    "def f(x,y):\n",
    "    score = 0\n",
    "    n = len(x)\n",
    "    for i in range(n):\n",
    "        if x[i]!=y[i]: score +=1\n",
    "    f = score/n\n",
    "    return(f)\n",
    "def jk(f):\n",
    "    d=-3/4*np.log(1-f*4/3)\n",
    "    return(d)\n",
    "\n",
    "d = np.zeros((5,5)) # d at first is full of zeros\n",
    "for i in range(5):\n",
    "    for j in range(5):\n",
    "        fvalue = f(seqs[i],seqs[j])\n",
    "        d[i,j] = jk(fvalue)        \n",
    "d"
   ]
  },
  {
   "cell_type": "code",
   "execution_count": null,
   "metadata": {
    "slideshow": {
     "slide_type": "slide"
    }
   },
   "outputs": [],
   "source": []
  },
  {
   "cell_type": "code",
   "execution_count": null,
   "metadata": {
    "slideshow": {
     "slide_type": "slide"
    }
   },
   "outputs": [],
   "source": []
  },
  {
   "cell_type": "code",
   "execution_count": null,
   "metadata": {
    "slideshow": {
     "slide_type": "slide"
    }
   },
   "outputs": [],
   "source": []
  },
  {
   "cell_type": "markdown",
   "metadata": {
    "slideshow": {
     "slide_type": "slide"
    }
   },
   "source": [
    "## Tarea OBLIGATORIA\n",
    "\n",
    "En la próxima clase usaremos un supercomputador de Amazon Web Services. \n",
    "\n",
    "Para conectarse al supercomputador usaremos la herramienta [SSH](https://en.wikipedia.org/wiki/Secure_Shell). \n",
    "\n",
    "Si estás trabajando desde:\n",
    "\n",
    "* Linux o Mac, ya tienes SSH instalado.\n",
    "* Windows, necesitas instalar [Cygwin](https://www.cygwin.com/)."
   ]
  },
  {
   "cell_type": "code",
   "execution_count": null,
   "metadata": {
    "slideshow": {
     "slide_type": "slide"
    }
   },
   "outputs": [],
   "source": []
  },
  {
   "cell_type": "code",
   "execution_count": null,
   "metadata": {},
   "outputs": [],
   "source": []
  },
  {
   "cell_type": "code",
   "execution_count": null,
   "metadata": {},
   "outputs": [],
   "source": []
  },
  {
   "cell_type": "code",
   "execution_count": null,
   "metadata": {},
   "outputs": [],
   "source": []
  }
 ],
 "metadata": {
  "celltoolbar": "Slideshow",
  "kernelspec": {
   "display_name": "Python 3 (ipykernel)",
   "language": "python",
   "name": "python3"
  },
  "language_info": {
   "codemirror_mode": {
    "name": "ipython",
    "version": 3
   },
   "file_extension": ".py",
   "mimetype": "text/x-python",
   "name": "python",
   "nbconvert_exporter": "python",
   "pygments_lexer": "ipython3",
   "version": "3.9.7"
  },
  "rise": {
   "enable_chalkboard": true,
   "scroll": true
  }
 },
 "nbformat": 4,
 "nbformat_minor": 4
}
