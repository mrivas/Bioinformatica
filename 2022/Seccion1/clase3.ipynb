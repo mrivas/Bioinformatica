{
 "cells": [
  {
   "cell_type": "markdown",
   "metadata": {
    "slideshow": {
     "slide_type": "slide"
    }
   },
   "source": [
    "# Parte 1: 9:40-11:10\n",
    "\n",
    "## Contenidos:\n",
    "* Pasar lista\n",
    "* Determinar patrones con posibles funciones biológicas\n",
    "* Implementar función para countar subsecuencias dentro de otra secuencia."
   ]
  },
  {
   "cell_type": "markdown",
   "metadata": {
    "slideshow": {
     "slide_type": "slide"
    }
   },
   "source": [
    "# Introducción\n",
    "\n",
    "\n",
    "Para ganar intuición, analizemos un problema fundamental de bioinformática: ¿en dónde está el origen de replicación del genoma bacteriano?\n",
    "\n",
    "<img src=\"https://raw.githubusercontent.com/mrivas/Bioinformatica/master/naive_replication.png\" alt=\"Drawing\" style=\"width: 400px;\"/>\n",
    "\n",
    "[Imagen de https://www.bioinformaticsalgorithms.org/](https://www.bioinformaticsalgorithms.org/bioinformatics-chapter-1)\n",
    "\n",
    "Hay una secuencia que es reconocida por la maquinaria transcripcional. Esa secuencia (puede haber más de una copia en el genoma) es donde comienza a replicarse el material genético."
   ]
  },
  {
   "cell_type": "markdown",
   "metadata": {
    "slideshow": {
     "slide_type": "slide"
    }
   },
   "source": [
    "Para encontrar tal secuencia, comenzemos por resolver problemas más simples que luego escalaremos para abarcar la complejidad del problema en cuestion. \n",
    "\n",
    "Dada una secuencia (genética, de texto, o lo que sea), empezemos por contar cuantas veces en ella está repetido un patrón. Por ejemplo, en la secuencia"
   ]
  },
  {
   "cell_type": "markdown",
   "metadata": {
    "slideshow": {
     "slide_type": "slide"
    }
   },
   "source": [
    "```python\n",
    "Secuencia=\"Hola, ¿como estas?. Hola, bien gracias. Y tú, ¿qué cuentas?\"\n",
    "```\n",
    "\n",
    "1 ¿Cuántas vences aparece el patrón\n",
    "\n",
    "```python\n",
    "\"Hola\"?\n",
    "```\n",
    "\n",
    "2 ¿Cuántas vences aparece el patrón\n",
    "\n",
    "```python\n",
    "\"as\"?\n",
    "```"
   ]
  },
  {
   "cell_type": "markdown",
   "metadata": {
    "slideshow": {
     "slide_type": "slide"
    }
   },
   "source": [
    "Para esto puedes usar el siguiente seudocódigo:\n",
    "\n",
    "```python\n",
    "PatternCount(Text, Pattern)\n",
    "    count ← 0\n",
    "    for i ← 0 to |Text| − |Pattern|\n",
    "        if Text(i, |Pattern|) = Pattern\n",
    "            count ← count + 1\n",
    "    return count\n",
    "```"
   ]
  },
  {
   "cell_type": "markdown",
   "metadata": {
    "slideshow": {
     "slide_type": "slide"
    }
   },
   "source": [
    "# Ejercicio1\n",
    "\n",
    "1. Implementar la funcion ```PatterCount``` de acuerdo al seudocódigo anterior.\n",
    "2. Usar ```PatterCount``` para determinar cuantas veces \"CA\" aparece en \"ACAC\".\n",
    "2. Usar ```PatterCount``` para determinar cuantas veces \"CATC\" aparece en \"ATCCATCGTATAGCGCATCCTGTAC\"."
   ]
  },
  {
   "cell_type": "code",
   "execution_count": 30,
   "metadata": {
    "slideshow": {
     "slide_type": "fragment"
    }
   },
   "outputs": [],
   "source": [
    "# Ejercicio 1\n",
    "def PatternCount(Text, Pattern): \n",
    "    count = 0\n",
    "    x = len(Text) - len(Pattern) + 1\n",
    "    lp = len(Pattern)\n",
    "    for i in range(x):\n",
    "        if Text[i:(i+lp)] == Pattern:\n",
    "            count = count + 1\n",
    "    return( count )"
   ]
  },
  {
   "cell_type": "code",
   "execution_count": 41,
   "metadata": {
    "slideshow": {
     "slide_type": "slide"
    }
   },
   "outputs": [
    {
     "data": {
      "text/plain": [
       "2"
      ]
     },
     "execution_count": 41,
     "metadata": {},
     "output_type": "execute_result"
    }
   ],
   "source": [
    "# Ejercicio 2\n",
    "PatternCount(\"ACACA\", \"CA\")"
   ]
  },
  {
   "cell_type": "code",
   "execution_count": 12,
   "metadata": {},
   "outputs": [
    {
     "data": {
      "text/plain": [
       "2"
      ]
     },
     "execution_count": 12,
     "metadata": {},
     "output_type": "execute_result"
    }
   ],
   "source": [
    "# Ejercicio 3\n",
    "Seq = \"ATCCATCGTATAGCGCATCCTGTAC\"\n",
    "Subseq = \"CATC\"\n",
    "PatternCount(Seq, Subseq)"
   ]
  },
  {
   "cell_type": "markdown",
   "metadata": {
    "slideshow": {
     "slide_type": "slide"
    }
   },
   "source": [
    "# Significancia estadistica de las secuencias encontradas\n",
    "\n",
    "Para saber si un patrón se encuentra enriquecido dentro de una secuencia genética, podemos usar como control el número de veces que ese patrón ocurriría al azar.\n",
    "\n",
    "Para esto podemos generar secuencias aleatorias y medir cuantas veces aparecen en ellas el patrón estudiado.\n",
    "\n",
    "Si al patrón aparece maś veces que con respecto a ese control, entonces tenemos evidencia de que el número de apariciones no es producto del azar."
   ]
  },
  {
   "cell_type": "code",
   "execution_count": 24,
   "metadata": {
    "slideshow": {
     "slide_type": "slide"
    }
   },
   "outputs": [
    {
     "data": {
      "text/plain": [
       "'GTTTACTGACCACCAATTGTATCACTGACATAGTGTGTGCCATCATGCGTGGCTCGCGTGGTGGCGGTCTTTAGTCGTGGGGGGCCGTGCAAACTTAACATGATTACCATACTAAGTTATTCTACTAATGCTGAATTCACCTGACCCGACGTATAATTTTAGGTTTGAGGTGTATGCGAGAGACGCGACTGCGCATATTTTACCTACGGTGCCACAAGGTGCCGGTAGTCAATTAATCTGGACCATTGTCAGGATATTGATGAGAATCCCTCTATGTGGGGACTATTCGCGGATTCTGTCACGCTCGCCGCGTTCAGTGGTTAAAGGTACGCAATAGATGCTAGATTTGTGGCGAAGAGGGATACTCAAAATAATACGCTTCATCTCTAGTAAAGATATACGAGCTATTGCTAAGTTAGTATACTCTTATTACCTAGCAAGGATTAAACAGTGGCTTTAGACTTACGGAACCAGCTTTCGTGATGCCGAAGCGCGTGCGGTACGTTTTAAGAGAGGATTATGGATTCGCGCAACTTACTTGCCAGGGCTTGAAAACGACTCACGCATTATACATTAACGTGCGAGCCCGATAGGCGAGTTTTACACGTCTTCCCCACATCGTCCCTAACTTTGATTATGTGGCAGGGCTCTCACTCTCCATTGCCCAATCTCAGGCGATCGTACATAAATTCAAGATATTGCTTTGCGGAGCACCCCCAAGAGTAGATATTATCAAATACACGCGGCATCAGCCAGTCGGCTTACGGCCATTCTTCTAGGTGCAATACGGAGAGTTGGCCCGATATTCTACCACATCGCGAAAATTAGCTGAGGCTCGCGCCCAAACTCTAAATTTGATTCCCAAATTCCCCGAGAACATCAAATCCCGACGGGAGACCAACGTATTGCATTCGACAAAGCCGAACCCCCTACCTGAGTATCTTACTATATGAGATACCTGCGTCGCTGCTGCGGGGTAGGCCTAACTTGGGGTAAGACG'"
      ]
     },
     "execution_count": 24,
     "metadata": {},
     "output_type": "execute_result"
    }
   ],
   "source": [
    "import random\n",
    "from matplotlib import pyplot as plt\n",
    "\n",
    "seq = random.choices(\"ACTG\",k=1000)\n",
    "seq = \"\".join(seq) # joins elements of a list\n",
    "seq"
   ]
  },
  {
   "cell_type": "code",
   "execution_count": 23,
   "metadata": {},
   "outputs": [],
   "source": [
    "counts = []\n",
    "for i in range(10)\n",
    "    counts.append(i)\n",
    "counts"
   ]
  },
  {
   "cell_type": "markdown",
   "metadata": {
    "slideshow": {
     "slide_type": "slide"
    }
   },
   "source": [
    "# Ejercicio\n",
    "\n",
    "La secuencia genética de 1000 bases:\n",
    "\n",
    "```x='AGAGGTTGATGCCGAAACTTATAAAGGCCACGAGCCGAGAACGTGCGCTTGGTAGCCCCCCAATGAAGATATACGCACTACAACAGCAGTTACACATGACCTCTGTCCTCTCAACCAGCTTGCGTGGCTCGGGTGTCAGGTTGTTAGATGTCCCTAATCTAAAGTGCGCAATTGTATCTCGCGGGCCCATACGGGGGTTGAGTTGATCGTATCGAATCGTTGGCTCGTCTCCGCATTCGACGAACGGACCTTGAGACATTGAGGCGAATATTGGTTTGCTCATCATCACATACTAACCCCAAAATGCTACCTCGTACGGGAAGGACGTCGCTGTGATGCCATAGTTATATCAGCAGTACTCTAGTAGATCAGTTAACGCCTTTATAGGACTCATTTGACGTTGCGATGGCCAGTGTGGCTCCGTCTGGGTCCGCACAAGGGACACACCTAAGTGGACCTGGAGCTGGTGTCCTGTGGACTGTCCTGTCGGAGCTAAAGGCAGCCTATGATTACCTTGCAATCTGAGCAATTTAAAAAACGACATCGGCCCCCGCGTAACATGTGCCGCGTCATATGCAGGCCGAAGCGCGACTAATTACAGCATAATTGCCACCGCCTGTTAAGTTCGCGGTTGTTCCATACGGTGTTTTAAGAGTAAAGGAAGGGGCGGGTAACGAATCGAGAATGGCCGAGACCTCGCTACTCTTACGTTCAAGAGAGGGTGTTGAGTTCCAGTCCGCCGTTCTGACGGCTACTGGTAGTCAAGCTCGGGTACCCTCAGCCGCTGTACGCGACTAGGCTTATTCTACCTAGGTGCTCCACCAGCGAATTGTTAGGACCGAGACCAATGTCTTCAGAGGTTAATGGTCATACTACCTTTATTAATTAGGCTAAGCACGCTAAGCCTACTCGTAGTGGGGTTCTTTTTTCAGCTGAGTATCGTGTTTCCTGTGCACCGGGAGTATGATCGTGCCTAGCGACCTGCTTGTAACCAGATTCC'```\n",
    "\n",
    "¿Dirías que el patrón ```ACT``` tiene una función biológica? \n",
    "\n",
    "1. Define un ciclo iterativo para crear 1000 secuencias genéticas aleatorias de largo 1000 bases.\n",
    "2. Por cada iteración calcula el número de veces que ocurre el patron \"ACT\".\n",
    "3. Haz un histograma de la distribución de los 1000 conteos de \"ACT\".\n",
    "\n"
   ]
  },
  {
   "cell_type": "code",
   "execution_count": 39,
   "metadata": {
    "slideshow": {
     "slide_type": "slide"
    }
   },
   "outputs": [
    {
     "name": "stdout",
     "output_type": "stream",
     "text": [
      "27\n"
     ]
    },
    {
     "data": {
      "image/png": "[encoded data removed]",
      "text/plain": [
       "<Figure size 432x288 with 1 Axes>"
      ]
     },
     "metadata": {
      "needs_background": "light"
     },
     "output_type": "display_data"
    }
   ],
   "source": [
    "subseq = \"ACT\"\n",
    "counts = []\n",
    "for i in range(1000):\n",
    "    seq = random.choices(\"ACTG\",k=1000)\n",
    "    seq = \"\".join(seq)\n",
    "    count = PatternCount(seq,subseq)\n",
    "    counts.append(count)\n",
    "\n",
    "plt.hist(counts,bins=20)\n",
    "\n",
    "x='AGAGGTTGATGCCACTGAAACTTATAAAGGCCACACTGAGCCGAGAACGTGCGCACTTTGGTAGCCCACTCCCACTAATGAACTAGATACTATACACTGCACACTTACAAACTCAGCACTAGTTACTACAACTCATGACTACCACTTCTACTGTCCTCTCAACCAGCTTGCGTGGCTCGGGTGTCAGGTTGTTAGATGTCCCTAATCTAAAGTGCGCAATTGTATCTCGCGGGCCCATACGGGGGTTGAGTTGATCGTATCGAATCGTTGGCTCGTCTCCGCATTCGACGAACGGACCTTGAGACATTGAGGCGAATATTGGTTTGCTCATCATCACATACTAACCCCAAAATGCTACCTCGTACGGGAAGGACGTCGCTGTGATGCCATAGTTATATCAGCAGTACTCTAGTAGATCAGTTAACGCCTTTATAGGACTCATTTGACGTTGCGATGGCCAGTGTGGCTCCGTCTGGGTCCGCACAAGGGACACACCTAAGTGGACCTGGAGCTGGTGTCCTGTGGACTGTCCTGTCGGAGCTAAAGGCAGCCTATGATTACCTTGCAATCTGAGCAATTTAAAAAACGACATCGGCCCCCGCGTAACATGTGCCGCGTCATATGCAGGCCGAAGCGCGACTAATTACAGCATAATTGCCACCGCCTGTTAAGTTCGCGGTTGTTCCATACGGTGTTTTAAGAGTAAAGGAAGGGGCGGGTAACGAATCGAGAATGGCCGAGACCTCGCTACTCTTACGTTCAAGAGAGGGTGTTGAGTTCCAGTCCGCCGTTCTGACGGCTACTGGTAGTCAAGCTCGGGTACCCTCAGCCGCTGTACGCGACTAGGCTTATTCTACCTAGGTGCTCCACCAGCGAATTGTTAGGACCGAGACCAATGTCTTCAGAGGTTAATGGTCATACTACCTTTATTAATTAGGCTAAGCACGCTAAGCCTACTCGTAGTGGGGTTCTTTTTTCAGCTGAGTATCGTGTTTCCTGTGCACCGGGAGTATGATCGTGCCTAGCGACCTGCTTGTAACCAGATTCC'\n",
    "count = PatternCount(x,subseq)\n",
    "print(count)\n",
    "\n",
    "plt.axvline(count,c=\"red\")\n",
    "plt.show()"
   ]
  },
  {
   "cell_type": "markdown",
   "metadata": {
    "slideshow": {
     "slide_type": "slide"
    }
   },
   "source": [
    "# Parte 2:  11:30 - 12:50\n",
    "\n",
    "\n",
    "Nuestra hipotesis será que aquellos patrones que tienen funciones biologicas son los que aparecen más veces de lo esperado en la secuencia (más adelante veremos como calificar una frecuencia como mayor a lo esperado). \n",
    "\n",
    "En la clase anterior ya obtuvimos una función para computar cuantas veces un patrón está presente en una secuencia. Ahora, necesitamos una función para determinar la frecuencia de un patrón cualquiera, del cual no sabemos de antemano ni su composición ni el número de letras. Por ejemplo, \n",
    "\n",
    "* en la secuencia ACA**ACTAT**GCAT**ACTAT**CGGGA**ACTAT**CCT, el patrón de 5 letras **ACTAT** es el más frecuente, apareciendo 3 veces. \n",
    "* Por otro lado, en la secuencia CG**ATATA**TCC**ATA**G, el patrón de 3 letras **ATA** es el más frecuente, apareciendo 3 veces."
   ]
  },
  {
   "cell_type": "markdown",
   "metadata": {
    "slideshow": {
     "slide_type": "slide"
    }
   },
   "source": [
    "Un ejemplo más biologico, el siguiente es una secuencia de Vibrio cholerae\n",
    "\n",
    "\n",
    "```\n",
    "atcaatgatcaacgtaagcttctaagcatgatcaaggtgctcacacagtttatccacaac\n",
    "ctgagtggatgacatcaagataggtcgttgtatctccttcctctcgtactctcatgacca\n",
    "cggaaagatgatcaagagaggatgatttcttggccatatcgcaatgaatacttgtgactt\n",
    "gtgcttccaattgacatcttcagcgccatattgcgctggccaaggtgacggagcgggatt\n",
    "acgaaagcatgatcatggctgttgttctgtttatcttgttttgactgagacttgttagga\n",
    "tagacggtttttcatcactgactagccaaagccttactctgcctgacatcgaccgtaaat\n",
    "tgataatgaatttacatgcttccgcgacgatttacctcttgatcatcgatccgattgaag\n",
    "atcttcaattgttaattctcttgcctcgactcatagccatgatgagctcttgatcatgtt\n",
    "tccttaaccctctattttttacggaagaatgatcaagctgctgctcttgatcatcgtttc\n",
    "```\n",
    "\n",
    "cuyos patrones más frecuentes son los siguientes:\n",
    "\n",
    "<img src=\"https://raw.githubusercontent.com/mrivas/Bioinformatica/master/table.png\" alt=\"Drawing\" style=\"width: 700px;\"/>"
   ]
  },
  {
   "cell_type": "markdown",
   "metadata": {
    "slideshow": {
     "slide_type": "slide"
    }
   },
   "source": [
    "Para lograr esto, dado un ```Texto``` (así llamaremos también a las secuencias) en el cual queremos buscar un patron de largo ```k```, podemos crear una lista llamada ```Count``` de tamaño\n",
    "\n",
    "```|Text| - k +1``` (es el número de sublistas de tamaño k en el Text), \n",
    "\n",
    "en cuya coordenada ```i``` guardamos el número de veces que se repite el patrón ubicado en ```Text[i:(i+k)]```.\n",
    "\n",
    "Por ejemplo, dado ```Text=\"ACTGACTCCCACCCC\"``` y ```k=3```, la lista ```Count``` es la siguiente.\n",
    "\n",
    "```\n",
    "Text: ACTGACTCCCACCCC\n",
    "Count:2111211311133\n",
    "```\n",
    "\n",
    "A continuación una implementación de ésta función en Python"
   ]
  },
  {
   "cell_type": "code",
   "execution_count": 49,
   "metadata": {
    "slideshow": {
     "slide_type": "slide"
    }
   },
   "outputs": [],
   "source": [
    "import numpy as np\n",
    "\n",
    "def FrequentWords(Text, k):\n",
    "    # 1. Crear la lista con el número de repeticiones\n",
    "    Count = [0]*( len(Text)-k+1 )\n",
    "    for i in range( len(Text) - k +1 ):\n",
    "        Pattern = Text[ i:(i+k)]\n",
    "        Count[i] = PatternCount(Text, Pattern) # PatternCount cuenta el número de veces \n",
    "                                               # que Pattern aparece en Text\n",
    "    # 2. Presentar solo las secuencias con maś repeticiones\n",
    "    maxCount = np.max(Count)\n",
    "    FrequentPatterns = set()\n",
    "    for i in range(len(Text) - k +1 ):\n",
    "        if Count[i] == maxCount:\n",
    "            FrequentPatterns.add( Text[i:(i+k)] )\n",
    "            \n",
    "    return( FrequentPatterns,maxCount ) #,Count"
   ]
  },
  {
   "cell_type": "code",
   "execution_count": 52,
   "metadata": {
    "slideshow": {
     "slide_type": "slide"
    }
   },
   "outputs": [
    {
     "data": {
      "text/plain": [
       "({'Hola, '}, 2)"
      ]
     },
     "execution_count": 52,
     "metadata": {},
     "output_type": "execute_result"
    }
   ],
   "source": [
    "# Verifiquemos\n",
    "Text=\"Hola, ¿como estas?. Hola, bien gracias. Y tú, ¿qué cuentas?\"\n",
    "k=6\n",
    "FrequentWords(Text, k) # Debería imprimir los patrones de 3 letras más frecuentes. Puede haber más de uno\n"
   ]
  },
  {
   "cell_type": "code",
   "execution_count": 56,
   "metadata": {
    "slideshow": {
     "slide_type": "slide"
    }
   },
   "outputs": [
    {
     "data": {
      "text/plain": [
       "({'atgatcaag', 'ctcttgatc', 'cttgatcat', 'tcttgatca'}, 3)"
      ]
     },
     "execution_count": 56,
     "metadata": {},
     "output_type": "execute_result"
    }
   ],
   "source": [
    "Text=\"atcaatgatcaacgtaagcttctaagcatgatcaaggtgctcacacagtttatccacaac\\\n",
    "ctgagtggatgacatcaagataggtcgttgtatctccttcctctcgtactctcatgacca\\\n",
    "cggaaagatgatcaagagaggatgatttcttggccatatcgcaatgaatacttgtgactt\\\n",
    "gtgcttccaattgacatcttcagcgccatattgcgctggccaaggtgacggagcgggatt\\\n",
    "acgaaagcatgatcatggctgttgttctgtttatcttgttttgactgagacttgttagga\\\n",
    "tagacggtttttcatcactgactagccaaagccttactctgcctgacatcgaccgtaaat\\\n",
    "tgataatgaatttacatgcttccgcgacgatttacctcttgatcatcgatccgattgaag\\\n",
    "atcttcaattgttaattctcttgcctcgactcatagccatgatgagctcttgatcatgtt\\\n",
    "tccttaaccctctattttttacggaagaatgatcaagctgctgctcttgatcatcgtttc\"\n",
    "k=9\n",
    "\n",
    "FrequentWords(Text, k)"
   ]
  },
  {
   "cell_type": "markdown",
   "metadata": {
    "slideshow": {
     "slide_type": "subslide"
    }
   },
   "source": [
    "### Ejercicio\n",
    "\n",
    "\n",
    "Usando la función FrequentWords, verifica que \n",
    "\n",
    "1. Dado Text=\"ACAACTATGCATACTATCGGGAACTATCCT\", el patrón de 5 letrás más común es \"ACTAT\"\n",
    "2. Dado Text=\"CGATATATCCATAG\", el patrón de 3 letras más común es \"ATA\"\n"
   ]
  },
  {
   "cell_type": "markdown",
   "metadata": {
    "slideshow": {
     "slide_type": "slide"
    }
   },
   "source": [
    "# Optimización del código\n",
    "\n",
    "\n",
    "Ya conseguimos nuestro objetivo de crear una herramienta para encontrar los patrones más comunes. Ésta funciona bien, pero no es muy eficiente. En ejemplos reales, en donde las secuencias genéticas tienen millones de bases, nuestra función es muy lenta. Utliza un ciclo for para recorrer la secuencia completa, pero por cada iteración del ciclo for llama a la función PatternCount, la que a su vez recorre nuevamente la secuencia completa, de principio a fin. \n",
    "\n",
    "Una manera más eficiente de hacer los calculos es almacenara el número de veces que ser recorre la secuencia no en una lista, sino en un diccionario. En python un diccionario se define de la siguiente manera:\n",
    "\n",
    "```python\n",
    "    x={} # a nuestro diccionario lo llamaremos x\n",
    "    x[\"secuencia1\"]=1\n",
    "    x[\"secuencia2\"]=3\n",
    "    x[\"secuencia1\"] = x[\"secuencia1\"] +1\n",
    "```\n",
    "\n"
   ]
  },
  {
   "cell_type": "markdown",
   "metadata": {
    "slideshow": {
     "slide_type": "slide"
    }
   },
   "source": [
    "Este es el seudo código para implementar esta mejora\n",
    "\n",
    "```python\n",
    "    FrequencyDicionary(Text, k)\n",
    "        freqMap ← empty map\n",
    "        n ← |Text|\n",
    "        for i ← 0 to n − k\n",
    "            Pattern ← Text(i, k)\n",
    "            if freqMap[Pattern] doesn't exist\n",
    "                freqMap[Pattern]← 1\n",
    "            else\n",
    "               freqMap[pattern] ←freqMap[pattern]+1 \n",
    "        return freqMap\n",
    "    \n",
    "    BetterFrequentWords(Text, k)\n",
    "        FrequentPatterns ← an array of strings of length 0\n",
    "        freqMap ← FrequencyDictionary(Text, k)\n",
    "        max ← MaxMap(freqMap)\n",
    "        for all strings Pattern in freqMap\n",
    "            if freqMap[pattern] = max\n",
    "                append Pattern to FrequentPatterns\n",
    "        return frequentPatterns    \n",
    "```    "
   ]
  },
  {
   "cell_type": "code",
   "execution_count": null,
   "metadata": {},
   "outputs": [],
   "source": []
  },
  {
   "cell_type": "code",
   "execution_count": null,
   "metadata": {},
   "outputs": [],
   "source": []
  },
  {
   "cell_type": "code",
   "execution_count": null,
   "metadata": {},
   "outputs": [],
   "source": []
  },
  {
   "cell_type": "markdown",
   "metadata": {},
   "source": [
    "# Ejercicio\n",
    "\n",
    "Implementa este nuevo algoritmo en Python\n",
    "\n",
    "```python\n",
    "\n",
    "Text=\"ACTGACTCCCACCCC\"\n",
    "k=3\n",
    "\n",
    "\n",
    "\n",
    "freqDic={}\n",
    "freqDic[\"CGA\"] = 2 # numero de veces que aparece en Text\n",
    "freqDic[\"GAT\"] = 1 # numero de veces que aparece en Text\n",
    "....\n",
    "freqDic[\"ATA\"] = 3\n",
    "\n",
    "len(freqDic) < len(Count) # ESTA ES LA PARTE IMPORTANTE. AL TENER MENOS ELEMENTOS freqDic,                           # HAY MENOS ITERACIONES QUE EFECTUAR LUEGO => NUESTRO ALGORITMO SERÍA MÁS EFICIENTE\n",
    "```    "
   ]
  },
  {
   "cell_type": "code",
   "execution_count": null,
   "metadata": {},
   "outputs": [],
   "source": []
  }
 ],
 "metadata": {
  "celltoolbar": "Slideshow",
  "kernelspec": {
   "display_name": "Python 3",
   "language": "python",
   "name": "python3"
  },
  "language_info": {
   "codemirror_mode": {
    "name": "ipython",
    "version": 3
   },
   "file_extension": ".py",
   "mimetype": "text/x-python",
   "name": "python",
   "nbconvert_exporter": "python",
   "pygments_lexer": "ipython3",
   "version": "3.8.10"
  }
 },
 "nbformat": 4,
 "nbformat_minor": 4
}
