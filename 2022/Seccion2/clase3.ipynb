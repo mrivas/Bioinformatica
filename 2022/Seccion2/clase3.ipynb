{
 "cells": [
  {
   "cell_type": "markdown",
   "metadata": {},
   "source": [
    "# Parte 1: 9:40-11:10\n",
    "\n",
    "## Contenidos:\n",
    "* Pasar lista\n",
    "* Determinar patrones con posibles funciones biológicas\n",
    "* Implementar función para countar subsecuencias dentro de otra secuencia."
   ]
  },
  {
   "cell_type": "markdown",
   "metadata": {},
   "source": [
    "# Introducción\n",
    "\n",
    "\n",
    "Para ganar intuición, analizemos un problema fundamental de bioinformática: ¿en dónde está el origen de replicación del genoma bacteriano?\n",
    "\n",
    "<img src=\"https://raw.githubusercontent.com/mrivas/Bioinformatica/master/naive_replication.png\" alt=\"Drawing\" style=\"width: 400px;\"/>\n",
    "\n",
    "[Imagen de https://www.bioinformaticsalgorithms.org/](https://www.bioinformaticsalgorithms.org/bioinformatics-chapter-1)\n",
    "\n",
    "Hay una secuencia que es reconocida por la maquinaria transcripcional. Esa secuencia (puede haber más de una copia en el genoma) es donde comienza a replicarse el material genético."
   ]
  },
  {
   "cell_type": "markdown",
   "metadata": {},
   "source": [
    "Para encontrar tal secuencia, comenzemos por resolver problemas más simples que luego escalaremos para abarcar la complejidad del problema en cuestion. \n",
    "\n",
    "Dada una secuencia (genética, de texto, o lo que sea), empezemos por contar cuantas veces en ella está repetido un patrón. Por ejemplo, en la secuencia"
   ]
  },
  {
   "cell_type": "markdown",
   "metadata": {},
   "source": [
    "```python\n",
    "Secuencia=\"Hola, ¿como estas?. Hola, bien gracias. Y tú, ¿qué cuentas?\"\n",
    "```\n",
    "\n",
    "1 ¿Cuántas vences aparece el patrón\n",
    "\n",
    "```python\n",
    "\"Hola\"?\n",
    "```\n",
    "\n",
    "2 ¿Cuántas vences aparece el patrón\n",
    "\n",
    "```python\n",
    "\"as\"?\n",
    "```"
   ]
  },
  {
   "cell_type": "markdown",
   "metadata": {},
   "source": [
    "Para esto puedes usar el siguiente seudocódigo:\n",
    "\n",
    "```python\n",
    "PatternCount(Text, Pattern)\n",
    "    count ← 0\n",
    "    for i ← 0 to |Text| − |Pattern|\n",
    "        if Text(i, |Pattern|) = Pattern\n",
    "            count ← count + 1\n",
    "    return count\n",
    "```"
   ]
  },
  {
   "cell_type": "markdown",
   "metadata": {},
   "source": [
    "# Ejercicio1\n",
    "\n",
    "1. Implementar la funcion ```PatterCount``` de acuerdo al seudocódigo anterior.\n",
    "2. Usar ```PatterCount``` para determinar cuantas veces \"CA\" aparece en \"ACAC\".\n",
    "2. Usar ```PatterCount``` para determinar cuantas veces \"CATC\" aparece en \"ATCCATCGTATAGCGCATCCTGTAC\"."
   ]
  },
  {
   "cell_type": "code",
   "execution_count": null,
   "metadata": {},
   "outputs": [],
   "source": []
  },
  {
   "cell_type": "code",
   "execution_count": null,
   "metadata": {},
   "outputs": [],
   "source": []
  },
  {
   "cell_type": "markdown",
   "metadata": {},
   "source": [
    "# Significancia estadistica de las secuencias encontradas\n",
    "\n",
    "Para saber si un patrón se encuentra enriquecido dentro de una secuencia genética, podemos usar como control el número de veces que ese patrón ocurriría al azar.\n",
    "\n",
    "Para esto podemos generar secuencias aleatorias y medir cuantas veces aparecen en ellas el patrón estudiado.\n",
    "\n",
    "Si al patrón aparece maś veces que con respecto a ese control, entonces tenemos evidencia de que el número de apariciones no es producto del azar."
   ]
  },
  {
   "cell_type": "code",
   "execution_count": 136,
   "metadata": {},
   "outputs": [],
   "source": [
    "import random\n",
    "from matplotlib import pyplot as plt\n",
    "\n",
    "seq = random.choices(\"ACTG\",k=1000)\n",
    "#seq"
   ]
  },
  {
   "cell_type": "code",
   "execution_count": 137,
   "metadata": {},
   "outputs": [
    {
     "data": {
      "text/plain": [
       "'GTACGCCACACTCGACAGCCCCAGCTGCACATTGGCCCCGCAGTGACACCTAGCGAATGGTAAGACCGGGGATGAGAACGTAATGATGGGGAAAATCTGTTCGCATAGCCCACGTATTGCCGCGTGCACGTCCTGGGTTCACTCCATCCGCTCCGGCGGGCTACCACCTTACCCACCCTTGGTTGCGTTCAATCAGCCCGACGCGGTGTACACACCGACCGTCATGTGTGCAACGTAAACATGACTCTGTTTAAGGGACGCTTGACAGATGTCGAGGCTCTTATTGGAAGTAATAAGTCTGCGAGAGTTCGGTTCGCATGCCAACGAGCATGCTAATCTTTGTGAACGAATCAAATCACGGTCCAGCATTAAGCGAACGATCGTTGGGTGCCCCGTGATCTGCGACGCAACATTGACCCTCATACTTGGAGAGAAGGGCAAATTACTAACTGCGTCTTCGTCTAGGTAACAGCCTGTGCCTTTGAGGCCTTGTGGCATTACCTTGCCGTTACTATTTGTACTTCGAAAGAGCCACTCTGACGTGAACAGGGATATTCATCCCTGAGACTATGCGCGCGGGGTAGAGTGTTTCCAAAATAATGGGTTGATCGTCGTTAAATCTGAGAGCATGGACCTGCTTTTACACACGAGACCGCCACCGATAGCACCTCTAAAATCCAGACCTCGTATGGTATGCGGAGAATGTGCGGACGTTAGTGACGGTTCTGCGGGCGTATCTGTTCTCGTGGGGCGTTTTGGATACGGACGCCAGTCTGAGCTGCGTGTCATCGACACTTACCTACTACGATCATGCTGCGCCGTGTACCTCTTTAGATAGGTCAGGGCAAGTTCGCCAAAAGACGTACAACTTATGCAATCGGTGCGCACCTACTGAGATAGGATCTGGAACTCCATCCGCAGCGGACGCGGATTGGAGACCGCACTGTTACATGCACCCTAGAAATTACTATGAAAGCAAGCCGAATCGTCTAGAACTCGC'"
      ]
     },
     "execution_count": 137,
     "metadata": {},
     "output_type": "execute_result"
    }
   ],
   "source": [
    "seq = \"\".join(seq)\n",
    "seq"
   ]
  },
  {
   "cell_type": "code",
   "execution_count": 138,
   "metadata": {},
   "outputs": [
    {
     "data": {
      "text/plain": [
       "18"
      ]
     },
     "execution_count": 138,
     "metadata": {},
     "output_type": "execute_result"
    }
   ],
   "source": [
    "PatternCount(seq,\"ACT\")"
   ]
  },
  {
   "cell_type": "markdown",
   "metadata": {},
   "source": [
    "# Ejercicio\n",
    "\n",
    "La secuencia genética de 1000 bases:\n",
    "\n",
    "```x='AGAGGTTGATGCCGAAACTTATAAAGGCCACGAGCCGAGAACGTGCGCTTGGTAGCCCCCCAATGAAGATATACGCACTACAACAGCAGTTACACATGACCTCTGTCCTCTCAACCAGCTTGCGTGGCTCGGGTGTCAGGTTGTTAGATGTCCCTAATCTAAAGTGCGCAATTGTATCTCGCGGGCCCATACGGGGGTTGAGTTGATCGTATCGAATCGTTGGCTCGTCTCCGCATTCGACGAACGGACCTTGAGACATTGAGGCGAATATTGGTTTGCTCATCATCACATACTAACCCCAAAATGCTACCTCGTACGGGAAGGACGTCGCTGTGATGCCATAGTTATATCAGCAGTACTCTAGTAGATCAGTTAACGCCTTTATAGGACTCATTTGACGTTGCGATGGCCAGTGTGGCTCCGTCTGGGTCCGCACAAGGGACACACCTAAGTGGACCTGGAGCTGGTGTCCTGTGGACTGTCCTGTCGGAGCTAAAGGCAGCCTATGATTACCTTGCAATCTGAGCAATTTAAAAAACGACATCGGCCCCCGCGTAACATGTGCCGCGTCATATGCAGGCCGAAGCGCGACTAATTACAGCATAATTGCCACCGCCTGTTAAGTTCGCGGTTGTTCCATACGGTGTTTTAAGAGTAAAGGAAGGGGCGGGTAACGAATCGAGAATGGCCGAGACCTCGCTACTCTTACGTTCAAGAGAGGGTGTTGAGTTCCAGTCCGCCGTTCTGACGGCTACTGGTAGTCAAGCTCGGGTACCCTCAGCCGCTGTACGCGACTAGGCTTATTCTACCTAGGTGCTCCACCAGCGAATTGTTAGGACCGAGACCAATGTCTTCAGAGGTTAATGGTCATACTACCTTTATTAATTAGGCTAAGCACGCTAAGCCTACTCGTAGTGGGGTTCTTTTTTCAGCTGAGTATCGTGTTTCCTGTGCACCGGGAGTATGATCGTGCCTAGCGACCTGCTTGTAACCAGATTCC'```\n",
    "\n",
    "¿Dirías que el patrón ```ACT``` tiene una función biológica? \n",
    "\n",
    "1. Define un ciclo iterativo para crear 1000 secuencias genéticas aleatorias de largo 1000 bases.\n",
    "2. Por cada iteración calcula el número de veces que ocurre el patron \"ACT\".\n",
    "3. Haz un histograma de la distribución de los 1000 conteos de \"ACT\".\n",
    "\n"
   ]
  },
  {
   "cell_type": "code",
   "execution_count": 117,
   "metadata": {},
   "outputs": [],
   "source": []
  },
  {
   "cell_type": "code",
   "execution_count": null,
   "metadata": {},
   "outputs": [],
   "source": []
  },
  {
   "cell_type": "code",
   "execution_count": null,
   "metadata": {},
   "outputs": [],
   "source": []
  },
  {
   "cell_type": "markdown",
   "metadata": {},
   "source": [
    "# Parte 2:  11:30 - 12:50\n",
    "\n",
    "\n",
    "Nuestra hipotesis será que aquellos patrones que tienen funciones biologicas son los que aparecen más veces de lo esperado en la secuencia (más adelante veremos como calificar una frecuencia como mayor a lo esperado). \n",
    "\n",
    "En la clase anterior ya obtuvimos una función para computar cuantas veces un patrón está presente en una secuencia. Ahora, necesitamos una función para determinar la frecuencia de un patrón cualquiera, del cual no sabemos de antemano ni su composición ni el número de letras. Por ejemplo, \n",
    "\n",
    "* en la secuencia ACA**ACTAT**GCAT**ACTAT**CGGGA**ACTAT**CCT, el patrón de 5 letras **ACTAT** es el más frecuente, apareciendo 3 veces. \n",
    "* Por otro lado, en la secuencia CG**ATATA**TCC**ATA**G, el patrón de 3 letras **ATA** es el más frecuente, apareciendo 3 veces.\n",
    "\n",
    "Un ejemplo más biologico, el siguiente es una secuencia de Vibrio cholerae\n",
    "\n",
    "\n",
    "```\n",
    "atcaatgatcaacgtaagcttctaagcatgatcaaggtgctcacacagtttatccacaac\n",
    "ctgagtggatgacatcaagataggtcgttgtatctccttcctctcgtactctcatgacca\n",
    "cggaaagatgatcaagagaggatgatttcttggccatatcgcaatgaatacttgtgactt\n",
    "gtgcttccaattgacatcttcagcgccatattgcgctggccaaggtgacggagcgggatt\n",
    "acgaaagcatgatcatggctgttgttctgtttatcttgttttgactgagacttgttagga\n",
    "tagacggtttttcatcactgactagccaaagccttactctgcctgacatcgaccgtaaat\n",
    "tgataatgaatttacatgcttccgcgacgatttacctcttgatcatcgatccgattgaag\n",
    "atcttcaattgttaattctcttgcctcgactcatagccatgatgagctcttgatcatgtt\n",
    "tccttaaccctctattttttacggaagaatgatcaagctgctgctcttgatcatcgtttc\n",
    "```\n",
    "\n",
    "cuyos patrones más frecuentes son los siguientes:\n",
    "\n",
    "<img src=\"https://raw.githubusercontent.com/mrivas/Bioinformatica/master/table.png\" alt=\"Drawing\" style=\"width: 700px;\"/>\n",
    "\n",
    "\n",
    "\n",
    "Para lograr esto, dado un ```Texto``` (así llamaremos también a las secuencias) en el cual queremos buscar un patron de largo ```k```, podemos crear una lista llamada ```Count``` de tamaño\n",
    "\n",
    "```|Text| - k +1``` (es el número de sublistas de tamaño k en el Text), \n",
    "\n",
    "en cuya coordenada ```i``` guardamos el número de veces que se repite el patrón ubicado en ```Text[i:(i+k)]```.\n",
    "\n",
    "Por ejemplo, dado ```Text=\"ACTGACTCCCACCCC\"``` y ```k=3```, la lista ```Count``` es la siguiente.\n",
    "\n",
    "```\n",
    "Text: ACTGACTCCCACCCC\n",
    "Count:2111211311133\n",
    "```\n",
    "\n",
    "A continuación una implementación de ésta función en Python"
   ]
  },
  {
   "cell_type": "code",
   "execution_count": 149,
   "metadata": {},
   "outputs": [],
   "source": [
    "import numpy as np\n",
    "\n",
    "def FrequentWords(Text, k):\n",
    "    # 1. Crear la lista con el número de repeticiones\n",
    "    Count = [0]*( len(Text)-k+1 )\n",
    "    for i in range( len(Text) - k +1 ):\n",
    "        Pattern = Text[ i:(i+k)]\n",
    "        Count[i] = PatternCount(Text, Pattern) # PatternCount cuenta el número de veces \n",
    "                                               # que Pattern aparece en Text\n",
    "    # 2. Presentar solo las secuencias con maś repeticiones\n",
    "    maxCount = np.max(Count)\n",
    "    FrequentPatterns = set()\n",
    "    for i in range(len(Text) - k +1 ):\n",
    "        if Count[i] == maxCount:\n",
    "            FrequentPatterns.add( Text[i:(i+k)] )\n",
    "            \n",
    "    return( FrequentPatterns,maxCount ) #,Count"
   ]
  },
  {
   "cell_type": "code",
   "execution_count": 148,
   "metadata": {},
   "outputs": [
    {
     "data": {
      "text/plain": [
       "({'Hola, '}, 2)"
      ]
     },
     "execution_count": 148,
     "metadata": {},
     "output_type": "execute_result"
    }
   ],
   "source": [
    "# Verifiquemos\n",
    "Text=\"Hola, ¿como estas?. Hola, bien gracias. Y tú, ¿qué cuentas?\"\n",
    "k=6\n",
    "FrequentWords(Text, k) # Debería imprimir los patrones de 3 letras más frecuentes. Puede haber más de uno\n"
   ]
  },
  {
   "cell_type": "code",
   "execution_count": 144,
   "metadata": {},
   "outputs": [
    {
     "data": {
      "text/plain": [
       "({'atgatcaag', 'ctcttgatc', 'cttgatcat', 'tcttgatca'}, 3)"
      ]
     },
     "execution_count": 144,
     "metadata": {},
     "output_type": "execute_result"
    }
   ],
   "source": [
    "Text=\"atcaatgatcaacgtaagcttctaagcatgatcaaggtgctcacacagtttatccacaac\\\n",
    "ctgagtggatgacatcaagataggtcgttgtatctccttcctctcgtactctcatgacca\\\n",
    "cggaaagatgatcaagagaggatgatttcttggccatatcgcaatgaatacttgtgactt\\\n",
    "gtgcttccaattgacatcttcagcgccatattgcgctggccaaggtgacggagcgggatt\\\n",
    "acgaaagcatgatcatggctgttgttctgtttatcttgttttgactgagacttgttagga\\\n",
    "tagacggtttttcatcactgactagccaaagccttactctgcctgacatcgaccgtaaat\\\n",
    "tgataatgaatttacatgcttccgcgacgatttacctcttgatcatcgatccgattgaag\\\n",
    "atcttcaattgttaattctcttgcctcgactcatagccatgatgagctcttgatcatgtt\\\n",
    "tccttaaccctctattttttacggaagaatgatcaagctgctgctcttgatcatcgtttc\"\n",
    "k=9\n",
    "\n",
    "FrequentWords(Text, k)"
   ]
  },
  {
   "cell_type": "markdown",
   "metadata": {},
   "source": [
    "### Ejercicio\n",
    "\n",
    "\n",
    "Usando la función FrequentWords, verifica que \n",
    "\n",
    "1. Dado Text=\"ACAACTATGCATACTATCGGGAACTATCCT\", el patrón de 5 letrás más común es \"ACTAT\"\n",
    "2. Dado Text=\"CGATATATCCATAG\", el patrón de 3 letras más común es \"ATA\"\n"
   ]
  },
  {
   "cell_type": "markdown",
   "metadata": {},
   "source": [
    "# Optimización del código\n",
    "\n",
    "\n",
    "Ya conseguimos nuestro objetivo de crear una herramienta para encontrar los patrones más comunes. Ésta funciona bien, pero no es muy eficiente. En ejemplos reales, en donde las secuencias genéticas tienen millones de bases, nuestra función es muy lenta. Utliza un ciclo for para recorrer la secuencia completa, pero por cada iteración del ciclo for llama a la función PatternCount, la que a su vez recorre nuevamente la secuencia completa, de principio a fin. \n",
    "\n",
    "Una manera más eficiente de hacer los calculos es almacenara el número de veces que ser recorre la secuencia no en una lista, sino en un diccionario. En python un diccionario se define de la siguiente manera:\n",
    "\n",
    "```python\n",
    "    x={} # a nuestro diccionario lo llamaremos x\n",
    "    x[\"secuencia1\"]=1\n",
    "    x[\"secuencia2\"]=3\n",
    "    x[\"secuencia1\"] = x[\"secuencia1\"] +1\n",
    "```\n",
    "\n"
   ]
  },
  {
   "cell_type": "markdown",
   "metadata": {},
   "source": [
    "Este es el seudo código para implementar esta mejora\n",
    "\n",
    "```python\n",
    "    FrequencyDicionary(Text, k)\n",
    "        freqMap ← empty map\n",
    "        n ← |Text|\n",
    "        for i ← 0 to n − k\n",
    "            Pattern ← Text(i, k)\n",
    "            if freqMap[Pattern] doesn't exist\n",
    "                freqMap[Pattern]← 1\n",
    "            else\n",
    "               freqMap[pattern] ←freqMap[pattern]+1 \n",
    "        return freqMap\n",
    "    \n",
    "    BetterFrequentWords(Text, k)\n",
    "        FrequentPatterns ← an array of strings of length 0\n",
    "        freqMap ← FrequencyDictionary(Text, k)\n",
    "        max ← MaxMap(freqMap)\n",
    "        for all strings Pattern in freqMap\n",
    "            if freqMap[pattern] = max\n",
    "                append Pattern to FrequentPatterns\n",
    "        return frequentPatterns    \n",
    "```    "
   ]
  },
  {
   "cell_type": "code",
   "execution_count": 175,
   "metadata": {},
   "outputs": [],
   "source": [
    "\n",
    "    "
   ]
  },
  {
   "cell_type": "code",
   "execution_count": 176,
   "metadata": {},
   "outputs": [],
   "source": []
  },
  {
   "cell_type": "code",
   "execution_count": 177,
   "metadata": {},
   "outputs": [
    {
     "data": {
      "text/plain": [
       "(['AC'], 2)"
      ]
     },
     "execution_count": 177,
     "metadata": {},
     "output_type": "execute_result"
    }
   ],
   "source": []
  },
  {
   "cell_type": "markdown",
   "metadata": {},
   "source": [
    "# Ejercicio\n",
    "\n",
    "Implementa este nuevo algoritmo en Python\n",
    "\n",
    "```python\n",
    "\n",
    "Text=\"ACTGACTCCCACCCC\"\n",
    "k=3\n",
    "\n",
    "\n",
    "\n",
    "freqDic={}\n",
    "freqDic[\"CGA\"] = 2 # numero de veces que aparece en Text\n",
    "freqDic[\"GAT\"] = 1 # numero de veces que aparece en Text\n",
    "....\n",
    "freqDic[\"ATA\"] = 3\n",
    "\n",
    "len(freqDic) < len(Count) # ESTA ES LA PARTE IMPORTANTE. AL TENER MENOS ELEMENTOS freqDic,                           # HAY MENOS ITERACIONES QUE EFECTUAR LUEGO => NUESTRO ALGORITMO SERÍA MÁS EFICIENTE\n",
    "```    "
   ]
  },
  {
   "cell_type": "code",
   "execution_count": null,
   "metadata": {},
   "outputs": [],
   "source": []
  }
 ],
 "metadata": {
  "kernelspec": {
   "display_name": "Python 3",
   "language": "python",
   "name": "python3"
  },
  "language_info": {
   "codemirror_mode": {
    "name": "ipython",
    "version": 3
   },
   "file_extension": ".py",
   "mimetype": "text/x-python",
   "name": "python",
   "nbconvert_exporter": "python",
   "pygments_lexer": "ipython3",
   "version": "3.8.10"
  }
 },
 "nbformat": 4,
 "nbformat_minor": 4
}
